{
  "cells": [
    {
      "cell_type": "markdown",
      "source": [
        "# Reading `nomisma.org` data for CRRO\n",
        "\n",
        "This notebook shows you how to load data for the *Coinage of the Roman Republic Online* (CRRO) from `nomisma.org`'s RDF format and from delimited text files built from the RDF source.  It uses version `2.0.1` of the `nomisma` library.\n",
        "\n",
        "## Configure Jupyter notebook\n",
        "\n",
        "Configure the notebook to find the `nomisma` library.  (You could do the same thing in other environments with `sbt` or `maven`.)"
      ],
      "metadata": {}
    },
    {
      "cell_type": "code",
      "source": [
        "// 1. Add maven repository where we https://hub.gke.mybinder.org/user/neelsmith-nomisma-pwjvmfpa/notebooks/Untitled.ipynb?kernel_name=scala212#can find our libraries\n",
        "val myBT = coursierapi.MavenRepository.of(\"https://dl.bintray.com/neelsmith/maven\")\n",
        "interp.repositories() ++= Seq(myBT)"
      ],
      "outputs": [
        {
          "output_type": "execute_result",
          "execution_count": 1,
          "data": {
            "text/plain": [
              "\u001b[36mmyBT\u001b[39m: \u001b[32mcoursierapi\u001b[39m.\u001b[32mMavenRepository\u001b[39m = MavenRepository(https://dl.bintray.com/neelsmith/maven)"
            ]
          },
          "metadata": {}
        }
      ],
      "execution_count": 1,
      "metadata": {}
    },
    {
      "cell_type": "code",
      "source": [
        "// 2. Make libraries available with `$ivy` imports:\n",
        "import $ivy.`edu.holycross.shot::nomisma:2.0.1`"
      ],
      "outputs": [
        {
          "output_type": "execute_result",
          "execution_count": 2,
          "data": {
            "text/plain": [
              "\u001b[32mimport \u001b[39m\u001b[36m$ivy.$                                  \u001b[39m"
            ]
          },
          "metadata": {}
        }
      ],
      "execution_count": 2,
      "metadata": {}
    },
    {
      "cell_type": "markdown",
      "source": [
        "## Load and parse RDF data\n",
        "\n",
        "Load and parse RDF data from nomisma.org."
      ],
      "metadata": {}
    },
    {
      "cell_type": "code",
      "source": [
        "import edu.holycross.shot.nomisma._\n",
        "val rdf = \"http://numismatics.org/crro/nomisma.rdf\"\n",
        "val crro = CrroSource.fromRdfUrl(rdf, 200)\n",
        "\n",
        "println(\"Downloaded data constructed \" + crro.size + \" issues.\")"
      ],
      "outputs": [],
      "execution_count": null,
      "metadata": {}
    },
    {
      "cell_type": "markdown",
      "source": [
        "## Load and parse delimited-text data\n",
        "\n",
        "Load the CRRO data set from a `.cex` file in github repository."
      ],
      "metadata": {}
    },
    {
      "cell_type": "code",
      "source": [
        "val crroCex = \"https://raw.githubusercontent.com/neelsmith/nomisma/master/cex/crro-2019-12-03.cex\"\n",
        "val crro = OcreSource.fromUrl(crroCex)\n",
        "\n",
        "// Check results:\n",
        "require(crro.size > 2000)   "
      ],
      "outputs": [],
      "execution_count": null,
      "metadata": {}
    }
  ],
  "metadata": {
    "kernelspec": {
      "name": "scala",
      "language": "scala",
      "display_name": "Scala"
    },
    "language_info": {
      "name": "scala",
      "version": "2.12.10",
      "mimetype": "text/x-scala",
      "file_extension": ".scala",
      "nbconvert_exporter": "script",
      "codemirror_mode": "text/x-scala"
    },
    "kernel_info": {
      "name": "scala"
    },
    "nteract": {
      "version": "0.15.0"
    }
  },
  "nbformat": 4,
  "nbformat_minor": 2
}