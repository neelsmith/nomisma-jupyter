{
 "cells": [
  {
   "cell_type": "markdown",
   "metadata": {},
   "source": [
    "# Reading `nomisma.org` data for CRRO\n",
    "\n",
    "This notebook shows you how to load data for the *Coinage of the Roman Republic Online* (CRRO) from `nomisma.org`'s RDF format and from delimited text files built from the RDF source.  It uses version `1.8.0` of the `nomisma` library.\n",
    "\n",
    "## Configure Jupyter notebook\n",
    "\n",
    "Configure the notebook to find the `nomisma` library.  (You could do the same thing in other environments with `sbt` or `maven`.)"
   ]
  },
  {
   "cell_type": "code",
   "execution_count": null,
   "metadata": {},
   "outputs": [],
   "source": [
    "// 1. Add maven repository where we https://hub.gke.mybinder.org/user/neelsmith-nomisma-pwjvmfpa/notebooks/Untitled.ipynb?kernel_name=scala212#can find our libraries\n",
    "val myBT = coursierapi.MavenRepository.of(\"https://dl.bintray.com/neelsmith/maven\")\n",
    "interp.repositories() ++= Seq(myBT)"
   ]
  },
  {
   "cell_type": "code",
   "execution_count": null,
   "metadata": {},
   "outputs": [],
   "source": [
    "// 2. Make libraries available with `$ivy` imports:\n",
    "import $ivy.`edu.holycross.shot::nomisma:1.8.0`"
   ]
  },
  {
   "cell_type": "markdown",
   "metadata": {},
   "source": [
    "## Load and parse RDF data\n",
    "\n",
    "Load and parse RDF data from nomisma.org."
   ]
  },
  {
   "cell_type": "code",
   "execution_count": null,
   "metadata": {},
   "outputs": [],
   "source": [
    "import edu.holycross.shot.nomisma._\n",
    "val rdf = \"http://numismatics.org/crro/nomisma.rdf\"\n",
    "val crro = CrroSource.fromRdfUrl(rdf, 200)\n",
    "\n",
    "println(\"Downloaded data constructed \" + crro.size + \" issues.\")"
   ]
  },
  {
   "cell_type": "markdown",
   "metadata": {},
   "source": [
    "## Load and parse delimited-text data\n",
    "\n",
    "Load the CRRO data set from a `.cex` file in github repository."
   ]
  },
  {
   "cell_type": "code",
   "execution_count": null,
   "metadata": {},
   "outputs": [],
   "source": [
    "val crroCex = \"https://raw.githubusercontent.com/neelsmith/nomisma/master/cex/crro-2019-12-03.cex\"\n",
    "val crro = OcreSource.fromUrl(crroCex)\n",
    "\n",
    "// Check results:\n",
    "require(ocre.size > 2000)   "
   ]
  }
 ],
 "metadata": {
  "kernelspec": {
   "display_name": "Scala 2.12",
   "language": "scala",
   "name": "scala212"
  },
  "language_info": {
   "codemirror_mode": "text/x-scala",
   "file_extension": ".scala",
   "mimetype": "text/x-scala",
   "name": "scala",
   "nbconvert_exporter": "script",
   "version": "2.12.10"
  }
 },
 "nbformat": 4,
 "nbformat_minor": 2
}
