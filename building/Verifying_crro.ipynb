{
 "cells": [
  {
   "cell_type": "markdown",
   "metadata": {},
   "source": [
    "# Verifying data in CRRO\n",
    "\n",
    "This notebook shows you how to load CRRO data from a CEX file over the internet, and verify its contents.  It uses version `1.8.0` of the `nomisma` library."
   ]
  },
  {
   "cell_type": "markdown",
   "metadata": {},
   "source": [
    "\n",
    "## Configure Jupyter notebook\n",
    "\n",
    "First configure the Jupyter notebook to find the `nomisma` library.  (You could do the same thing in other environments with `sbt` or `maven`.)"
   ]
  },
  {
   "cell_type": "code",
   "execution_count": 1,
   "metadata": {},
   "outputs": [
    {
     "data": {
      "text/plain": [
       "\u001b[36mmyBT\u001b[39m: \u001b[32mcoursierapi\u001b[39m.\u001b[32mMavenRepository\u001b[39m = MavenRepository(https://dl.bintray.com/neelsmith/maven)"
      ]
     },
     "execution_count": 1,
     "metadata": {},
     "output_type": "execute_result"
    }
   ],
   "source": [
    "// 1. Add maven repository where we can find our libraries\n",
    "val myBT = coursierapi.MavenRepository.of(\"https://dl.bintray.com/neelsmith/maven\")\n",
    "interp.repositories() ++= Seq(myBT)"
   ]
  },
  {
   "cell_type": "code",
   "execution_count": 2,
   "metadata": {
    "collapsed": true
   },
   "outputs": [
    {
     "name": "stderr",
     "output_type": "stream",
     "text": [
      "Downloading https://repo1.maven.org/maven2/edu/holycross/shot/nomisma_2.12/1.8.0/nomisma_2.12-1.8.0.pom\n",
      "Downloaded https://repo1.maven.org/maven2/edu/holycross/shot/nomisma_2.12/1.8.0/nomisma_2.12-1.8.0.pom\n",
      "Downloading https://repo1.maven.org/maven2/edu/holycross/shot/nomisma_2.12/1.8.0/nomisma_2.12-1.8.0.pom.sha1\n",
      "Downloaded https://repo1.maven.org/maven2/edu/holycross/shot/nomisma_2.12/1.8.0/nomisma_2.12-1.8.0.pom.sha1\n",
      "Downloading https://dl.bintray.com/neelsmith/maven/edu/holycross/shot/nomisma_2.12/1.8.0/nomisma_2.12-1.8.0.pom\n",
      "Downloaded https://dl.bintray.com/neelsmith/maven/edu/holycross/shot/nomisma_2.12/1.8.0/nomisma_2.12-1.8.0.pom\n",
      "Downloading https://repo1.maven.org/maven2/edu/holycross/shot/cite/xcite_2.12/4.1.1/xcite_2.12-4.1.1.pom\n",
      "Downloading https://repo1.maven.org/maven2/org/scala-lang/modules/scala-xml_2.12/1.0.6/scala-xml_2.12-1.0.6.pom\n",
      "Downloading https://repo1.maven.org/maven2/org/wvlet/airframe/airframe-log_2.12/19.8.10/airframe-log_2.12-19.8.10.pom\n",
      "Downloading https://repo1.maven.org/maven2/edu/holycross/shot/ohco2_2.12/10.16.0/ohco2_2.12-10.16.0.pom\n",
      "Downloading https://repo1.maven.org/maven2/edu/holycross/shot/histoutils_2.12/2.2.0/histoutils_2.12-2.2.0.pom\n",
      "Downloading https://repo1.maven.org/maven2/org/scala-lang/scala-library/2.12.4/scala-library-2.12.4.pom\n",
      "Downloaded https://repo1.maven.org/maven2/edu/holycross/shot/cite/xcite_2.12/4.1.1/xcite_2.12-4.1.1.pom\n",
      "Downloading https://repo1.maven.org/maven2/edu/holycross/shot/cite/xcite_2.12/4.1.1/xcite_2.12-4.1.1.pom.sha1\n",
      "Downloaded https://repo1.maven.org/maven2/edu/holycross/shot/cite/xcite_2.12/4.1.1/xcite_2.12-4.1.1.pom.sha1\n",
      "Downloading https://dl.bintray.com/neelsmith/maven/edu/holycross/shot/cite/xcite_2.12/4.1.1/xcite_2.12-4.1.1.pom\n",
      "Downloaded https://repo1.maven.org/maven2/edu/holycross/shot/histoutils_2.12/2.2.0/histoutils_2.12-2.2.0.pom\n",
      "Downloading https://repo1.maven.org/maven2/edu/holycross/shot/histoutils_2.12/2.2.0/histoutils_2.12-2.2.0.pom.sha1\n",
      "Downloaded https://repo1.maven.org/maven2/edu/holycross/shot/ohco2_2.12/10.16.0/ohco2_2.12-10.16.0.pom\n",
      "Downloading https://repo1.maven.org/maven2/edu/holycross/shot/ohco2_2.12/10.16.0/ohco2_2.12-10.16.0.pom.sha1\n",
      "Downloaded https://repo1.maven.org/maven2/edu/holycross/shot/histoutils_2.12/2.2.0/histoutils_2.12-2.2.0.pom.sha1\n",
      "Downloading https://dl.bintray.com/neelsmith/maven/edu/holycross/shot/histoutils_2.12/2.2.0/histoutils_2.12-2.2.0.pom\n",
      "Downloaded https://repo1.maven.org/maven2/edu/holycross/shot/ohco2_2.12/10.16.0/ohco2_2.12-10.16.0.pom.sha1\n",
      "Downloading https://dl.bintray.com/neelsmith/maven/edu/holycross/shot/ohco2_2.12/10.16.0/ohco2_2.12-10.16.0.pom\n",
      "Downloaded https://repo1.maven.org/maven2/org/scala-lang/scala-library/2.12.4/scala-library-2.12.4.pom\n",
      "Downloaded https://repo1.maven.org/maven2/org/wvlet/airframe/airframe-log_2.12/19.8.10/airframe-log_2.12-19.8.10.pom\n",
      "Downloaded https://repo1.maven.org/maven2/org/scala-lang/modules/scala-xml_2.12/1.0.6/scala-xml_2.12-1.0.6.pom\n",
      "Downloaded https://dl.bintray.com/neelsmith/maven/edu/holycross/shot/cite/xcite_2.12/4.1.1/xcite_2.12-4.1.1.pom\n",
      "Downloaded https://dl.bintray.com/neelsmith/maven/edu/holycross/shot/ohco2_2.12/10.16.0/ohco2_2.12-10.16.0.pom\n",
      "Downloaded https://dl.bintray.com/neelsmith/maven/edu/holycross/shot/histoutils_2.12/2.2.0/histoutils_2.12-2.2.0.pom\n",
      "Downloading https://repo1.maven.org/maven2/edu/holycross/shot/seqcomp_2.12/1.0.0/seqcomp_2.12-1.0.0.pom\n",
      "Downloading https://repo1.maven.org/maven2/ch/qos/logback/logback-core/1.2.3/logback-core-1.2.3.pom\n",
      "Downloading https://repo1.maven.org/maven2/org/scala-lang/modules/scala-collection-compat_2.12/2.1.1/scala-collection-compat_2.12-2.1.1.pom\n",
      "Downloading https://repo1.maven.org/maven2/org/scala-lang/scala-library/2.12.8/scala-library-2.12.8.pom\n",
      "Downloading https://repo1.maven.org/maven2/edu/holycross/shot/cex_2.12/6.3.3/cex_2.12-6.3.3.pom\n",
      "Downloaded https://repo1.maven.org/maven2/edu/holycross/shot/cex_2.12/6.3.3/cex_2.12-6.3.3.pom\n",
      "Downloading https://repo1.maven.org/maven2/edu/holycross/shot/cex_2.12/6.3.3/cex_2.12-6.3.3.pom.sha1\n",
      "Downloaded https://repo1.maven.org/maven2/edu/holycross/shot/seqcomp_2.12/1.0.0/seqcomp_2.12-1.0.0.pom\n",
      "Downloading https://repo1.maven.org/maven2/edu/holycross/shot/seqcomp_2.12/1.0.0/seqcomp_2.12-1.0.0.pom.sha1\n",
      "Downloaded https://repo1.maven.org/maven2/edu/holycross/shot/cex_2.12/6.3.3/cex_2.12-6.3.3.pom.sha1\n",
      "Downloading https://dl.bintray.com/neelsmith/maven/edu/holycross/shot/cex_2.12/6.3.3/cex_2.12-6.3.3.pom\n",
      "Downloaded https://repo1.maven.org/maven2/org/scala-lang/scala-library/2.12.8/scala-library-2.12.8.pom\n",
      "Downloaded https://repo1.maven.org/maven2/ch/qos/logback/logback-core/1.2.3/logback-core-1.2.3.pom\n",
      "Downloaded https://repo1.maven.org/maven2/org/scala-lang/modules/scala-collection-compat_2.12/2.1.1/scala-collection-compat_2.12-2.1.1.pom\n",
      "Downloaded https://repo1.maven.org/maven2/edu/holycross/shot/seqcomp_2.12/1.0.0/seqcomp_2.12-1.0.0.pom.sha1\n",
      "Downloading https://dl.bintray.com/neelsmith/maven/edu/holycross/shot/seqcomp_2.12/1.0.0/seqcomp_2.12-1.0.0.pom\n",
      "Downloaded https://dl.bintray.com/neelsmith/maven/edu/holycross/shot/cex_2.12/6.3.3/cex_2.12-6.3.3.pom\n",
      "Downloaded https://dl.bintray.com/neelsmith/maven/edu/holycross/shot/seqcomp_2.12/1.0.0/seqcomp_2.12-1.0.0.pom\n",
      "Downloading https://repo1.maven.org/maven2/ch/qos/logback/logback-parent/1.2.3/logback-parent-1.2.3.pom\n",
      "Downloaded https://repo1.maven.org/maven2/ch/qos/logback/logback-parent/1.2.3/logback-parent-1.2.3.pom\n",
      "Downloading https://repo1.maven.org/maven2/ch/qos/logback/logback-core/1.2.3/logback-core-1.2.3.jar\n",
      "Downloading https://repo1.maven.org/maven2/org/scala-lang/modules/scala-collection-compat_2.12/2.1.1/scala-collection-compat_2.12-2.1.1.jar\n",
      "Downloading https://dl.bintray.com/neelsmith/maven/edu/holycross/shot/cite/xcite_2.12/4.1.1/xcite_2.12-4.1.1.jar\n",
      "Downloading https://repo1.maven.org/maven2/org/wvlet/airframe/airframe-log_2.12/19.8.10/airframe-log_2.12-19.8.10.jar\n",
      "Downloading https://dl.bintray.com/neelsmith/maven/edu/holycross/shot/seqcomp_2.12/1.0.0/seqcomp_2.12-1.0.0.jar\n",
      "Downloading https://dl.bintray.com/neelsmith/maven/edu/holycross/shot/cex_2.12/6.3.3/cex_2.12-6.3.3.jar\n",
      "Downloaded https://dl.bintray.com/neelsmith/maven/edu/holycross/shot/seqcomp_2.12/1.0.0/seqcomp_2.12-1.0.0.jar\n",
      "Downloading https://dl.bintray.com/neelsmith/maven/edu/holycross/shot/histoutils_2.12/2.2.0/histoutils_2.12-2.2.0.jar\n",
      "Downloaded https://repo1.maven.org/maven2/org/scala-lang/modules/scala-collection-compat_2.12/2.1.1/scala-collection-compat_2.12-2.1.1.jar\n",
      "Downloading https://dl.bintray.com/neelsmith/maven/edu/holycross/shot/nomisma_2.12/1.8.0/nomisma_2.12-1.8.0.jar\n",
      "Downloaded https://repo1.maven.org/maven2/ch/qos/logback/logback-core/1.2.3/logback-core-1.2.3.jar\n",
      "Downloading https://repo1.maven.org/maven2/org/scala-lang/modules/scala-xml_2.12/1.0.6/scala-xml_2.12-1.0.6-sources.jar\n",
      "Downloaded https://repo1.maven.org/maven2/org/wvlet/airframe/airframe-log_2.12/19.8.10/airframe-log_2.12-19.8.10.jar\n",
      "Downloading https://dl.bintray.com/neelsmith/maven/edu/holycross/shot/ohco2_2.12/10.16.0/ohco2_2.12-10.16.0.jar\n",
      "Downloaded https://repo1.maven.org/maven2/org/scala-lang/modules/scala-xml_2.12/1.0.6/scala-xml_2.12-1.0.6-sources.jar\n",
      "Downloading https://repo1.maven.org/maven2/org/scala-lang/modules/scala-collection-compat_2.12/2.1.1/scala-collection-compat_2.12-2.1.1-sources.jar\n",
      "Downloaded https://dl.bintray.com/neelsmith/maven/edu/holycross/shot/cex_2.12/6.3.3/cex_2.12-6.3.3.jar\n",
      "Downloading https://repo1.maven.org/maven2/ch/qos/logback/logback-core/1.2.3/logback-core-1.2.3-sources.jar\n",
      "Downloaded https://repo1.maven.org/maven2/org/scala-lang/modules/scala-collection-compat_2.12/2.1.1/scala-collection-compat_2.12-2.1.1-sources.jar\n",
      "Downloading https://repo1.maven.org/maven2/org/scala-lang/scala-library/2.12.8/scala-library-2.12.8-sources.jar\n",
      "Downloaded https://dl.bintray.com/neelsmith/maven/edu/holycross/shot/histoutils_2.12/2.2.0/histoutils_2.12-2.2.0.jar\n",
      "Downloading https://repo1.maven.org/maven2/org/scala-lang/modules/scala-xml_2.12/1.0.6/scala-xml_2.12-1.0.6.jar\n",
      "Downloaded https://repo1.maven.org/maven2/org/scala-lang/scala-library/2.12.8/scala-library-2.12.8-sources.jar\n",
      "Downloading https://repo1.maven.org/maven2/org/wvlet/airframe/airframe-log_2.12/19.8.10/airframe-log_2.12-19.8.10-sources.jar\n",
      "Downloaded https://repo1.maven.org/maven2/org/wvlet/airframe/airframe-log_2.12/19.8.10/airframe-log_2.12-19.8.10-sources.jar\n",
      "Downloading https://dl.bintray.com/neelsmith/maven/edu/holycross/shot/cite/xcite_2.12/4.1.1/xcite_2.12-4.1.1-sources.jar\n",
      "Downloaded https://dl.bintray.com/neelsmith/maven/edu/holycross/shot/cite/xcite_2.12/4.1.1/xcite_2.12-4.1.1-sources.jar\n",
      "Downloading https://dl.bintray.com/neelsmith/maven/edu/holycross/shot/seqcomp_2.12/1.0.0/seqcomp_2.12-1.0.0-sources.jar\n",
      "Downloaded https://repo1.maven.org/maven2/org/scala-lang/modules/scala-xml_2.12/1.0.6/scala-xml_2.12-1.0.6.jar\n",
      "Downloading https://dl.bintray.com/neelsmith/maven/edu/holycross/shot/histoutils_2.12/2.2.0/histoutils_2.12-2.2.0-sources.jar\n",
      "Downloaded https://dl.bintray.com/neelsmith/maven/edu/holycross/shot/cite/xcite_2.12/4.1.1/xcite_2.12-4.1.1.jar\n",
      "Downloading https://dl.bintray.com/neelsmith/maven/edu/holycross/shot/ohco2_2.12/10.16.0/ohco2_2.12-10.16.0-sources.jar\n",
      "Downloaded https://repo1.maven.org/maven2/ch/qos/logback/logback-core/1.2.3/logback-core-1.2.3-sources.jar\n",
      "Downloading https://dl.bintray.com/neelsmith/maven/edu/holycross/shot/cex_2.12/6.3.3/cex_2.12-6.3.3-sources.jar\n",
      "Downloaded https://dl.bintray.com/neelsmith/maven/edu/holycross/shot/seqcomp_2.12/1.0.0/seqcomp_2.12-1.0.0-sources.jar\n",
      "Downloading https://dl.bintray.com/neelsmith/maven/edu/holycross/shot/nomisma_2.12/1.8.0/nomisma_2.12-1.8.0-sources.jar\n",
      "Downloaded https://dl.bintray.com/neelsmith/maven/edu/holycross/shot/histoutils_2.12/2.2.0/histoutils_2.12-2.2.0-sources.jar\n",
      "Downloaded https://dl.bintray.com/neelsmith/maven/edu/holycross/shot/ohco2_2.12/10.16.0/ohco2_2.12-10.16.0-sources.jar\n",
      "Downloaded https://dl.bintray.com/neelsmith/maven/edu/holycross/shot/cex_2.12/6.3.3/cex_2.12-6.3.3-sources.jar\n",
      "Downloaded https://dl.bintray.com/neelsmith/maven/edu/holycross/shot/ohco2_2.12/10.16.0/ohco2_2.12-10.16.0.jar\n",
      "Downloaded https://dl.bintray.com/neelsmith/maven/edu/holycross/shot/nomisma_2.12/1.8.0/nomisma_2.12-1.8.0.jar\n",
      "Downloading https://dl.bintray.com/neelsmith/maven/edu/holycross/shot/nomisma_2.12/1.8.0/nomisma_2.12-1.8.0.jar.sha1\n",
      "Downloaded https://dl.bintray.com/neelsmith/maven/edu/holycross/shot/nomisma_2.12/1.8.0/nomisma_2.12-1.8.0-sources.jar\n",
      "Downloaded https://dl.bintray.com/neelsmith/maven/edu/holycross/shot/nomisma_2.12/1.8.0/nomisma_2.12-1.8.0.jar.sha1\n"
     ]
    },
    {
     "data": {
      "text/plain": [
       "\u001b[32mimport \u001b[39m\u001b[36m$ivy.$                                  \u001b[39m"
      ]
     },
     "execution_count": 2,
     "metadata": {},
     "output_type": "execute_result"
    }
   ],
   "source": [
    "// 2. Make libraries available with `$ivy` imports:\n",
    "import $ivy.`edu.holycross.shot::nomisma:1.8.0`"
   ]
  },
  {
   "cell_type": "markdown",
   "metadata": {},
   "source": [
    "## Load the CRRO data set"
   ]
  },
  {
   "cell_type": "code",
   "execution_count": 3,
   "metadata": {
    "collapsed": true
   },
   "outputs": [
    {
     "name": "stderr",
     "output_type": "stream",
     "text": [
      "Dec 03, 2019 9:11:01 AM wvlet.log.Logger log\n",
      "INFO: Reading 2281 lines of CEX data.\n",
      "Dec 03, 2019 9:11:01 AM wvlet.log.Logger log\n",
      "INFO: Created Crro with 2281 issues.\n"
     ]
    },
    {
     "data": {
      "text/plain": [
       "\u001b[32mimport \u001b[39m\u001b[36medu.holycross.shot.nomisma._\n",
       "\u001b[39m\n",
       "\u001b[36mcrroCex\u001b[39m: \u001b[32mString\u001b[39m = \u001b[32m\"https://raw.githubusercontent.com/neelsmith/nomisma/master/cex/crro-2019-12-03.cex\"\u001b[39m\n",
       "\u001b[36mcrro\u001b[39m: \u001b[32mCrro\u001b[39m = \u001b[33mCrro\u001b[39m(\n",
       "  \u001b[33mVector\u001b[39m(\n",
       "    \u001b[33mCrroIssue\u001b[39m(\n",
       "      \u001b[32m\"http://numismatics.org/crro/id/rrc-528.3\"\u001b[39m,\n",
       "      \u001b[32m\"RRC 528/3\"\u001b[39m,\n",
       "      \u001b[32m\"denarius\"\u001b[39m,\n",
       "      \u001b[32m\"ar\"\u001b[39m,\n",
       "      \u001b[32m\"none\"\u001b[39m,\n",
       "      \u001b[32m\"uncertain_value\"\u001b[39m,\n",
       "      \u001b[32m\"none\"\u001b[39m,\n",
       "      \u001b[32m\"Head of M. Antonius right; around, inscription. Border of dots.\"\u001b[39m,\n",
       "      \u001b[32m\"M\\u00b7ANTON\\u00b7IMP\\u00b7III\\u00b7VIR\\u00b7R\\u00b7P\\u00b7C\\u00b7AVG\"\u001b[39m,\n",
       "      \u001b[32m\"\"\u001b[39m,\n",
       "      \u001b[32m\"Head of Octavian right; around, inscription. Border of dots.\"\u001b[39m,\n",
       "      \u001b[32m\"CAESAR\\u00b7IMP\\u00b7PONT\\u00b7III\\u00b7VIR\\u00b7R\\u00b7P\\u00b7C\"\u001b[39m,\n",
       "      \u001b[32m\"\"\u001b[39m,\n",
       "      \u001b[33mSome\u001b[39m(\u001b[33mYearRange\u001b[39m(\u001b[32m-39\u001b[39m, \u001b[33mSome\u001b[39m(\u001b[32m-39\u001b[39m)))\n",
       "    ),\n",
       "    \u001b[33mCrroIssue\u001b[39m(\n",
       "      \u001b[32m\"http://numismatics.org/crro/id/rrc-529.1\"\u001b[39m,\n",
       "      \u001b[32m\"RRC 529/1\"\u001b[39m,\n",
       "      \u001b[32m\"aureus\"\u001b[39m,\n",
       "      \u001b[32m\"av\"\u001b[39m,\n",
       "      \u001b[32m\"none\"\u001b[39m,\n",
       "      \u001b[32m\"uncertain_value\"\u001b[39m,\n",
       "      \u001b[32m\"none\"\u001b[39m,\n",
       "      \u001b[32m\"Head of Octavian right, bearded. Border of dots.\"\u001b[39m,\n",
       "      \u001b[32m\"CAESAR IMP\"\u001b[39m,\n",
       "      \u001b[32m\"\"\u001b[39m,\n",
       "      \u001b[32m\"Head of M. Antonius right. Border of dots.\"\u001b[39m,\n",
       "      \u001b[32m\"ANTONIVS IMP\"\u001b[39m,\n",
       "      \u001b[32m\"\"\u001b[39m,\n",
       "      \u001b[33mSome\u001b[39m(\u001b[33mYearRange\u001b[39m(\u001b[32m-39\u001b[39m, \u001b[33mSome\u001b[39m(\u001b[32m-39\u001b[39m)))\n",
       "    ),\n",
       "    \u001b[33mCrroIssue\u001b[39m(\n",
       "      \u001b[32m\"http://numismatics.org/crro/id/rrc-529.2a\"\u001b[39m,\n",
       "      \u001b[32m\"RRC 529/2a\"\u001b[39m,\n",
       "      \u001b[32m\"denarius\"\u001b[39m,\n",
       "      \u001b[32m\"ar\"\u001b[39m,\n",
       "..."
      ]
     },
     "execution_count": 3,
     "metadata": {},
     "output_type": "execute_result"
    }
   ],
   "source": [
    "import edu.holycross.shot.nomisma._\n",
    "val crroCex = \"https://raw.githubusercontent.com/neelsmith/nomisma/master/cex/crro-2019-12-03.cex\"\n",
    "val crro = CrroSource.fromUrl(crroCex)\n",
    "\n",
    "// Sanity check:\n",
    "require(crro.size > 2000) "
   ]
  },
  {
   "cell_type": "markdown",
   "metadata": {},
   "source": [
    "## Contents of a `Crro` object\n",
    "\n",
    "The object `crro` created in the preceding cell belongs to the `Crro` class.  The `Crro` class and the parallel `Ocre` class for *Online Coins of the Roman Empire* extend a trait defining a common structure for catalogs of issues.  These catalogs have have a Vector of `Issue`s, each of which in turn has the following properties:\n",
    "\n",
    "\n",
    "    id: String,\n",
    "    labelText:  String,\n",
    "    denomination: String,\n",
    "    material: String,\n",
    "    authority: String,\n",
    "    mint: String,\n",
    "    region: String,\n",
    "    obvType: String,\n",
    "    obvLegend: String,\n",
    "    obvPortraitId: String,\n",
    "    revType: String,\n",
    "    revLegend: String,\n",
    "    revPortraitId,\n",
    "    dateRange: Option[YearRange]\n",
    "    \n",
    "In this notebook, we'll check for each property that all the values in the 2,000+ records of Roman Repubican coin issues look reasonable.\n"
   ]
  },
  {
   "cell_type": "markdown",
   "metadata": {},
   "source": [
    "## Check for presence of required properties\n",
    "\n",
    "    \n",
    "The first seven properties should have values for each issue.  As a first step in validating the contents of `ocre`, we'll verify that each of those String properties is non-empty.\n"
   ]
  },
  {
   "cell_type": "code",
   "execution_count": 4,
   "metadata": {},
   "outputs": [
    {
     "name": "stdout",
     "output_type": "stream",
     "text": [
      "Number of issues in CRRO: 2281\n",
      "All issues have a non-empty data value for:\n",
      "id\n",
      "labelText\n",
      "denomination\n",
      "material\n",
      "authority\n",
      "mint\n",
      "region\n"
     ]
    },
    {
     "data": {
      "text/plain": [
       "\u001b[36mrequiredProperties\u001b[39m: \u001b[32mList\u001b[39m[\u001b[32mString\u001b[39m] = \u001b[33mList\u001b[39m(\n",
       "  \u001b[32m\"id\"\u001b[39m,\n",
       "  \u001b[32m\"labelText\"\u001b[39m,\n",
       "  \u001b[32m\"denomination\"\u001b[39m,\n",
       "  \u001b[32m\"material\"\u001b[39m,\n",
       "  \u001b[32m\"authority\"\u001b[39m,\n",
       "  \u001b[32m\"mint\"\u001b[39m,\n",
       "  \u001b[32m\"region\"\u001b[39m\n",
       ")"
      ]
     },
     "execution_count": 4,
     "metadata": {},
     "output_type": "execute_result"
    }
   ],
   "source": [
    "println(\"Number of issues in CRRO: \" + crro.size)\n",
    "require (crro.issues.filter(_.id.nonEmpty).size == crro.issues.size)\n",
    "require (crro.issues.filter(_.labelText.nonEmpty).size == crro.issues.size)\n",
    "require (crro.issues.filter(_.denomination.nonEmpty).size == crro.issues.size)\n",
    "require (crro.issues.filter(_.material.nonEmpty).size == crro.issues.size)\n",
    "require (crro.issues.filter(_.authority.nonEmpty).size == crro.issues.size)\n",
    "require (crro.issues.filter(_.mint.nonEmpty).size == crro.issues.size)\n",
    "require (crro.issues.filter(_.region.nonEmpty).size == crro.issues.size)\n",
    "\n",
    "val requiredProperties = List(\"id\", \"labelText\", \"denomination\", \"material\", \"authority\", \"mint\", \"region\")\n",
    "println(\"All issues have a non-empty data value for:\\n\" + requiredProperties.mkString(\"\\n\"))"
   ]
  },
  {
   "cell_type": "markdown",
   "metadata": {},
   "source": [
    "## Check values of required properties\n",
    "\n",
    "Now we want to see if those non-empty values look reasonable.  The first constraint to check is that all values for the `id` and `labelText` properties must be unique."
   ]
  },
  {
   "cell_type": "code",
   "execution_count": 5,
   "metadata": {},
   "outputs": [
    {
     "name": "stdout",
     "output_type": "stream",
     "text": [
      "All id and labelText values are unique.\n"
     ]
    }
   ],
   "source": [
    "require(crro.issues.map(_.id).distinct.size == crro.size)\n",
    "require(crro.issues.map(_.labelText).distinct.size == crro.size)\n",
    "println(\"All id and labelText values are unique.\")"
   ]
  },
  {
   "cell_type": "markdown",
   "metadata": {},
   "source": [
    "Classes extending the `IssueCollection` trait include functions to list all values for a given property.  The name of the functions has the form `[PROPERTYNAME]List`.  Let's look at the `material` property for an example."
   ]
  },
  {
   "cell_type": "code",
   "execution_count": 6,
   "metadata": {},
   "outputs": [
    {
     "name": "stdout",
     "output_type": "stream",
     "text": [
      "ae\n",
      "ar\n",
      "av\n",
      "none\n"
     ]
    }
   ],
   "source": [
    "println(crro.materialList.mkString(\"\\n\"))"
   ]
  },
  {
   "cell_type": "markdown",
   "metadata": {},
   "source": [
    "You can see that in addition to abbreviations for bronze (`ae`), silver (`ar`) and gold (`av`), there is a fourth category, `none`.  `IssueCollection` classes includes functions for each property that create a new `Ocre` containing meaningful values for that property.  The name of these functions has the form `has[PROPERTYNAME]`. The `hasMint` function, for example, creates a new `Ocre` containing only issues that have a value other than `none` for the mint property."
   ]
  },
  {
   "cell_type": "code",
   "execution_count": 7,
   "metadata": {},
   "outputs": [
    {
     "name": "stdout",
     "output_type": "stream",
     "text": [
      "All issues in Ocre: 2281\n",
      "Issues with mint not equal to 'none': 2021\n"
     ]
    }
   ],
   "source": [
    "println(\"All issues in Ocre: \" + crro.size)\n",
    "println(\"Issues with mint not equal to 'none': \" + crro.hasMint.size)"
   ]
  },
  {
   "cell_type": "markdown",
   "metadata": {},
   "source": [
    "## Optional properties\n",
    "\n",
    "CRRO's RDF records optionally include information for each side (obverse and reverse) about type description, legend and identifiers for portraits.  Unlike the required properties, these properties appear in the delimited-text records simply as empty strings that the `Ocre` object ignores, so you won't find entries like `none` or `uncertain_value` in the list of values for these properties.  \n",
    "\n",
    "\n",
    "### Portrait identifiers\n",
    "\n",
    "Let's start with the values for identifiers for obverse portraits.  You'll see that while the identifiers include a mix of plain strings and URLs in the `britishmuseum.org` domain, there are no values like `none`."
   ]
  },
  {
   "cell_type": "code",
   "execution_count": 8,
   "metadata": {},
   "outputs": [
    {
     "name": "stdout",
     "output_type": "stream",
     "text": [
      "Number of issues in OCRE: 2281\n",
      "Issues with obv. portrait ID: 1826\n",
      "\n",
      "Distinct values for obvPortraitId:\n",
      "Janus\n",
      "http://collection.britishmuseum.org/id/person-institution/175498\n",
      "http://collection.britishmuseum.org/id/person-institution/56979\n",
      "http://collection.britishmuseum.org/id/person-institution/56988\n",
      "http://collection.britishmuseum.org/id/person-institution/57039\n",
      "http://collection.britishmuseum.org/id/person-institution/57060\n",
      "http://collection.britishmuseum.org/id/person-institution/57291\n",
      "http://collection.britishmuseum.org/id/person-institution/57638\n",
      "http://collection.britishmuseum.org/id/person-institution/57655\n",
      "http://collection.britishmuseum.org/id/person-institution/57657\n",
      "http://collection.britishmuseum.org/id/person-institution/57930\n",
      "http://collection.britishmuseum.org/id/person-institution/57951\n",
      "http://collection.britishmuseum.org/id/person-institution/58247\n",
      "http://collection.britishmuseum.org/id/person-institution/58260\n",
      "http://collection.britishmuseum.org/id/person-institution/58396\n",
      "http://collection.britishmuseum.org/id/person-institution/58616\n",
      "http://collection.britishmuseum.org/id/person-institution/58623\n",
      "http://collection.britishmuseum.org/id/person-institution/58624\n",
      "http://collection.britishmuseum.org/id/person-institution/58628\n",
      "http://collection.britishmuseum.org/id/person-institution/58637\n",
      "http://collection.britishmuseum.org/id/person-institution/58668\n",
      "http://collection.britishmuseum.org/id/person-institution/58921\n",
      "http://collection.britishmuseum.org/id/person-institution/58996\n",
      "http://collection.britishmuseum.org/id/person-institution/59100\n",
      "http://collection.britishmuseum.org/id/person-institution/59284\n",
      "http://collection.britishmuseum.org/id/person-institution/59294\n",
      "http://collection.britishmuseum.org/id/person-institution/59726\n",
      "http://collection.britishmuseum.org/id/person-institution/59758\n",
      "http://collection.britishmuseum.org/id/person-institution/59792\n",
      "http://collection.britishmuseum.org/id/person-institution/59828\n",
      "http://collection.britishmuseum.org/id/person-institution/60208\n",
      "http://collection.britishmuseum.org/id/person-institution/60911\n",
      "http://collection.britishmuseum.org/id/person-institution/60915\n",
      "http://collection.britishmuseum.org/id/person-institution/61143\n",
      "http://collection.britishmuseum.org/id/person-institution/69305\n",
      "http://collection.britishmuseum.org/id/person-institution/69649\n",
      "http://collection.britishmuseum.org/id/person-institution/76227\n",
      "http://collection.britishmuseum.org/id/person-institution/80685\n"
     ]
    }
   ],
   "source": [
    "// Not all issues have an obverse portrait ID:\n",
    "println(\"Number of issues in OCRE: \" + crro.size)\n",
    "println(\"Issues with obv. portrait ID: \" + crro.hasObvPortraitId.size  + \"\\n\")\n",
    "\n",
    "// and there are no \"no data\" values in obvPortraitId:\n",
    "println(\"Distinct values for obvPortraitId:\")\n",
    "println(crro.obvPortraitIdList.mkString(\"\\n\"))\n",
    "\n",
    "// reverse portrait identifiers work the same way."
   ]
  },
  {
   "cell_type": "markdown",
   "metadata": {},
   "source": [
    "### Type descriptions \n",
    "\n",
    "The optional description of obverse and reverse types is a free-text description, so unlike the properties we've looked at above, there is no `[obv|rev]TypeList` function to get a list of controlled vocabulary.  `Crro` does have functions named `hasObvType` and `hasRevType` to create a new `Crro` including only those issues with an obverse or reverse type description, respctively.\n",
    "\n",
    "As the following cell shows, we can of course string those functions together to create an `Crro` containing only issues including *both* an obverse and reverse type description."
   ]
  },
  {
   "cell_type": "code",
   "execution_count": 9,
   "metadata": {
    "collapsed": true
   },
   "outputs": [
    {
     "name": "stdout",
     "output_type": "stream",
     "text": [
      "Total number of issues in CRRO: 2281\n",
      "Issues with obv. type description: 2260\n",
      "Issues with rev. type description: 2263\n",
      "Issues with both obv. and rev. type description: 2260\n"
     ]
    },
    {
     "data": {
      "text/plain": [
       "\u001b[36moTypes\u001b[39m: \u001b[32mCrro\u001b[39m = \u001b[33mCrro\u001b[39m(\n",
       "  \u001b[33mVector\u001b[39m(\n",
       "    \u001b[33mCrroIssue\u001b[39m(\n",
       "      \u001b[32m\"http://numismatics.org/crro/id/rrc-528.3\"\u001b[39m,\n",
       "      \u001b[32m\"RRC 528/3\"\u001b[39m,\n",
       "      \u001b[32m\"denarius\"\u001b[39m,\n",
       "      \u001b[32m\"ar\"\u001b[39m,\n",
       "      \u001b[32m\"none\"\u001b[39m,\n",
       "      \u001b[32m\"uncertain_value\"\u001b[39m,\n",
       "      \u001b[32m\"none\"\u001b[39m,\n",
       "      \u001b[32m\"Head of M. Antonius right; around, inscription. Border of dots.\"\u001b[39m,\n",
       "      \u001b[32m\"M\\u00b7ANTON\\u00b7IMP\\u00b7III\\u00b7VIR\\u00b7R\\u00b7P\\u00b7C\\u00b7AVG\"\u001b[39m,\n",
       "      \u001b[32m\"\"\u001b[39m,\n",
       "      \u001b[32m\"Head of Octavian right; around, inscription. Border of dots.\"\u001b[39m,\n",
       "      \u001b[32m\"CAESAR\\u00b7IMP\\u00b7PONT\\u00b7III\\u00b7VIR\\u00b7R\\u00b7P\\u00b7C\"\u001b[39m,\n",
       "      \u001b[32m\"\"\u001b[39m,\n",
       "      \u001b[33mSome\u001b[39m(\u001b[33mYearRange\u001b[39m(\u001b[32m-39\u001b[39m, \u001b[33mSome\u001b[39m(\u001b[32m-39\u001b[39m)))\n",
       "    ),\n",
       "    \u001b[33mCrroIssue\u001b[39m(\n",
       "      \u001b[32m\"http://numismatics.org/crro/id/rrc-529.1\"\u001b[39m,\n",
       "      \u001b[32m\"RRC 529/1\"\u001b[39m,\n",
       "      \u001b[32m\"aureus\"\u001b[39m,\n",
       "      \u001b[32m\"av\"\u001b[39m,\n",
       "      \u001b[32m\"none\"\u001b[39m,\n",
       "      \u001b[32m\"uncertain_value\"\u001b[39m,\n",
       "      \u001b[32m\"none\"\u001b[39m,\n",
       "      \u001b[32m\"Head of Octavian right, bearded. Border of dots.\"\u001b[39m,\n",
       "      \u001b[32m\"CAESAR IMP\"\u001b[39m,\n",
       "      \u001b[32m\"\"\u001b[39m,\n",
       "      \u001b[32m\"Head of M. Antonius right. Border of dots.\"\u001b[39m,\n",
       "      \u001b[32m\"ANTONIVS IMP\"\u001b[39m,\n",
       "      \u001b[32m\"\"\u001b[39m,\n",
       "      \u001b[33mSome\u001b[39m(\u001b[33mYearRange\u001b[39m(\u001b[32m-39\u001b[39m, \u001b[33mSome\u001b[39m(\u001b[32m-39\u001b[39m)))\n",
       "    ),\n",
       "    \u001b[33mCrroIssue\u001b[39m(\n",
       "      \u001b[32m\"http://numismatics.org/crro/id/rrc-529.2a\"\u001b[39m,\n",
       "      \u001b[32m\"RRC 529/2a\"\u001b[39m,\n",
       "      \u001b[32m\"denarius\"\u001b[39m,\n",
       "      \u001b[32m\"ar\"\u001b[39m,\n",
       "...\n",
       "\u001b[36mrTypes\u001b[39m: \u001b[32mCrro\u001b[39m = \u001b[33mCrro\u001b[39m(\n",
       "  \u001b[33mVector\u001b[39m(\n",
       "    \u001b[33mCrroIssue\u001b[39m(\n",
       "      \u001b[32m\"http://numismatics.org/crro/id/rrc-528.3\"\u001b[39m,\n",
       "      \u001b[32m\"RRC 528/3\"\u001b[39m,\n",
       "      \u001b[32m\"denarius\"\u001b[39m,\n",
       "      \u001b[32m\"ar\"\u001b[39m,\n",
       "      \u001b[32m\"none\"\u001b[39m,\n",
       "      \u001b[32m\"uncertain_value\"\u001b[39m,\n",
       "      \u001b[32m\"none\"\u001b[39m,\n",
       "      \u001b[32m\"Head of M. Antonius right; around, inscription. Border of dots.\"\u001b[39m,\n",
       "      \u001b[32m\"M\\u00b7ANTON\\u00b7IMP\\u00b7III\\u00b7VIR\\u00b7R\\u00b7P\\u00b7C\\u00b7AVG\"\u001b[39m,\n",
       "      \u001b[32m\"\"\u001b[39m,\n",
       "      \u001b[32m\"Head of Octavian right; around, inscription. Border of dots.\"\u001b[39m,\n",
       "      \u001b[32m\"CAESAR\\u00b7IMP\\u00b7PONT\\u00b7III\\u00b7VIR\\u00b7R\\u00b7P\\u00b7C\"\u001b[39m,\n",
       "      \u001b[32m\"\"\u001b[39m,\n",
       "      \u001b[33mSome\u001b[39m(\u001b[33mYearRange\u001b[39m(\u001b[32m-39\u001b[39m, \u001b[33mSome\u001b[39m(\u001b[32m-39\u001b[39m)))\n",
       "    ),\n",
       "    \u001b[33mCrroIssue\u001b[39m(\n",
       "      \u001b[32m\"http://numismatics.org/crro/id/rrc-529.1\"\u001b[39m,\n",
       "      \u001b[32m\"RRC 529/1\"\u001b[39m,\n",
       "      \u001b[32m\"aureus\"\u001b[39m,\n",
       "      \u001b[32m\"av\"\u001b[39m,\n",
       "      \u001b[32m\"none\"\u001b[39m,\n",
       "      \u001b[32m\"uncertain_value\"\u001b[39m,\n",
       "      \u001b[32m\"none\"\u001b[39m,\n",
       "      \u001b[32m\"Head of Octavian right, bearded. Border of dots.\"\u001b[39m,\n",
       "      \u001b[32m\"CAESAR IMP\"\u001b[39m,\n",
       "      \u001b[32m\"\"\u001b[39m,\n",
       "      \u001b[32m\"Head of M. Antonius right. Border of dots.\"\u001b[39m,\n",
       "      \u001b[32m\"ANTONIVS IMP\"\u001b[39m,\n",
       "      \u001b[32m\"\"\u001b[39m,\n",
       "      \u001b[33mSome\u001b[39m(\u001b[33mYearRange\u001b[39m(\u001b[32m-39\u001b[39m, \u001b[33mSome\u001b[39m(\u001b[32m-39\u001b[39m)))\n",
       "    ),\n",
       "    \u001b[33mCrroIssue\u001b[39m(\n",
       "      \u001b[32m\"http://numismatics.org/crro/id/rrc-529.2a\"\u001b[39m,\n",
       "      \u001b[32m\"RRC 529/2a\"\u001b[39m,\n",
       "      \u001b[32m\"denarius\"\u001b[39m,\n",
       "      \u001b[32m\"ar\"\u001b[39m,\n",
       "...\n",
       "\u001b[36mbothTypes\u001b[39m: \u001b[32mCrro\u001b[39m = \u001b[33mCrro\u001b[39m(\n",
       "  \u001b[33mVector\u001b[39m(\n",
       "    \u001b[33mCrroIssue\u001b[39m(\n",
       "      \u001b[32m\"http://numismatics.org/crro/id/rrc-528.3\"\u001b[39m,\n",
       "      \u001b[32m\"RRC 528/3\"\u001b[39m,\n",
       "      \u001b[32m\"denarius\"\u001b[39m,\n",
       "      \u001b[32m\"ar\"\u001b[39m,\n",
       "      \u001b[32m\"none\"\u001b[39m,\n",
       "      \u001b[32m\"uncertain_value\"\u001b[39m,\n",
       "      \u001b[32m\"none\"\u001b[39m,\n",
       "      \u001b[32m\"Head of M. Antonius right; around, inscription. Border of dots.\"\u001b[39m,\n",
       "      \u001b[32m\"M\\u00b7ANTON\\u00b7IMP\\u00b7III\\u00b7VIR\\u00b7R\\u00b7P\\u00b7C\\u00b7AVG\"\u001b[39m,\n",
       "      \u001b[32m\"\"\u001b[39m,\n",
       "      \u001b[32m\"Head of Octavian right; around, inscription. Border of dots.\"\u001b[39m,\n",
       "      \u001b[32m\"CAESAR\\u00b7IMP\\u00b7PONT\\u00b7III\\u00b7VIR\\u00b7R\\u00b7P\\u00b7C\"\u001b[39m,\n",
       "      \u001b[32m\"\"\u001b[39m,\n",
       "      \u001b[33mSome\u001b[39m(\u001b[33mYearRange\u001b[39m(\u001b[32m-39\u001b[39m, \u001b[33mSome\u001b[39m(\u001b[32m-39\u001b[39m)))\n",
       "    ),\n",
       "    \u001b[33mCrroIssue\u001b[39m(\n",
       "      \u001b[32m\"http://numismatics.org/crro/id/rrc-529.1\"\u001b[39m,\n",
       "      \u001b[32m\"RRC 529/1\"\u001b[39m,\n",
       "      \u001b[32m\"aureus\"\u001b[39m,\n",
       "      \u001b[32m\"av\"\u001b[39m,\n",
       "      \u001b[32m\"none\"\u001b[39m,\n",
       "      \u001b[32m\"uncertain_value\"\u001b[39m,\n",
       "      \u001b[32m\"none\"\u001b[39m,\n",
       "      \u001b[32m\"Head of Octavian right, bearded. Border of dots.\"\u001b[39m,\n",
       "      \u001b[32m\"CAESAR IMP\"\u001b[39m,\n",
       "      \u001b[32m\"\"\u001b[39m,\n",
       "      \u001b[32m\"Head of M. Antonius right. Border of dots.\"\u001b[39m,\n",
       "      \u001b[32m\"ANTONIVS IMP\"\u001b[39m,\n",
       "      \u001b[32m\"\"\u001b[39m,\n",
       "      \u001b[33mSome\u001b[39m(\u001b[33mYearRange\u001b[39m(\u001b[32m-39\u001b[39m, \u001b[33mSome\u001b[39m(\u001b[32m-39\u001b[39m)))\n",
       "    ),\n",
       "    \u001b[33mCrroIssue\u001b[39m(\n",
       "      \u001b[32m\"http://numismatics.org/crro/id/rrc-529.2a\"\u001b[39m,\n",
       "      \u001b[32m\"RRC 529/2a\"\u001b[39m,\n",
       "      \u001b[32m\"denarius\"\u001b[39m,\n",
       "      \u001b[32m\"ar\"\u001b[39m,\n",
       "..."
      ]
     },
     "execution_count": 9,
     "metadata": {},
     "output_type": "execute_result"
    }
   ],
   "source": [
    "val oTypes = crro.hasObvType\n",
    "val rTypes = crro.hasRevType\n",
    "println(\"Total number of issues in CRRO: \" + crro.size)\n",
    "println(\"Issues with obv. type description: \" + oTypes.size)\n",
    "println(\"Issues with rev. type description: \" + rTypes.size)\n",
    "val bothTypes = oTypes.hasRevType // == rTypes.hasObvType\n",
    "println(\"Issues with both obv. and rev. type description: \" + bothTypes.size)"
   ]
  },
  {
   "cell_type": "markdown",
   "metadata": {},
   "source": [
    "### Legends\n",
    "\n",
    "Like type descriptions, obverse and reverse legends are free text, and therefore `Crro` does not have functions `[obv|rev]LegendList` to get a list of controlled vocabulary.\n",
    "\n",
    "As you would expect by now, the `hasObvLegend` and `hasRevLegend` functions create a new `Crro` including only those issues with an obverse or reverse legend, respctively."
   ]
  },
  {
   "cell_type": "code",
   "execution_count": 10,
   "metadata": {
    "collapsed": true
   },
   "outputs": [
    {
     "name": "stdout",
     "output_type": "stream",
     "text": [
      "Total number of issues in OCRE: 2281\n",
      "Issues with obv. type description: 1144\n",
      "Issues with rev. type description: 2132\n",
      "Issues with both obv. and rev. legends: 1098\n"
     ]
    },
    {
     "data": {
      "text/plain": [
       "\u001b[36moLegends\u001b[39m: \u001b[32mCrro\u001b[39m = \u001b[33mCrro\u001b[39m(\n",
       "  \u001b[33mVector\u001b[39m(\n",
       "    \u001b[33mCrroIssue\u001b[39m(\n",
       "      \u001b[32m\"http://numismatics.org/crro/id/rrc-528.3\"\u001b[39m,\n",
       "      \u001b[32m\"RRC 528/3\"\u001b[39m,\n",
       "      \u001b[32m\"denarius\"\u001b[39m,\n",
       "      \u001b[32m\"ar\"\u001b[39m,\n",
       "      \u001b[32m\"none\"\u001b[39m,\n",
       "      \u001b[32m\"uncertain_value\"\u001b[39m,\n",
       "      \u001b[32m\"none\"\u001b[39m,\n",
       "      \u001b[32m\"Head of M. Antonius right; around, inscription. Border of dots.\"\u001b[39m,\n",
       "      \u001b[32m\"M\\u00b7ANTON\\u00b7IMP\\u00b7III\\u00b7VIR\\u00b7R\\u00b7P\\u00b7C\\u00b7AVG\"\u001b[39m,\n",
       "      \u001b[32m\"\"\u001b[39m,\n",
       "      \u001b[32m\"Head of Octavian right; around, inscription. Border of dots.\"\u001b[39m,\n",
       "      \u001b[32m\"CAESAR\\u00b7IMP\\u00b7PONT\\u00b7III\\u00b7VIR\\u00b7R\\u00b7P\\u00b7C\"\u001b[39m,\n",
       "      \u001b[32m\"\"\u001b[39m,\n",
       "      \u001b[33mSome\u001b[39m(\u001b[33mYearRange\u001b[39m(\u001b[32m-39\u001b[39m, \u001b[33mSome\u001b[39m(\u001b[32m-39\u001b[39m)))\n",
       "    ),\n",
       "    \u001b[33mCrroIssue\u001b[39m(\n",
       "      \u001b[32m\"http://numismatics.org/crro/id/rrc-529.1\"\u001b[39m,\n",
       "      \u001b[32m\"RRC 529/1\"\u001b[39m,\n",
       "      \u001b[32m\"aureus\"\u001b[39m,\n",
       "      \u001b[32m\"av\"\u001b[39m,\n",
       "      \u001b[32m\"none\"\u001b[39m,\n",
       "      \u001b[32m\"uncertain_value\"\u001b[39m,\n",
       "      \u001b[32m\"none\"\u001b[39m,\n",
       "      \u001b[32m\"Head of Octavian right, bearded. Border of dots.\"\u001b[39m,\n",
       "      \u001b[32m\"CAESAR IMP\"\u001b[39m,\n",
       "      \u001b[32m\"\"\u001b[39m,\n",
       "      \u001b[32m\"Head of M. Antonius right. Border of dots.\"\u001b[39m,\n",
       "      \u001b[32m\"ANTONIVS IMP\"\u001b[39m,\n",
       "      \u001b[32m\"\"\u001b[39m,\n",
       "      \u001b[33mSome\u001b[39m(\u001b[33mYearRange\u001b[39m(\u001b[32m-39\u001b[39m, \u001b[33mSome\u001b[39m(\u001b[32m-39\u001b[39m)))\n",
       "    ),\n",
       "    \u001b[33mCrroIssue\u001b[39m(\n",
       "      \u001b[32m\"http://numismatics.org/crro/id/rrc-529.2a\"\u001b[39m,\n",
       "      \u001b[32m\"RRC 529/2a\"\u001b[39m,\n",
       "      \u001b[32m\"denarius\"\u001b[39m,\n",
       "      \u001b[32m\"ar\"\u001b[39m,\n",
       "...\n",
       "\u001b[36mrLegends\u001b[39m: \u001b[32mCrro\u001b[39m = \u001b[33mCrro\u001b[39m(\n",
       "  \u001b[33mVector\u001b[39m(\n",
       "    \u001b[33mCrroIssue\u001b[39m(\n",
       "      \u001b[32m\"http://numismatics.org/crro/id/rrc-528.3\"\u001b[39m,\n",
       "      \u001b[32m\"RRC 528/3\"\u001b[39m,\n",
       "      \u001b[32m\"denarius\"\u001b[39m,\n",
       "      \u001b[32m\"ar\"\u001b[39m,\n",
       "      \u001b[32m\"none\"\u001b[39m,\n",
       "      \u001b[32m\"uncertain_value\"\u001b[39m,\n",
       "      \u001b[32m\"none\"\u001b[39m,\n",
       "      \u001b[32m\"Head of M. Antonius right; around, inscription. Border of dots.\"\u001b[39m,\n",
       "      \u001b[32m\"M\\u00b7ANTON\\u00b7IMP\\u00b7III\\u00b7VIR\\u00b7R\\u00b7P\\u00b7C\\u00b7AVG\"\u001b[39m,\n",
       "      \u001b[32m\"\"\u001b[39m,\n",
       "      \u001b[32m\"Head of Octavian right; around, inscription. Border of dots.\"\u001b[39m,\n",
       "      \u001b[32m\"CAESAR\\u00b7IMP\\u00b7PONT\\u00b7III\\u00b7VIR\\u00b7R\\u00b7P\\u00b7C\"\u001b[39m,\n",
       "      \u001b[32m\"\"\u001b[39m,\n",
       "      \u001b[33mSome\u001b[39m(\u001b[33mYearRange\u001b[39m(\u001b[32m-39\u001b[39m, \u001b[33mSome\u001b[39m(\u001b[32m-39\u001b[39m)))\n",
       "    ),\n",
       "    \u001b[33mCrroIssue\u001b[39m(\n",
       "      \u001b[32m\"http://numismatics.org/crro/id/rrc-529.1\"\u001b[39m,\n",
       "      \u001b[32m\"RRC 529/1\"\u001b[39m,\n",
       "      \u001b[32m\"aureus\"\u001b[39m,\n",
       "      \u001b[32m\"av\"\u001b[39m,\n",
       "      \u001b[32m\"none\"\u001b[39m,\n",
       "      \u001b[32m\"uncertain_value\"\u001b[39m,\n",
       "      \u001b[32m\"none\"\u001b[39m,\n",
       "      \u001b[32m\"Head of Octavian right, bearded. Border of dots.\"\u001b[39m,\n",
       "      \u001b[32m\"CAESAR IMP\"\u001b[39m,\n",
       "      \u001b[32m\"\"\u001b[39m,\n",
       "      \u001b[32m\"Head of M. Antonius right. Border of dots.\"\u001b[39m,\n",
       "      \u001b[32m\"ANTONIVS IMP\"\u001b[39m,\n",
       "      \u001b[32m\"\"\u001b[39m,\n",
       "      \u001b[33mSome\u001b[39m(\u001b[33mYearRange\u001b[39m(\u001b[32m-39\u001b[39m, \u001b[33mSome\u001b[39m(\u001b[32m-39\u001b[39m)))\n",
       "    ),\n",
       "    \u001b[33mCrroIssue\u001b[39m(\n",
       "      \u001b[32m\"http://numismatics.org/crro/id/rrc-529.2a\"\u001b[39m,\n",
       "      \u001b[32m\"RRC 529/2a\"\u001b[39m,\n",
       "      \u001b[32m\"denarius\"\u001b[39m,\n",
       "      \u001b[32m\"ar\"\u001b[39m,\n",
       "...\n",
       "\u001b[36mbothLegends\u001b[39m: \u001b[32mCrro\u001b[39m = \u001b[33mCrro\u001b[39m(\n",
       "  \u001b[33mVector\u001b[39m(\n",
       "    \u001b[33mCrroIssue\u001b[39m(\n",
       "      \u001b[32m\"http://numismatics.org/crro/id/rrc-528.3\"\u001b[39m,\n",
       "      \u001b[32m\"RRC 528/3\"\u001b[39m,\n",
       "      \u001b[32m\"denarius\"\u001b[39m,\n",
       "      \u001b[32m\"ar\"\u001b[39m,\n",
       "      \u001b[32m\"none\"\u001b[39m,\n",
       "      \u001b[32m\"uncertain_value\"\u001b[39m,\n",
       "      \u001b[32m\"none\"\u001b[39m,\n",
       "      \u001b[32m\"Head of M. Antonius right; around, inscription. Border of dots.\"\u001b[39m,\n",
       "      \u001b[32m\"M\\u00b7ANTON\\u00b7IMP\\u00b7III\\u00b7VIR\\u00b7R\\u00b7P\\u00b7C\\u00b7AVG\"\u001b[39m,\n",
       "      \u001b[32m\"\"\u001b[39m,\n",
       "      \u001b[32m\"Head of Octavian right; around, inscription. Border of dots.\"\u001b[39m,\n",
       "      \u001b[32m\"CAESAR\\u00b7IMP\\u00b7PONT\\u00b7III\\u00b7VIR\\u00b7R\\u00b7P\\u00b7C\"\u001b[39m,\n",
       "      \u001b[32m\"\"\u001b[39m,\n",
       "      \u001b[33mSome\u001b[39m(\u001b[33mYearRange\u001b[39m(\u001b[32m-39\u001b[39m, \u001b[33mSome\u001b[39m(\u001b[32m-39\u001b[39m)))\n",
       "    ),\n",
       "    \u001b[33mCrroIssue\u001b[39m(\n",
       "      \u001b[32m\"http://numismatics.org/crro/id/rrc-529.1\"\u001b[39m,\n",
       "      \u001b[32m\"RRC 529/1\"\u001b[39m,\n",
       "      \u001b[32m\"aureus\"\u001b[39m,\n",
       "      \u001b[32m\"av\"\u001b[39m,\n",
       "      \u001b[32m\"none\"\u001b[39m,\n",
       "      \u001b[32m\"uncertain_value\"\u001b[39m,\n",
       "      \u001b[32m\"none\"\u001b[39m,\n",
       "      \u001b[32m\"Head of Octavian right, bearded. Border of dots.\"\u001b[39m,\n",
       "      \u001b[32m\"CAESAR IMP\"\u001b[39m,\n",
       "      \u001b[32m\"\"\u001b[39m,\n",
       "      \u001b[32m\"Head of M. Antonius right. Border of dots.\"\u001b[39m,\n",
       "      \u001b[32m\"ANTONIVS IMP\"\u001b[39m,\n",
       "      \u001b[32m\"\"\u001b[39m,\n",
       "      \u001b[33mSome\u001b[39m(\u001b[33mYearRange\u001b[39m(\u001b[32m-39\u001b[39m, \u001b[33mSome\u001b[39m(\u001b[32m-39\u001b[39m)))\n",
       "    ),\n",
       "    \u001b[33mCrroIssue\u001b[39m(\n",
       "      \u001b[32m\"http://numismatics.org/crro/id/rrc-529.2a\"\u001b[39m,\n",
       "      \u001b[32m\"RRC 529/2a\"\u001b[39m,\n",
       "      \u001b[32m\"denarius\"\u001b[39m,\n",
       "      \u001b[32m\"ar\"\u001b[39m,\n",
       "..."
      ]
     },
     "execution_count": 10,
     "metadata": {},
     "output_type": "execute_result"
    }
   ],
   "source": [
    "val oLegends = crro.hasObvLegend\n",
    "val rLegends = crro.hasRevLegend\n",
    "println(\"Total number of issues in OCRE: \" + crro.size)\n",
    "println(\"Issues with obv. type description: \" + oLegends.size)\n",
    "println(\"Issues with rev. type description: \" + rLegends.size)\n",
    "val bothLegends = oLegends.hasRevLegend// == rLegends.hasObvLegend\n",
    "println(\"Issues with both obv. and rev. legends: \" + bothLegends.size)\n"
   ]
  },
  {
   "cell_type": "markdown",
   "metadata": {},
   "source": [
    "## Dating information\n",
    "\n",
    "`Issue` classes includes a final optional property with date information about each issue.  Instead of a simple string value, it's an object modeling a range of years.  \n",
    "\n",
    "The `datable` function creates a new `Crro` containing only issues that have dating information.  The functions `dateRange`, `minDate` and `maxDate` identify the chronological limits of all the issues in a given `Crro` instance.  Negative values represent years BCE.\n"
   ]
  },
  {
   "cell_type": "code",
   "execution_count": 12,
   "metadata": {},
   "outputs": [
    {
     "name": "stdout",
     "output_type": "stream",
     "text": [
      "Total number of issues in OCRE: 2281\n",
      "Number of datable issues: 2281\n",
      "Chronological range of issues in OCRE: -326:-31\n",
      "Earliest issue: -326\n",
      "Latest issues: -31\n"
     ]
    }
   ],
   "source": [
    "// THe date range object:\n",
    "println(\"Total number of issues in OCRE: \" + crro.size)\n",
    "println(\"Number of datable issues: \" + crro.datable.size)\n",
    "\n",
    "println(\"Chronological range of issues in OCRE: \" + crro.dateRange)\n",
    "println(\"Earliest issue: \" + crro.minDate)\n",
    "println(\"Latest issues: \" + crro.maxDate)\n"
   ]
  }
 ],
 "metadata": {
  "kernelspec": {
   "display_name": "Scala 2.12",
   "language": "scala",
   "name": "scala212"
  },
  "language_info": {
   "codemirror_mode": "text/x-scala",
   "file_extension": ".scala",
   "mimetype": "text/x-scala",
   "name": "scala",
   "nbconvert_exporter": "script",
   "version": "2.12.10"
  }
 },
 "nbformat": 4,
 "nbformat_minor": 2
}
