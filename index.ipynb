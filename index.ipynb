{
  "cells": [
    {
      "cell_type": "markdown",
      "source": [
        "# Overview of Jupyter notebooks for numismatic data\n",
        "\n",
        "A list of Jupyter notebooks in this repository for working with data from `nomisma.org`, grouped by topic.  The notebooks accompany a series of [blog posts on digital numismatics](http://neelsmith.info/tag-coins/).\n",
        "\n",
        "\n",
        "\n",
        "\n",
        "\n",
        "## OCRE\n",
        "\n",
        "The notebooks linked here work with data from [OCRE](http://numismatics.org/ocre/), the *Online Coins of the Roman Empire*.\n",
        "\n",
        "\n",
        "### Retreiving and constructing datasets\n",
        "\n",
        "- [Loading and parsing OCRE data](building/Reading_ocre_data.ipynb)\n",
        "- [Verifying the contents of an `Ocre` object](building/Verifying_ocre.ipynb)\n",
        "- [Building a citable text corpus from OCRE](building/Ocre_text_corpus.ipynb)\n",
        "\n",
        "\n",
        "### Analyzing numismatic data in OCRE\n",
        "\n",
        "- Summarizing and visualizing [frequencies of property values in OCRE](ocre/Frequencies_ocre.ipynb)\n",
        "- Geographic data in OCRE\n",
        "- Chronological data in OCRE\n",
        "\n",
        "### Analyzing OCRE's textual corpus\n",
        "\n",
        "- [Orthography](ocre/Ocre_char_set.ipynb)\n",
        "- Tokenization\n",
        "- Parsing the morphology of an OCRE text corpus\n",
        "\n",
        "\n",
        "## CRRO\n",
        "\n",
        "The notebooks linked here work with data from [CRRO](http://numismatics.org/crro/), the *Coinage of the Roman Republic Online*.\n",
        "\n",
        "### Retreiving and constructing datasets\n",
        "\n",
        "- [Loading and parsing CRRO data](building/Reading_crro_data.ipynb)\n",
        "- Verifying the contents of a `Crro` object\n",
        "- Building a citable text corpus from CRRO\n",
        "\n",
        "\n",
        "### Analyzing numismatic data in OCRE\n",
        "\n",
        "- Summarizing and visualizing frequencies of property values in CRRO\n",
        "- Geographic data in OCRE\n",
        "- Chronological data in OCRE\n",
        "\n",
        "### Analyzing OCRE's textual corpus\n",
        "\n",
        "- Orthography\n",
        "- Tokenization\n",
        "- Parsing the morphology of a CRRO text corpus\n",
        "\n",
        "\n",
        "\n",
        "## Tweeting in the Roman empire\n",
        "\n",
        "-  Tweeting?"
      ],
      "metadata": {}
    }
  ],
  "metadata": {
    "kernelspec": {
      "name": "scala212",
      "language": "scala",
      "display_name": "Scala212 (almond)"
    },
    "language_info": {
      "codemirror_mode": "text/x-scala",
      "file_extension": ".scala",
      "mimetype": "text/x-scala",
      "name": "scala",
      "nbconvert_exporter": "script",
      "version": "2.12.10"
    },
    "kernel_info": {
      "name": "scala212"
    },
    "nteract": {
      "version": "0.15.0"
    }
  },
  "nbformat": 4,
  "nbformat_minor": 2
}