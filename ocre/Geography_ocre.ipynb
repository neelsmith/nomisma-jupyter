{
 "cells": [
  {
   "cell_type": "markdown",
   "metadata": {},
   "source": [
    "# Geographic distributions in OCRE\n",
    "\n",
    "This notebook looks at the geography of minting in two different ways:\n",
    "\n",
    "- distribution of issues by mint throughout OCRE\n",
    "- distribution of issues by mint by emperor or issuing authority.  \n",
    "\n",
    "It uses version `3.1.1` of the `nomisma` library.\n"
   ]
  },
  {
   "cell_type": "markdown",
   "metadata": {},
   "source": [
    "\n",
    "## Configure Jupyter notebook\n",
    "\n",
    "First configure the Jupyter notebook. In addition to the `nomisma` library, we will use `plotly` for graph plots, and a `histoutils` package to simplify working with histograms."
   ]
  },
  {
   "cell_type": "code",
   "execution_count": 11,
   "metadata": {},
   "outputs": [
    {
     "data": {
      "text/plain": [
       "\u001b[36mmyBT\u001b[39m: \u001b[32mcoursierapi\u001b[39m.\u001b[32mMavenRepository\u001b[39m = MavenRepository(https://dl.bintray.com/neelsmith/maven)"
      ]
     },
     "execution_count": 11,
     "metadata": {},
     "output_type": "execute_result"
    }
   ],
   "source": [
    "// 1. Add maven repository where we can find our libraries\n",
    "val myBT = coursierapi.MavenRepository.of(\"https://dl.bintray.com/neelsmith/maven\")\n",
    "interp.repositories() ++= Seq(myBT)"
   ]
  },
  {
   "cell_type": "code",
   "execution_count": 12,
   "metadata": {
    "collapsed": true
   },
   "outputs": [
    {
     "data": {
      "text/plain": [
       "\u001b[32mimport \u001b[39m\u001b[36m$ivy.$                                  \n",
       "\u001b[39m\n",
       "\u001b[32mimport \u001b[39m\u001b[36m$ivy.$                                     \n",
       "\u001b[39m\n",
       "\u001b[32mimport \u001b[39m\u001b[36m$ivy.$                                      \u001b[39m"
      ]
     },
     "execution_count": 12,
     "metadata": {},
     "output_type": "execute_result"
    }
   ],
   "source": [
    "// 2. Make libraries available with `$ivy` imports:\n",
    "import $ivy.`edu.holycross.shot::nomisma:3.1.1`\n",
    "import $ivy.`edu.holycross.shot::histoutils:2.2.0`\n",
    "import $ivy.`org.plotly-scala::plotly-almond:0.7.1`"
   ]
  },
  {
   "cell_type": "markdown",
   "metadata": {},
   "source": [
    "## Load the full OCRE data set"
   ]
  },
  {
   "cell_type": "code",
   "execution_count": 13,
   "metadata": {
    "collapsed": true
   },
   "outputs": [
    {
     "name": "stderr",
     "output_type": "stream",
     "text": [
      "\u001b[34m2019-12-27 23:31:50.782Z\u001b[0m  \u001b[36minfo\u001b[0m [\u001b[37mOcreSource\u001b[0m] \u001b[36mReading 50644 lines of CEX data.\u001b[0m  \u001b[34m- (OcreSource.scala:21)\u001b[0m\n",
      "\u001b[34m2019-12-27 23:31:51.616Z\u001b[0m  \u001b[36minfo\u001b[0m [\u001b[37mOcreSource\u001b[0m] \u001b[36mCreated Ocre with 50644 issues.\u001b[0m  \u001b[34m- (OcreSource.scala:33)\u001b[0m\n"
     ]
    },
    {
     "name": "stdout",
     "output_type": "stream",
     "text": [
      "50644 records loaded.\n"
     ]
    },
    {
     "data": {
      "text/plain": [
       "\u001b[32mimport \u001b[39m\u001b[36medu.holycross.shot.nomisma._\n",
       "\u001b[39m\n",
       "\u001b[36mocreCex\u001b[39m: \u001b[32mString\u001b[39m = \u001b[32m\"https://raw.githubusercontent.com/neelsmith/nomisma/master/cex/ocre-cite-ids.cex\"\u001b[39m\n",
       "\u001b[36mocre\u001b[39m: \u001b[32mOcre\u001b[39m = \u001b[33mOcre\u001b[39m(\n",
       "  \u001b[33mVector\u001b[39m(\n",
       "..."
      ]
     },
     "execution_count": 13,
     "metadata": {},
     "output_type": "execute_result"
    }
   ],
   "source": [
    "import edu.holycross.shot.nomisma._\n",
    "val ocreCex = \"https://raw.githubusercontent.com/neelsmith/nomisma/master/cex/ocre-cite-ids.cex\"\n",
    "val ocre = OcreSource.fromUrl(ocreCex)\n",
    "\n",
    "// Sanity check:\n",
    "println(ocre.size + \" records loaded.\") \n"
   ]
  },
  {
   "cell_type": "markdown",
   "metadata": {},
   "source": [
    "Set up environment for graph plotting with ploty."
   ]
  },
  {
   "cell_type": "markdown",
   "metadata": {},
   "source": [
    "## Load lon-lat data for mints \n",
    "\n"
   ]
  },
  {
   "cell_type": "code",
   "execution_count": 15,
   "metadata": {
    "collapsed": true
   },
   "outputs": [
    {
     "data": {
      "text/plain": [
       "\u001b[32mimport \u001b[39m\u001b[36mscala.io.Source\n",
       "\u001b[39m\n",
       "\u001b[36mmintsCsv\u001b[39m: \u001b[32mString\u001b[39m = \u001b[32m\"https://raw.githubusercontent.com/neelsmith/nomisma/master/tables/mintpoints.csv\"\u001b[39m\n",
       "\u001b[36mmintsData\u001b[39m: \u001b[32mVector\u001b[39m[\u001b[32mString\u001b[39m] = \u001b[33mVector\u001b[39m(\n",
       "  \u001b[32m\"mint,lon,lat\"\u001b[39m,\n",
       "..."
      ]
     },
     "execution_count": 15,
     "metadata": {},
     "output_type": "execute_result"
    }
   ],
   "source": [
    "import scala.io.Source\n",
    "val mintsCsv = \"https://raw.githubusercontent.com/neelsmith/nomisma/master/tables/mintpoints.csv\"\n",
    "val mintsData = Source.fromURL(mintsCsv).getLines.toVector\n"
   ]
  },
  {
   "cell_type": "code",
   "execution_count": 16,
   "metadata": {},
   "outputs": [
    {
     "name": "stdout",
     "output_type": "stream",
     "text": [
      "Number mints: 1813\n"
     ]
    },
    {
     "data": {
      "text/plain": [
       "\u001b[36mmints\u001b[39m: \u001b[32mMintPointCollection\u001b[39m = \u001b[33mMintPointCollection\u001b[39m(\n",
       "  \u001b[33mVector\u001b[39m(\n",
       "...\n",
       "\u001b[36mocreGeo\u001b[39m: \u001b[32mOcre\u001b[39m = \u001b[33mOcre\u001b[39m(\n",
       "  \u001b[33mVector\u001b[39m(\n",
       "..."
      ]
     },
     "execution_count": 16,
     "metadata": {},
     "output_type": "execute_result"
    }
   ],
   "source": [
    "val mints = MintPointCollection(mintsData.mkString(\"\\n\"), \",\")\n",
    "println(\"Number mints: \" + mints.size)\n",
    "\n",
    "val ocreGeo = Ocre(ocre.issues, mints)"
   ]
  },
  {
   "cell_type": "code",
   "execution_count": 17,
   "metadata": {
    "collapsed": true
   },
   "outputs": [
    {
     "data": {
      "text/plain": [
       "\u001b[36mcountsForMints\u001b[39m: \u001b[32mMap\u001b[39m[\u001b[32mString\u001b[39m, \u001b[32mInt\u001b[39m] = \u001b[33mMap\u001b[39m(\n",
       "  \u001b[32m\"ravenna_com\"\u001b[39m -> \u001b[32m8\u001b[39m,\n",
       "..."
      ]
     },
     "execution_count": 17,
     "metadata": {},
     "output_type": "execute_result"
    }
   ],
   "source": [
    "val countsForMints = ocreGeo.hasMint.issues.groupBy(_.mint).map{ case (mint, iss) => (mint, iss.size)}\n",
    "                                                                                                                           \n",
    "//"
   ]
  },
  {
   "cell_type": "code",
   "execution_count": 18,
   "metadata": {
    "scrolled": true
   },
   "outputs": [
    {
     "name": "stdout",
     "output_type": "stream",
     "text": [
      "No geo data for southern_gallic_mint\n",
      "No geo data for comitatensian_mint\n",
      "No geo data for gallia\n",
      "No geo data for eastern_mint_ric\n",
      "No geo data for peloponnesus\n",
      "No geo data for nicaea_gallia\n",
      "No geo data for asia\n",
      "49 locatable mints\n",
      "mint,lon,lat,issues\n",
      "ravenna_com,12.196604,44.415718,8\n",
      "ravenna,12.196604,44.415718,184\n",
      "lugdunum,4.819444,45.759722,2862\n",
      "carthage,10.312944,36.847009,155\n",
      "pergamum,27.183333,39.116667,42\n",
      "carnuntum,16.866667,48.116667,11\n",
      "caesareia_cappadocia,35.483333,38.733333,35\n",
      "barcino,2.169911,41.387911,4\n",
      "ticinum,9.156562,45.185899,946\n",
      "tripolis_phoenicia,35.8387756,34.4290008,24\n",
      "treveri,6.641389,49.756667,2647\n",
      "arelate,4.630799,43.677616,1070\n",
      "siscia,16.371388,45.483168,2449\n",
      "antiocheia_syria,36.15,36.2,2387\n",
      "colonia_claudia_ara_agrippinensium,6.966667,50.95,144\n",
      "sirmium,19.610106,44.966447,248\n",
      "commagene,36.74,37.25,2\n",
      "caesaraugusta,-0.876,41.657,54\n",
      "heraclea_thracica,27.95528,40.97003,564\n",
      "alexandreia_egypt,29.909773,31.201435,591\n",
      "camulodunum,0.901298,51.889852,360\n",
      "asia_minor,29.53125,38.9594088,37\n",
      "nemausus,4.360278,43.834875,8\n",
      "narbo,3.0042,43.1836,2\n",
      "rotomagus,1.097921,49.441459,82\n",
      "ephesus,27.340833,37.939722,163\n",
      "emerita,-6.34567,38.916159,15\n",
      "aquileia,13.364601,45.768259,1040\n",
      "viminacium,21.166605,44.716471,52\n",
      "londinium,-0.088949,51.513335,889\n",
      "mogontiacum,8.271111,50.0,10\n",
      "cyzicus,27.892255,40.381323,944\n",
      "serdica,23.333333,42.7,218\n",
      "mediolanum,9.18806,45.463746,1418\n",
      "thessalonica,22.95,40.633333,1052\n",
      "pincum,21.510941,44.760588,1\n",
      "samos,26.943056,37.689444,1\n",
      "ambianum,2.293832,49.892624,50\n",
      "ostia,12.287656,41.754855,109\n",
      "nicomedia,29.916667,40.766667,797\n",
      "constantinople,28.976018,41.01224,1350\n",
      "antiocheia_pisidia,31.189704,38.304239,32\n",
      "colonia_patricia,-4.779171,37.884683,131\n",
      "tarraco,1.249594,41.115697,128\n",
      "emisa,36.724237,34.751899,187\n",
      "laodiceia_ad_mare,35.783333,35.516667,219\n",
      "arelate_com,4.62861,43.67694,8\n",
      "rome,12.5,41.9,24296\n",
      "cyrene,21.85727,32.823041,5\n"
     ]
    },
    {
     "data": {
      "text/plain": [
       "\u001b[36mgeoCsv\u001b[39m: \u001b[32mVector\u001b[39m[\u001b[32mString\u001b[39m] = \u001b[33mVector\u001b[39m(\n",
       "  \u001b[32m\"ravenna_com,12.196604,44.415718,8\"\u001b[39m,\n",
       "...\n",
       "\u001b[36mvalidGeo\u001b[39m: \u001b[32mVector\u001b[39m[\u001b[32mString\u001b[39m] = \u001b[33mVector\u001b[39m(\n",
       "  \u001b[32m\"ravenna_com,12.196604,44.415718,8\"\u001b[39m,\n",
       "..."
      ]
     },
     "execution_count": 18,
     "metadata": {},
     "output_type": "execute_result"
    }
   ],
   "source": [
    "val geoCsv = for (mnt <- countsForMints.keySet.toVector) yield {\n",
    "    val geoData = mints.forMint(mnt)\n",
    "    geoData match {\n",
    "        case None => {\n",
    "            println(\"No geo data for \" + mnt)\n",
    "            \"\"\n",
    "        }\n",
    "        case _ =>  {\n",
    "            val csv = mnt + \",\" + geoData.get.pt + \",\" + countsForMints(mnt)\n",
    "            //println(csv)\n",
    "            csv\n",
    "        }\n",
    "    }  \n",
    "}\n",
    "val validGeo = geoCsv.filter(_.nonEmpty)\n",
    "println(validGeo.size + \" locatable mints\")\n",
    "println(\"mint,lon,lat,issues\")\n",
    "println(validGeo.mkString(\"\\n\"))\n",
    "\n",
    "//mints.forMint(\"rome\").get.map(pt => pt.mint + \",\" + pt.pt)\n",
    "//println(mints.mintPoints.filter(_.mint == \"ravenna\"))"
   ]
  },
  {
   "cell_type": "markdown",
   "metadata": {},
   "source": [
    "## Visualize issues per mint per authority"
   ]
  },
  {
   "cell_type": "markdown",
   "metadata": {},
   "source": [
    "Start with a chronologically ordered list of `Ocre` objects grouped by issuing authority:"
   ]
  },
  {
   "cell_type": "code",
   "execution_count": 19,
   "metadata": {
    "collapsed": true
   },
   "outputs": [
    {
     "data": {
      "text/plain": [
       "\u001b[36mbyAuthorityChronological\u001b[39m: \u001b[32mVector\u001b[39m[(\u001b[32mString\u001b[39m, \u001b[32mOcre\u001b[39m)] = \u001b[33mVector\u001b[39m(\n",
       "  (\n",
       "...\n",
       "\u001b[36mauthNames\u001b[39m: \u001b[32mVector\u001b[39m[\u001b[32mString\u001b[39m] = \u001b[33mVector\u001b[39m(\n",
       "  \u001b[32m\"augustus\"\u001b[39m,\n",
       "...\n",
       "\u001b[36mauthOcres\u001b[39m: \u001b[32mVector\u001b[39m[\u001b[32mOcre\u001b[39m] = \u001b[33mVector\u001b[39m(\n",
       "  \u001b[33mOcre\u001b[39m(\n",
       "..."
      ]
     },
     "execution_count": 19,
     "metadata": {},
     "output_type": "execute_result"
    }
   ],
   "source": [
    "val byAuthorityChronological = ocre.hasMint.byAuthority\n",
    "val authNames = byAuthorityChronological.map(_._1)\n",
    "val authOcres =  byAuthorityChronological.map(_._2)\n"
   ]
  },
  {
   "cell_type": "code",
   "execution_count": 34,
   "metadata": {},
   "outputs": [
    {
     "name": "stdout",
     "output_type": "stream",
     "text": [
      "No geo data for peloponnesus\n",
      "No geo data for gallia\n",
      "No geo data for eastern_mint_ric\n",
      "No geo data for asia\n",
      "No geo data for asia\n",
      "No geo data for gallia\n",
      "No geo data for southern_gallic_mint\n",
      "No geo data for southern_gallic_mint\n",
      "No geo data for gallia\n",
      "No geo data for nicaea_gallia\n",
      "No geo data for comitatensian_mint\n"
     ]
    },
    {
     "data": {
      "text/plain": [
       "\u001b[36msummaries\u001b[39m: \u001b[32mVector\u001b[39m[\u001b[32mVector\u001b[39m[\u001b[32mString\u001b[39m]] = \u001b[33mVector\u001b[39m(\n",
       "  \u001b[33mVector\u001b[39m(\n",
       "..."
      ]
     },
     "execution_count": 34,
     "metadata": {},
     "output_type": "execute_result"
    }
   ],
   "source": [
    "val summaries = for (auth <- authNames) yield {\n",
    "\n",
    "    val ocreForAuth =  Ocre(ocre.issuesForAuthority(auth))\n",
    "    val countsForMints = ocreForAuth.hasMint.issues.groupBy(_.mint).map{ case (mint, iss) => (mint, iss.size)}\n",
    "    val csvLines = for (mintCount <- countsForMints) yield {\n",
    "        val mnt =  mintCount._1\n",
    "        val issueCount =  mintCount._2\n",
    "        val geoData = mints.forMint(mnt)\n",
    "        geoData match {\n",
    "            case None => {\n",
    "                println(\"No geo data for \" + mnt)\n",
    "                \"\"\n",
    "            }\n",
    "            case _ =>  {\n",
    "                val csv = auth + \",\" + mnt + \",\" + geoData.get.pt + \",\" + issueCount\n",
    "                //println(csv)\n",
    "                csv\n",
    "            }\n",
    "        }   \n",
    "    }\n",
    "    csvLines.toVector.filter(_.nonEmpty)\n",
    "}\n",
    "\n"
   ]
  },
  {
   "cell_type": "code",
   "execution_count": 36,
   "metadata": {},
   "outputs": [
    {
     "name": "stdout",
     "output_type": "stream",
     "text": [
      "authority,mint,lon,lat,issues\n",
      "augustus,lugdunum,4.819444,45.759722,111\n",
      "augustus,pergamum,27.183333,39.116667,40\n",
      "augustus,treveri,6.641389,49.756667,1\n",
      "augustus,caesaraugusta,-0.876,41.657,54\n",
      "augustus,nemausus,4.360278,43.834875,8\n",
      "augustus,ephesus,27.340833,37.939722,11\n",
      "augustus,emerita,-6.34567,38.916159,15\n",
      "augustus,samos,26.943056,37.689444,1\n",
      "augustus,antiocheia_pisidia,31.189704,38.304239,3\n",
      "augustus,colonia_patricia,-4.779171,37.884683,131\n",
      "augustus,rome,12.5,41.9,195\n",
      "augustus,cyrene,21.85727,32.823041,5\n",
      "tiberius,caesareia_cappadocia,35.483333,38.733333,5\n",
      "tiberius,commagene,36.74,37.25,2\n",
      "tiberius,rome,12.5,41.9,51\n",
      "tiberius,lugdunum,4.819444,45.759722,32\n",
      "gaius,caesareia_cappadocia,35.483333,38.733333,5\n",
      "gaius,rome,12.5,41.9,46\n",
      "gaius,lugdunum,4.819444,45.759722,12\n",
      "claudius,lugdunum,4.819444,45.759722,1\n",
      "claudius,pergamum,27.183333,39.116667,2\n",
      "claudius,caesareia_cappadocia,35.483333,38.733333,5\n",
      "claudius,ephesus,27.340833,37.939722,3\n",
      "claudius,rome,12.5,41.9,115\n",
      "nero,caesareia_cappadocia,35.483333,38.733333,16\n",
      "nero,rome,12.5,41.9,370\n",
      "nero,lugdunum,4.819444,45.759722,236\n",
      "clodius_macer,carthage,10.312944,36.847009,42\n",
      "galba,tarraco,1.249594,41.115697,84\n",
      "galba,rome,12.5,41.9,374\n",
      "galba,lugdunum,4.819444,45.759722,21\n",
      "otho,rome,12.5,41.9,24\n",
      "vitellius,rome,12.5,41.9,112\n",
      "vitellius,lugdunum,4.819444,45.759722,19\n",
      "vespasian,lugdunum,4.819444,45.759722,191\n",
      "vespasian,alexandreia_egypt,29.909773,31.201435,8\n",
      "vespasian,ephesus,27.340833,37.939722,81\n",
      "vespasian,antiocheia_pisidia,31.189704,38.304239,25\n",
      "vespasian,tarraco,1.249594,41.115697,44\n",
      "vespasian,rome,12.5,41.9,1109\n",
      "titus,rome,12.5,41.9,525\n",
      "domitian,rome,12.5,41.9,824\n",
      "nerva,asia_minor,29.53125,38.9594088,27\n",
      "nerva,rome,12.5,41.9,150\n",
      "trajan,asia_minor,29.53125,38.9594088,10\n",
      "trajan,rome,12.5,41.9,932\n",
      "anonymous,rome,12.5,41.9,38\n",
      "hadrian,ephesus,27.340833,37.939722,68\n",
      "hadrian,pincum,21.510941,44.760588,1\n",
      "hadrian,rome,12.5,41.9,2334\n",
      "antoninus_pius,rome,12.5,41.9,2381\n",
      "marcus_aurelius,caesareia_cappadocia,35.483333,38.733333,4\n",
      "marcus_aurelius,rome,12.5,41.9,1814\n",
      "commodus,rome,12.5,41.9,945\n",
      "pertinax,rome,12.5,41.9,71\n",
      "pescennius_niger,antiocheia_syria,36.15,36.2,196\n",
      "didius_julianus,rome,12.5,41.9,52\n",
      "clodius_albinus,rome,12.5,41.9,86\n",
      "clodius_albinus,lugdunum,4.819444,45.759722,68\n",
      "septimius_severus,emisa,36.724237,34.751899,168\n",
      "septimius_severus,alexandreia_egypt,29.909773,31.201435,29\n",
      "septimius_severus,laodiceia_ad_mare,35.783333,35.516667,218\n",
      "septimius_severus,rome,12.5,41.9,1706\n",
      "geta,laodiceia_ad_mare,35.783333,35.516667,1\n",
      "geta,rome,12.5,41.9,38\n",
      "caracalla,rome,12.5,41.9,529\n",
      "diadumenian,rome,12.5,41.9,37\n",
      "macrinus,rome,12.5,41.9,281\n",
      "elagabalus,antiocheia_syria,36.15,36.2,61\n",
      "elagabalus,rome,12.5,41.9,487\n",
      "severus_alexander,antiocheia_syria,36.15,36.2,56\n",
      "severus_alexander,rome,12.5,41.9,871\n",
      "maximinus_thrax,rome,12.5,41.9,159\n",
      "gordian_i,rome,12.5,41.9,16\n",
      "pupienus,rome,12.5,41.9,31\n",
      "balbinus,rome,12.5,41.9,31\n",
      "gordian_ii,rome,12.5,41.9,10\n",
      "philip_the_arab,antiocheia_syria,36.15,36.2,81\n",
      "philip_the_arab,rome,12.5,41.9,467\n",
      "pacatianus,viminacium,21.166605,44.716471,12\n",
      "gordian_iii,antiocheia_syria,36.15,36.2,127\n",
      "gordian_iii,rome,12.5,41.9,425\n",
      "trajan_decius,antiocheia_syria,36.15,36.2,135\n",
      "trajan_decius,rome,12.5,41.9,326\n",
      "trajan_decius,mediolanum,9.18806,45.463746,70\n",
      "hostilian,rome,12.5,41.9,6\n",
      "trebonianus_gallus,antiocheia_syria,36.15,36.2,162\n",
      "trebonianus_gallus,rome,12.5,41.9,134\n",
      "trebonianus_gallus,mediolanum,9.18806,45.463746,10\n",
      "volusian,antiocheia_syria,36.15,36.2,116\n",
      "volusian,rome,12.5,41.9,131\n",
      "volusian,mediolanum,9.18806,45.463746,9\n",
      "uranius_antoninus,emisa,36.724237,34.751899,19\n",
      "aemilian,rome,12.5,41.9,59\n",
      "valerian,lugdunum,4.819444,45.759722,171\n",
      "valerian,antiocheia_syria,36.15,36.2,57\n",
      "valerian,viminacium,21.166605,44.716471,40\n",
      "valerian,mediolanum,9.18806,45.463746,350\n",
      "valerian,rome,12.5,41.9,854\n",
      "quietus,antiocheia_syria,36.15,36.2,13\n",
      "macrianus_minor,antiocheia_syria,36.15,36.2,13\n",
      "regalianus,carnuntum,16.866667,48.116667,9\n",
      "dryantilla,carnuntum,16.866667,48.116667,2\n",
      "gallienus,siscia,16.371388,45.483168,448\n",
      "gallienus,rome,12.5,41.9,1850\n",
      "gallienus,mediolanum,9.18806,45.463746,538\n",
      "postumus,colonia_claudia_ara_agrippinensium,6.966667,50.95,113\n",
      "postumus,mediolanum,9.18806,45.463746,24\n",
      "postumus,lugdunum,4.819444,45.759722,255\n",
      "aureolus,mediolanum,9.18806,45.463746,2\n",
      "quintillus,siscia,16.371388,45.483168,19\n",
      "quintillus,antiocheia_syria,36.15,36.2,1\n",
      "quintillus,cyzicus,27.892255,40.381323,6\n",
      "quintillus,mediolanum,9.18806,45.463746,23\n",
      "quintillus,rome,12.5,41.9,48\n",
      "marius,colonia_claudia_ara_agrippinensium,6.966667,50.95,1\n",
      "claudius_ii_gothicus,siscia,16.371388,45.483168,21\n",
      "claudius_ii_gothicus,antiocheia_syria,36.15,36.2,30\n",
      "claudius_ii_gothicus,cyzicus,27.892255,40.381323,29\n",
      "claudius_ii_gothicus,mediolanum,9.18806,45.463746,46\n",
      "claudius_ii_gothicus,rome,12.5,41.9,129\n",
      "laelianus,mogontiacum,8.271111,50.0,10\n",
      "victorinus,colonia_claudia_ara_agrippinensium,6.966667,50.95,30\n",
      "aurelian,lugdunum,4.819444,45.759722,8\n",
      "aurelian,ticinum,9.156562,45.185899,7\n",
      "aurelian,tripolis_phoenicia,35.8387756,34.4290008,1\n",
      "aurelian,siscia,16.371388,45.483168,108\n",
      "aurelian,antiocheia_syria,36.15,36.2,20\n",
      "aurelian,cyzicus,27.892255,40.381323,131\n",
      "aurelian,serdica,23.333333,42.7,67\n",
      "aurelian,mediolanum,9.18806,45.463746,65\n",
      "aurelian,rome,12.5,41.9,84\n",
      "tacitus,ticinum,9.156562,45.185899,64\n",
      "tacitus,tripolis_phoenicia,35.8387756,34.4290008,2\n",
      "tacitus,siscia,16.371388,45.483168,16\n",
      "tacitus,cyzicus,27.892255,40.381323,4\n",
      "tacitus,serdica,23.333333,42.7,15\n",
      "tacitus,antiocheia_pisidia,31.189704,38.304239,4\n",
      "tacitus,rome,12.5,41.9,40\n",
      "florianus,lugdunum,4.819444,45.759722,16\n",
      "florianus,ticinum,9.156562,45.185899,40\n",
      "florianus,siscia,16.371388,45.483168,13\n",
      "florianus,cyzicus,27.892255,40.381323,4\n",
      "florianus,serdica,23.333333,42.7,4\n",
      "florianus,rome,12.5,41.9,40\n",
      "probus,lugdunum,4.819444,45.759722,131\n",
      "probus,ticinum,9.156562,45.185899,274\n",
      "probus,tripolis_phoenicia,35.8387756,34.4290008,3\n",
      "probus,siscia,16.371388,45.483168,244\n",
      "probus,antiocheia_syria,36.15,36.2,12\n",
      "probus,cyzicus,27.892255,40.381323,24\n",
      "probus,serdica,23.333333,42.7,67\n",
      "probus,rome,12.5,41.9,198\n",
      "saturninus,alexandreia_egypt,29.909773,31.201435,1\n",
      "carus,lugdunum,4.819444,45.759722,55\n",
      "carus,ticinum,9.156562,45.185899,45\n",
      "carus,tripolis_phoenicia,35.8387756,34.4290008,5\n",
      "carus,siscia,16.371388,45.483168,35\n",
      "carus,antiocheia_syria,36.15,36.2,19\n",
      "carus,cyzicus,27.892255,40.381323,14\n",
      "carus,rome,12.5,41.9,62\n",
      "numerian,lugdunum,4.819444,45.759722,20\n",
      "numerian,ticinum,9.156562,45.185899,10\n",
      "numerian,tripolis_phoenicia,35.8387756,34.4290008,1\n",
      "numerian,siscia,16.371388,45.483168,10\n",
      "numerian,antiocheia_syria,36.15,36.2,6\n",
      "numerian,cyzicus,27.892255,40.381323,2\n",
      "numerian,rome,12.5,41.9,41\n",
      "carinus,lugdunum,4.819444,45.759722,17\n",
      "carinus,ticinum,9.156562,45.185899,18\n",
      "carinus,tripolis_phoenicia,35.8387756,34.4290008,2\n",
      "carinus,siscia,16.371388,45.483168,15\n",
      "carinus,antiocheia_syria,36.15,36.2,3\n",
      "carinus,cyzicus,27.892255,40.381323,8\n",
      "carinus,rome,12.5,41.9,82\n",
      "sabinus_julianus,siscia,16.371388,45.483168,5\n",
      "carausius,londinium,-0.088949,51.513335,207\n",
      "carausius,camulodunum,0.901298,51.889852,287\n",
      "carausius,rotomagus,1.097921,49.441459,82\n",
      "diocletian,tripolis_phoenicia,35.8387756,34.4290008,10\n",
      "diocletian,antiocheia_syria,36.15,36.2,133\n",
      "diocletian,heraclea_thracica,27.95528,40.97003,32\n",
      "diocletian,alexandreia_egypt,29.909773,31.201435,74\n",
      "diocletian,cyzicus,27.892255,40.381323,68\n",
      "diocletian,serdica,23.333333,42.7,8\n",
      "diocletian,thessalonica,22.95,40.633333,42\n",
      "diocletian,nicomedia,29.916667,40.766667,38\n",
      "allectus,londinium,-0.088949,51.513335,59\n",
      "allectus,camulodunum,0.901298,51.889852,73\n",
      "maximian,lugdunum,4.819444,45.759722,540\n",
      "maximian,carthage,10.312944,36.847009,65\n",
      "maximian,ticinum,9.156562,45.185899,166\n",
      "maximian,treveri,6.641389,49.756667,832\n",
      "maximian,siscia,16.371388,45.483168,279\n",
      "maximian,aquileia,13.364601,45.768259,67\n",
      "maximian,londinium,-0.088949,51.513335,50\n",
      "maximian,rome,12.5,41.9,327\n",
      "constantius_chlorus,lugdunum,4.819444,45.759722,10\n",
      "constantius_chlorus,carthage,10.312944,36.847009,8\n",
      "constantius_chlorus,ticinum,9.156562,45.185899,21\n",
      "constantius_chlorus,treveri,6.641389,49.756667,79\n",
      "constantius_chlorus,siscia,16.371388,45.483168,49\n",
      "constantius_chlorus,aquileia,13.364601,45.768259,56\n",
      "constantius_chlorus,londinium,-0.088949,51.513335,48\n",
      "constantius_chlorus,rome,12.5,41.9,32\n",
      "severus_ii,lugdunum,4.819444,45.759722,58\n",
      "severus_ii,carthage,10.312944,36.847009,4\n",
      "severus_ii,ticinum,9.156562,45.185899,32\n",
      "severus_ii,treveri,6.641389,49.756667,33\n",
      "severus_ii,siscia,16.371388,45.483168,14\n",
      "severus_ii,aquileia,13.364601,45.768259,40\n",
      "severus_ii,londinium,-0.088949,51.513335,4\n",
      "galerius,heraclea_thracica,27.95528,40.97003,52\n",
      "galerius,cyzicus,27.892255,40.381323,70\n",
      "galerius,serdica,23.333333,42.7,53\n",
      "galerius,thessalonica,22.95,40.633333,23\n",
      "galerius,nicomedia,29.916667,40.766667,44\n",
      "domitius_alexander,carthage,10.312944,36.847009,15\n",
      "maximinus_daia,alexandreia_egypt,29.909773,31.201435,152\n",
      "maximinus_daia,antiocheia_syria,36.15,36.2,156\n",
      "maximinus_daia,cyzicus,27.892255,40.381323,45\n",
      "maximinus_daia,nicomedia,29.916667,40.766667,27\n",
      "maxentius,carthage,10.312944,36.847009,21\n",
      "maxentius,ticinum,9.156562,45.185899,28\n",
      "maxentius,aquileia,13.364601,45.768259,31\n",
      "maxentius,ostia,12.287656,41.754855,65\n",
      "maxentius,rome,12.5,41.9,155\n",
      "licinius,siscia,16.371388,45.483168,89\n",
      "licinius,antiocheia_syria,36.15,36.2,36\n",
      "licinius,heraclea_thracica,27.95528,40.97003,71\n",
      "licinius,alexandreia_egypt,29.909773,31.201435,33\n",
      "licinius,cyzicus,27.892255,40.381323,19\n",
      "licinius,serdica,23.333333,42.7,4\n",
      "licinius,thessalonica,22.95,40.633333,30\n",
      "licinius,nicomedia,29.916667,40.766667,50\n",
      "licinius,rome,12.5,41.9,248\n",
      "constantine_i,lugdunum,4.819444,45.759722,364\n",
      "constantine_i,ticinum,9.156562,45.185899,241\n",
      "constantine_i,treveri,6.641389,49.756667,847\n",
      "constantine_i,arelate,4.630799,43.677616,416\n",
      "constantine_i,siscia,16.371388,45.483168,245\n",
      "constantine_i,antiocheia_syria,36.15,36.2,79\n",
      "constantine_i,sirmium,19.610106,44.966447,67\n",
      "constantine_i,heraclea_thracica,27.95528,40.97003,102\n",
      "constantine_i,alexandreia_egypt,29.909773,31.201435,38\n",
      "constantine_i,aquileia,13.364601,45.768259,165\n",
      "constantine_i,londinium,-0.088949,51.513335,516\n",
      "constantine_i,cyzicus,27.892255,40.381323,127\n",
      "constantine_i,thessalonica,22.95,40.633333,225\n",
      "constantine_i,ostia,12.287656,41.754855,44\n",
      "constantine_i,nicomedia,29.916667,40.766667,157\n",
      "constantine_i,constantinople,28.976018,41.01224,158\n",
      "constantine_i,rome,12.5,41.9,305\n",
      "constantine_ii,lugdunum,4.819444,45.759722,31\n",
      "constantine_ii,treveri,6.641389,49.756667,119\n",
      "constantine_ii,arelate,4.630799,43.677616,58\n",
      "constantine_ii,siscia,16.371388,45.483168,107\n",
      "constantine_ii,aquileia,13.364601,45.768259,36\n",
      "constantine_ii,rome,12.5,41.9,99\n",
      "constans,lugdunum,4.819444,45.759722,78\n",
      "constans,treveri,6.641389,49.756667,130\n",
      "constans,arelate,4.630799,43.677616,72\n",
      "constans,siscia,16.371388,45.483168,158\n",
      "constans,aquileia,13.364601,45.768259,90\n",
      "constans,rome,12.5,41.9,138\n",
      "constantius_ii,lugdunum,4.819444,45.759722,27\n",
      "constantius_ii,treveri,6.641389,49.756667,34\n",
      "constantius_ii,arelate,4.630799,43.677616,79\n",
      "constantius_ii,siscia,16.371388,45.483168,149\n",
      "constantius_ii,antiocheia_syria,36.15,36.2,200\n",
      "constantius_ii,sirmium,19.610106,44.966447,91\n",
      "constantius_ii,heraclea_thracica,27.95528,40.97003,100\n",
      "constantius_ii,alexandreia_egypt,29.909773,31.201435,89\n",
      "constantius_ii,aquileia,13.364601,45.768259,64\n",
      "constantius_ii,cyzicus,27.892255,40.381323,126\n",
      "constantius_ii,mediolanum,9.18806,45.463746,2\n",
      "constantius_ii,thessalonica,22.95,40.633333,218\n",
      "constantius_ii,ambianum,2.293832,49.892624,4\n",
      "constantius_ii,nicomedia,29.916667,40.766667,118\n",
      "constantius_ii,constantinople,28.976018,41.01224,157\n",
      "constantius_ii,rome,12.5,41.9,159\n",
      "magnentius,lugdunum,4.819444,45.759722,72\n",
      "magnentius,treveri,6.641389,49.756667,90\n",
      "magnentius,arelate,4.630799,43.677616,75\n",
      "magnentius,siscia,16.371388,45.483168,2\n",
      "magnentius,aquileia,13.364601,45.768259,58\n",
      "magnentius,ambianum,2.293832,49.892624,46\n",
      "magnentius,rome,12.5,41.9,82\n",
      "julian_the_apostate,lugdunum,4.819444,45.759722,38\n",
      "julian_the_apostate,treveri,6.641389,49.756667,5\n",
      "julian_the_apostate,arelate,4.630799,43.677616,47\n",
      "julian_the_apostate,siscia,16.371388,45.483168,14\n",
      "julian_the_apostate,antiocheia_syria,36.15,36.2,27\n",
      "julian_the_apostate,sirmium,19.610106,44.966447,18\n",
      "julian_the_apostate,heraclea_thracica,27.95528,40.97003,6\n",
      "julian_the_apostate,alexandreia_egypt,29.909773,31.201435,3\n",
      "julian_the_apostate,aquileia,13.364601,45.768259,4\n",
      "julian_the_apostate,cyzicus,27.892255,40.381323,10\n",
      "julian_the_apostate,thessalonica,22.95,40.633333,12\n",
      "julian_the_apostate,nicomedia,29.916667,40.766667,12\n",
      "julian_the_apostate,constantinople,28.976018,41.01224,12\n",
      "julian_the_apostate,rome,12.5,41.9,24\n",
      "jovianus,lugdunum,4.819444,45.759722,2\n",
      "jovianus,arelate,4.630799,43.677616,9\n",
      "jovianus,siscia,16.371388,45.483168,4\n",
      "jovianus,antiocheia_syria,36.15,36.2,12\n",
      "jovianus,sirmium,19.610106,44.966447,12\n",
      "jovianus,heraclea_thracica,27.95528,40.97003,5\n",
      "jovianus,alexandreia_egypt,29.909773,31.201435,1\n",
      "jovianus,aquileia,13.364601,45.768259,2\n",
      "jovianus,cyzicus,27.892255,40.381323,2\n",
      "jovianus,thessalonica,22.95,40.633333,11\n",
      "jovianus,nicomedia,29.916667,40.766667,4\n",
      "jovianus,constantinople,28.976018,41.01224,12\n",
      "jovianus,rome,12.5,41.9,22\n",
      "procopius,constantinople,28.976018,41.01224,55\n",
      "procopius,heraclea_thracica,27.95528,40.97003,13\n",
      "procopius,cyzicus,27.892255,40.381323,17\n",
      "procopius,nicomedia,29.916667,40.766667,12\n",
      "valentinian_i,lugdunum,4.819444,45.759722,150\n",
      "valentinian_i,treveri,6.641389,49.756667,208\n",
      "valentinian_i,arelate,4.630799,43.677616,186\n",
      "valentinian_i,siscia,16.371388,45.483168,204\n",
      "valentinian_i,sirmium,19.610106,44.966447,26\n",
      "valentinian_i,aquileia,13.364601,45.768259,164\n",
      "valentinian_i,mediolanum,9.18806,45.463746,10\n",
      "valentinian_i,thessalonica,22.95,40.633333,245\n",
      "valentinian_i,rome,12.5,41.9,224\n",
      "valens,antiocheia_syria,36.15,36.2,308\n",
      "valens,heraclea_thracica,27.95528,40.97003,53\n",
      "valens,alexandreia_egypt,29.909773,31.201435,50\n",
      "valens,cyzicus,27.892255,40.381323,62\n",
      "valens,nicomedia,29.916667,40.766667,120\n",
      "valens,constantinople,28.976018,41.01224,254\n",
      "gratian,treveri,6.641389,49.756667,155\n",
      "gratian,arelate,4.630799,43.677616,50\n",
      "gratian,rome,12.5,41.9,201\n",
      "gratian,lugdunum,4.819444,45.759722,31\n",
      "uncertain_value,treveri,6.641389,49.756667,2\n",
      "magnus_maximus,lugdunum,4.819444,45.759722,23\n",
      "magnus_maximus,treveri,6.641389,49.756667,33\n",
      "magnus_maximus,arelate,4.630799,43.677616,24\n",
      "magnus_maximus,aquileia,13.364601,45.768259,12\n",
      "magnus_maximus,londinium,-0.088949,51.513335,5\n",
      "magnus_maximus,mediolanum,9.18806,45.463746,7\n",
      "magnus_maximus,rome,12.5,41.9,6\n",
      "valentinian_ii,lugdunum,4.819444,45.759722,34\n",
      "valentinian_ii,treveri,6.641389,49.756667,32\n",
      "valentinian_ii,arelate,4.630799,43.677616,12\n",
      "valentinian_ii,siscia,16.371388,45.483168,175\n",
      "valentinian_ii,sirmium,19.610106,44.966447,8\n",
      "valentinian_ii,aquileia,13.364601,45.768259,214\n",
      "valentinian_ii,mediolanum,9.18806,45.463746,55\n",
      "valentinian_ii,thessalonica,22.95,40.633333,139\n",
      "valentinian_ii,rome,12.5,41.9,155\n",
      "theodosius_i,lugdunum,4.819444,45.759722,1\n",
      "theodosius_i,treveri,6.641389,49.756667,8\n",
      "theodosius_i,arelate,4.630799,43.677616,4\n",
      "theodosius_i,siscia,16.371388,45.483168,24\n",
      "theodosius_i,antiocheia_syria,36.15,36.2,284\n",
      "theodosius_i,sirmium,19.610106,44.966447,23\n",
      "theodosius_i,heraclea_thracica,27.95528,40.97003,104\n",
      "theodosius_i,alexandreia_egypt,29.909773,31.201435,91\n",
      "theodosius_i,aquileia,13.364601,45.768259,6\n",
      "theodosius_i,cyzicus,27.892255,40.381323,128\n",
      "theodosius_i,mediolanum,9.18806,45.463746,16\n",
      "theodosius_i,thessalonica,22.95,40.633333,39\n",
      "theodosius_i,nicomedia,29.916667,40.766667,161\n",
      "theodosius_i,constantinople,28.976018,41.01224,237\n",
      "theodosius_i,rome,12.5,41.9,50\n",
      "eugenius,lugdunum,4.819444,45.759722,3\n",
      "eugenius,treveri,6.641389,49.756667,8\n",
      "eugenius,arelate,4.630799,43.677616,3\n",
      "eugenius,mediolanum,9.18806,45.463746,10\n",
      "eugenius,rome,12.5,41.9,5\n",
      "arcadius,antiocheia_syria,36.15,36.2,21\n",
      "arcadius,sirmium,19.610106,44.966447,3\n",
      "arcadius,heraclea_thracica,27.95528,40.97003,9\n",
      "arcadius,alexandreia_egypt,29.909773,31.201435,16\n",
      "arcadius,cyzicus,27.892255,40.381323,16\n",
      "arcadius,thessalonica,22.95,40.633333,8\n",
      "arcadius,nicomedia,29.916667,40.766667,15\n",
      "arcadius,constantinople,28.976018,41.01224,74\n",
      "constantine_iii,treveri,6.641389,49.756667,9\n",
      "constantine_iii,arelate,4.630799,43.677616,14\n",
      "constantine_iii,lugdunum,4.819444,45.759722,22\n",
      "honorius,ravenna,12.196604,44.415718,53\n",
      "honorius,lugdunum,4.819444,45.759722,5\n",
      "honorius,treveri,6.641389,49.756667,4\n",
      "honorius,arelate,4.630799,43.677616,9\n",
      "honorius,siscia,16.371388,45.483168,2\n",
      "honorius,aquileia,13.364601,45.768259,22\n",
      "honorius,mediolanum,9.18806,45.463746,40\n",
      "honorius,rome,12.5,41.9,40\n",
      "maximus_barcelona,barcino,2.169911,41.387911,4\n",
      "priscus_attalus,narbo,3.0042,43.1836,2\n",
      "priscus_attalus,rome,12.5,41.9,15\n",
      "jovinus,treveri,6.641389,49.756667,6\n",
      "jovinus,arelate,4.630799,43.677616,7\n",
      "jovinus,lugdunum,4.819444,45.759722,9\n",
      "joannes,arelate,4.630799,43.677616,1\n",
      "joannes,ravenna,12.196604,44.415718,7\n",
      "joannes,rome,12.5,41.9,14\n",
      "joannes,mediolanum,9.18806,45.463746,1\n",
      "theodosius_ii,ravenna,12.196604,44.415718,2\n",
      "theodosius_ii,antiocheia_syria,36.15,36.2,4\n",
      "theodosius_ii,heraclea_thracica,27.95528,40.97003,8\n",
      "theodosius_ii,alexandreia_egypt,29.909773,31.201435,4\n",
      "theodosius_ii,aquileia,13.364601,45.768259,8\n",
      "theodosius_ii,cyzicus,27.892255,40.381323,13\n",
      "theodosius_ii,mediolanum,9.18806,45.463746,1\n",
      "theodosius_ii,thessalonica,22.95,40.633333,27\n",
      "theodosius_ii,nicomedia,29.916667,40.766667,11\n",
      "theodosius_ii,constantinople,28.976018,41.01224,194\n",
      "valentinian_iii,ravenna,12.196604,44.415718,35\n",
      "valentinian_iii,treveri,6.641389,49.756667,12\n",
      "valentinian_iii,aquileia,13.364601,45.768259,1\n",
      "valentinian_iii,mediolanum,9.18806,45.463746,7\n",
      "valentinian_iii,rome,12.5,41.9,131\n",
      "marcian,ravenna,12.196604,44.415718,2\n",
      "marcian,antiocheia_syria,36.15,36.2,5\n",
      "marcian,heraclea_thracica,27.95528,40.97003,4\n",
      "marcian,cyzicus,27.892255,40.381323,6\n",
      "marcian,mediolanum,9.18806,45.463746,2\n",
      "marcian,thessalonica,22.95,40.633333,5\n",
      "marcian,nicomedia,29.916667,40.766667,13\n",
      "marcian,constantinople,28.976018,41.01224,37\n",
      "marcian,rome,12.5,41.9,1\n",
      "petronius_maximus,rome,12.5,41.9,2\n",
      "petronius_maximus,ravenna,12.196604,44.415718,1\n",
      "avitus,arelate,4.630799,43.677616,2\n",
      "avitus,rome,12.5,41.9,6\n",
      "avitus,mediolanum,9.18806,45.463746,5\n",
      "majorian,ravenna_com,12.196604,44.415718,8\n",
      "majorian,ravenna,12.196604,44.415718,10\n",
      "majorian,mediolanum,9.18806,45.463746,14\n",
      "majorian,arelate_com,4.62861,43.67694,8\n",
      "libius_severus,rome,12.5,41.9,7\n",
      "libius_severus,ravenna,12.196604,44.415718,2\n",
      "libius_severus,mediolanum,9.18806,45.463746,9\n",
      "leo_i,ravenna,12.196604,44.415718,5\n",
      "leo_i,antiocheia_syria,36.15,36.2,2\n",
      "leo_i,heraclea_thracica,27.95528,40.97003,5\n",
      "leo_i,alexandreia_egypt,29.909773,31.201435,2\n",
      "leo_i,cyzicus,27.892255,40.381323,5\n",
      "leo_i,mediolanum,9.18806,45.463746,13\n",
      "leo_i,thessalonica,22.95,40.633333,17\n",
      "leo_i,nicomedia,29.916667,40.766667,10\n",
      "leo_i,constantinople,28.976018,41.01224,74\n",
      "leo_i,rome,12.5,41.9,16\n",
      "anthemius,ravenna,12.196604,44.415718,18\n",
      "anthemius,rome,12.5,41.9,66\n",
      "anthemius,mediolanum,9.18806,45.463746,21\n",
      "olybrius,rome,12.5,41.9,3\n",
      "olybrius,mediolanum,9.18806,45.463746,1\n",
      "glycerius,ravenna,12.196604,44.415718,8\n",
      "glycerius,mediolanum,9.18806,45.463746,3\n",
      "leo_ii,constantinople,28.976018,41.01224,8\n",
      "basiliscus,ravenna,12.196604,44.415718,5\n",
      "basiliscus,cyzicus,27.892255,40.381323,2\n",
      "basiliscus,mediolanum,9.18806,45.463746,8\n",
      "basiliscus,thessalonica,22.95,40.633333,3\n",
      "basiliscus,nicomedia,29.916667,40.766667,1\n",
      "basiliscus,constantinople,28.976018,41.01224,26\n",
      "basiliscus,rome,12.5,41.9,3\n",
      "romulus_augustulus,arelate,4.630799,43.677616,1\n",
      "romulus_augustulus,rome,12.5,41.9,12\n",
      "romulus_augustulus,ravenna,12.196604,44.415718,1\n",
      "romulus_augustulus,mediolanum,9.18806,45.463746,7\n",
      "julius_nepos,arelate,4.630799,43.677616,1\n",
      "julius_nepos,rome,12.5,41.9,11\n",
      "julius_nepos,ravenna,12.196604,44.415718,7\n",
      "julius_nepos,mediolanum,9.18806,45.463746,25\n",
      "odoacer,ravenna,12.196604,44.415718,2\n",
      "zeno,ravenna,12.196604,44.415718,26\n",
      "zeno,antiocheia_syria,36.15,36.2,9\n",
      "zeno,cyzicus,27.892255,40.381323,6\n",
      "zeno,mediolanum,9.18806,45.463746,24\n",
      "zeno,thessalonica,22.95,40.633333,8\n",
      "zeno,nicomedia,29.916667,40.766667,4\n",
      "zeno,constantinople,28.976018,41.01224,52\n",
      "zeno,rome,12.5,41.9,17\n",
      "leontius,antiocheia_syria,36.15,36.2,3\n"
     ]
    }
   ],
   "source": [
    "println(\"authority,mint,lon,lat,issues\")\n",
    "println(summaries.flatten.mkString(\"\\n\"))\n",
    "\n"
   ]
  },
  {
   "cell_type": "code",
   "execution_count": 35,
   "metadata": {},
   "outputs": [
    {
     "data": {
      "text/plain": [
       "\u001b[32mimport \u001b[39m\u001b[36mjava.io.PrintWriter\n",
       "\u001b[39m\n",
       "\u001b[36mres34_1\u001b[39m: \u001b[32mPrintWriter\u001b[39m = ammonite.$sess.cmd34$Helper$$anon$1@46962f1f"
      ]
     },
     "execution_count": 35,
     "metadata": {},
     "output_type": "execute_result"
    }
   ],
   "source": [
    "// If you're running this locally and want to save the CSV data to a file,\n",
    "// uncomment these two lines:\n",
    "//import java.io.PrintWriter\n",
    "//new PrintWriter(\"mint-issues-by-auth.csv\"){write(\"authority,mint,lon,lat,issues\\n\" + summaries.flatten.mkString(\"\\n\")); close;}\n",
    "\n"
   ]
  }
 ],
 "metadata": {
  "kernelspec": {
   "display_name": "Scala 2.12",
   "language": "scala",
   "name": "scala212"
  },
  "language_info": {
   "codemirror_mode": "text/x-scala",
   "file_extension": ".scala",
   "mimetype": "text/x-scala",
   "name": "scala",
   "nbconvert_exporter": "script",
   "version": "2.12.10"
  }
 },
 "nbformat": 4,
 "nbformat_minor": 2
}
