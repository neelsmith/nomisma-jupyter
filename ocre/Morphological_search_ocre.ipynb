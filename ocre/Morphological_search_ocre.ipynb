{
 "cells": [
  {
   "cell_type": "markdown",
   "metadata": {},
   "source": [
    "# Find OCRE coins by morphological search\n",
    "\n",
    "## Contents of this notebook\n",
    "\n",
    "This notebook shows how to build a parsed Latin corpus (a `latincorpus` object) for OCRE texts, and use that to go from a single surface form to a morphologically sensitive full-corpus search.\n",
    "\n"
   ]
  },
  {
   "cell_type": "markdown",
   "metadata": {},
   "source": [
    "## Configure Jupyter notebook to find libraries"
   ]
  },
  {
   "cell_type": "code",
   "execution_count": null,
   "metadata": {},
   "outputs": [],
   "source": [
    "// 1. Add maven repository where we can find our libraries\n",
    "val myBT = coursierapi.MavenRepository.of(\"https://dl.bintray.com/neelsmith/maven\")\n",
    "interp.repositories() ++= Seq(myBT)"
   ]
  },
  {
   "cell_type": "code",
   "execution_count": null,
   "metadata": {},
   "outputs": [],
   "source": [
    "// 2. Make libraries available with `ivy` imports:\n",
    "import $ivy.`edu.holycross.shot::ohco2:10.18.1`\n",
    "import $ivy.`edu.holycross.shot::midvalidator:9.2.0`\n",
    "import $ivy.`edu.holycross.shot::latphone:2.7.2`\n",
    "import $ivy.`edu.holycross.shot::latincorpus:2.2.1`"
   ]
  },
  {
   "cell_type": "markdown",
   "metadata": {},
   "source": [
    "## Build a `LatinCorpus`\n",
    "\n",
    "The `LatinCorpus` class lets you work with a morphologically parsed corpus of Latin texts.  We build a citable `Corpus`, and associate morpholoigcal data with it."
   ]
  },
  {
   "cell_type": "code",
   "execution_count": null,
   "metadata": {},
   "outputs": [],
   "source": [
    "//Import all libraries:\n",
    "import edu.holycross.shot.ohco2._\n",
    "import scala.io.Source\n",
    "import edu.holycross.shot.mid.validator._\n",
    "import edu.holycross.shot.latin._\n",
    "import edu.holycross.shot.latincorpus._"
   ]
  },
  {
   "cell_type": "markdown",
   "metadata": {},
   "source": [
    "Download data and build a citable `Corpus':"
   ]
  },
  {
   "cell_type": "code",
   "execution_count": null,
   "metadata": {},
   "outputs": [],
   "source": [
    "val url = \"https://raw.githubusercontent.com/neelsmith/hctexts/master/cex/ocre43k.cex\"\n",
    "val corpus = CorpusSource.fromUrl(url, cexHeader = true)"
   ]
  },
  {
   "cell_type": "markdown",
   "metadata": {},
   "source": [
    "Download previously compiled morphological analyses:"
   ]
  },
  {
   "cell_type": "code",
   "execution_count": null,
   "metadata": {},
   "outputs": [],
   "source": [
    "val fstUrl = \"https://raw.githubusercontent.com/neelsmith/hctexts/master/workfiles/ocre/ocre-fst.txt\"\n",
    "val fstLines = Source.fromURL(fstUrl).getLines.toVector"
   ]
  },
  {
   "cell_type": "markdown",
   "metadata": {},
   "source": [
    "Construct a `LatinCorpus`:\n"
   ]
  },
  {
   "cell_type": "code",
   "execution_count": null,
   "metadata": {},
   "outputs": [],
   "source": [
    "val ocrelat = LatinCorpus.fromFstLines(corpus, Latin24Alphabet, fstLines, strict = false)\n"
   ]
  },
  {
   "cell_type": "markdown",
   "metadata": {},
   "source": [
    "## Find Ocre issues by morphological search\n",
    "\n",
    "Define useful functions to lookup occurrecnes of a given lexeme, and to find OCRE IDs for coins including any form of a given token in its legends:"
   ]
  },
  {
   "cell_type": "code",
   "execution_count": null,
   "metadata": {},
   "outputs": [],
   "source": [
    "// Find coin IDs where a specified lexeme occurs.\n",
    "def findLexemeOccurrences(lexemeId: String) : Vector[String] = {\n",
    "    val occurrences =  ocrelat.lexemeConcordance(lexemeId)\n",
    "    // Convert text references to coin IDs:\n",
    "    occurrences.map(_.collapsePassageBy(1).passageComponent)\n",
    "}\n",
    "\n",
    "\n",
    "// Find coin IDs where any form of a given token appears\n",
    "def findOccurrences(tkn : String, latCorpus: LatinCorpus) : Vector[String] = {\n",
    "    val lexemeIds = latCorpus.tokenLexemeIndex(\"libertas\")\n",
    "    if (lexemeIds.size == 1){\n",
    "        val lexemeId = lexemeIds(0)\n",
    "        findLexemeOccurrences(lexemeId)\n",
    "\n",
    "    } else {\n",
    "      println(\"Found \" + lexemeIds.size + \" lexemes for \" + tkn)\n",
    "      Vector.empty[String]\n",
    "    }\n",
    "}\n",
    "\n"
   ]
  },
  {
   "cell_type": "markdown",
   "metadata": {},
   "source": [
    "## `Libertas` in OCRE\n",
    "\n",
    "Example:  find all coins with legends including a form of `libertas`."
   ]
  },
  {
   "cell_type": "code",
   "execution_count": null,
   "metadata": {},
   "outputs": [],
   "source": [
    "val token = \"libertas\"\n",
    "val libertasCoins = findOccurrences(token, ocrelat)\n",
    "println(\"Found \" + libertasCoins.size + \" coins with legends including a form of 'libertas'\")\n"
   ]
  }
 ],
 "metadata": {
  "kernel_info": {
   "name": "scala212"
  },
  "kernelspec": {
   "display_name": "Scala 2.12",
   "language": "scala",
   "name": "scala212"
  },
  "language_info": {
   "codemirror_mode": "text/x-scala",
   "file_extension": ".scala",
   "mimetype": "text/x-scala",
   "name": "scala",
   "nbconvert_exporter": "script",
   "version": "2.12.10"
  },
  "nteract": {
   "version": "0.15.0"
  }
 },
 "nbformat": 4,
 "nbformat_minor": 2
}
