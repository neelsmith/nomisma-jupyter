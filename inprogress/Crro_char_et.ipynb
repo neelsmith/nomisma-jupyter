{
  "cells": [
    {
      "cell_type": "markdown",
      "source": [
        "# Reading `nomisma.org` data for CRRO\n",
        "\n",
        "This notebook shows you how to load data for the *Coinage of the Roman Republic Online* (CRRO) from `nomisma.org`'s RDF format and from delimited text files built from the RDF source.  It uses version `2.0.1` of the `nomisma` library.\n",
        "\n",
        "## Configure Jupyter notebook\n",
        "\n",
        "Configure the notebook to find the `nomisma` library.  (You could do the same thing in other environments with `sbt` or `maven`.)"
      ],
      "metadata": {}
    },
    {
      "cell_type": "code",
      "source": [
        "// 1. Add maven repository where we can find our libraries\n",
        "val myBT = coursierapi.MavenRepository.of(\"https://dl.bintray.com/neelsmith/maven\")\n",
        "interp.repositories() ++= Seq(myBT)"
      ],
      "outputs": [
        {
          "output_type": "execute_result",
          "execution_count": 1,
          "data": {
            "text/plain": [
              "\u001b[36mmyBT\u001b[39m: \u001b[32mcoursierapi\u001b[39m.\u001b[32mMavenRepository\u001b[39m = MavenRepository(https://dl.bintray.com/neelsmith/maven)"
            ]
          },
          "metadata": {}
        }
      ],
      "execution_count": 1,
      "metadata": {
        "outputHidden": false,
        "inputHidden": false
      }
    },
    {
      "cell_type": "code",
      "source": [
        "// 2. Make libraries available with `$ivy` imports:\n",
        "import $ivy.`edu.holycross.shot::nomisma:2.0.1`\n",
        "import $ivy.`edu.holycross.shot::histoutils:2.2.0`\n",
        "import $ivy.`org.plotly-scala::plotly-almond:0.7.1`"
      ],
      "outputs": [
        {
          "output_type": "execute_result",
          "execution_count": 2,
          "data": {
            "text/plain": [
              "\u001b[32mimport \u001b[39m\u001b[36m$ivy.$                                  \n",
              "\u001b[39m\n",
              "\u001b[32mimport \u001b[39m\u001b[36m$ivy.$                                     \n",
              "\u001b[39m\n",
              "\u001b[32mimport \u001b[39m\u001b[36m$ivy.$                                      \u001b[39m"
            ]
          },
          "metadata": {}
        }
      ],
      "execution_count": 2,
      "metadata": {
        "outputHidden": false,
        "inputHidden": false
      }
    },
    {
      "cell_type": "markdown",
      "source": [
        "\n",
        "## Load the CRRO data set\n",
        "\n",
        "Load the CRRO data set from a `.cex` file in github repository."
      ],
      "metadata": {}
    },
    {
      "cell_type": "code",
      "source": [
        "import edu.holycross.shot.nomisma._\n",
        "import edu.holycross.shot.histoutils._\n",
        "\n",
        "import plotly._, plotly.element._, plotly.layout._, plotly.Almond._\n",
        "// Set display defaults suggested for use in Jupyter NBs:\n",
        "repl.pprinter() = repl.pprinter().copy(defaultHeight = 3)"
      ],
      "outputs": [
        {
          "output_type": "execute_result",
          "execution_count": 3,
          "data": {
            "text/plain": [
              "\u001b[32mimport \u001b[39m\u001b[36medu.holycross.shot.nomisma._\n",
              "\u001b[39m\n",
              "\u001b[32mimport \u001b[39m\u001b[36medu.holycross.shot.histoutils._\n",
              "\n",
              "\u001b[39m\n",
              "\u001b[32mimport \u001b[39m\u001b[36mplotly._, plotly.element._, plotly.layout._, plotly.Almond._\n",
              "// Set display defaults suggested for use in Jupyter NBs:\n",
              "\u001b[39m"
            ]
          },
          "metadata": {}
        }
      ],
      "execution_count": 3,
      "metadata": {
        "collapsed": false,
        "outputHidden": false,
        "inputHidden": false
      }
    },
    {
      "cell_type": "code",
      "source": [
        "val crroCex = \"https://raw.githubusercontent.com/neelsmith/nomisma/master/cex/crro-2019-12-03.cex\"\n",
        "val crro = CrroSource.fromUrl(crroCex)\n",
        "\n",
        "// Check results:\n",
        "require(crro.size > 2000)   "
      ],
      "outputs": [
        {
          "output_type": "stream",
          "name": "stderr",
          "text": [
            "Dec 11, 2019 6:58:46 AM wvlet.log.Logger log\n",
            "INFO: Reading 2281 lines of CEX data.\n",
            "Dec 11, 2019 6:58:46 AM wvlet.log.Logger log\n",
            "INFO: Created Crro with 2281 issues.\n"
          ]
        },
        {
          "output_type": "execute_result",
          "execution_count": 4,
          "data": {
            "text/plain": [
              "\u001b[36mcrroCex\u001b[39m: \u001b[32mString\u001b[39m = \u001b[32m\"https://raw.githubusercontent.com/neelsmith/nomisma/master/cex/crro-2019-12-03.cex\"\u001b[39m\n",
              "\u001b[36mcrro\u001b[39m: \u001b[32mCrro\u001b[39m = \u001b[33mCrro\u001b[39m(\n",
              "  \u001b[33mVector\u001b[39m(\n",
              "..."
            ]
          },
          "metadata": {}
        }
      ],
      "execution_count": 4,
      "metadata": {
        "outputHidden": false,
        "inputHidden": false
      }
    },
    {
      "cell_type": "code",
      "source": [
        "val obvLegends = crro.hasObvLegend.issues.map(_.obvLegend)\n",
        "val revLegends = crro.hasRevLegend.issues.map(_.revLegend)\n",
        "val allLegends = obvLegends ++ revLegends\n",
        "\n",
        "val legendIssues = crro.hasObvLegend.issues ++ crro.hasRevLegend.issues\n",
        "require (allLegends.size == legendIssues.size)"
      ],
      "outputs": [
        {
          "output_type": "execute_result",
          "execution_count": 5,
          "data": {
            "text/plain": [
              "\u001b[36mobvLegends\u001b[39m: \u001b[32mVector\u001b[39m[\u001b[32mString\u001b[39m] = \u001b[33mVector\u001b[39m(\n",
              "  \u001b[32m\"M\\u00b7ANTON\\u00b7IMP\\u00b7III\\u00b7VIR\\u00b7R\\u00b7P\\u00b7C\\u00b7AVG\"\u001b[39m,\n",
              "...\n",
              "\u001b[36mrevLegends\u001b[39m: \u001b[32mVector\u001b[39m[\u001b[32mString\u001b[39m] = \u001b[33mVector\u001b[39m(\n",
              "  \u001b[32m\"CAESAR\\u00b7IMP\\u00b7PONT\\u00b7III\\u00b7VIR\\u00b7R\\u00b7P\\u00b7C\"\u001b[39m,\n",
              "...\n",
              "\u001b[36mallLegends\u001b[39m: \u001b[32mVector\u001b[39m[\u001b[32mString\u001b[39m] = \u001b[33mVector\u001b[39m(\n",
              "  \u001b[32m\"M\\u00b7ANTON\\u00b7IMP\\u00b7III\\u00b7VIR\\u00b7R\\u00b7P\\u00b7C\\u00b7AVG\"\u001b[39m,\n",
              "...\n",
              "\u001b[36mlegendIssues\u001b[39m: \u001b[32mVector\u001b[39m[\u001b[32mCrroIssue\u001b[39m] = \u001b[33mVector\u001b[39m(\n",
              "  \u001b[33mCrroIssue\u001b[39m(\n",
              "..."
            ]
          },
          "metadata": {}
        }
      ],
      "execution_count": 5,
      "metadata": {
        "collapsed": false,
        "outputHidden": false,
        "inputHidden": false
      }
    },
    {
      "cell_type": "code",
      "source": [
        "println(\"Obv legends: \" + obvLegends.size)\n",
        "println(\"Rev legends: \" + revLegends.size)\n",
        "println(\"All: \" + allLegends.size)"
      ],
      "outputs": [
        {
          "output_type": "stream",
          "name": "stdout",
          "text": [
            "Obv legends: 1144\n",
            "Rev legends: 2132\n",
            "All: 3276\n"
          ]
        }
      ],
      "execution_count": 6,
      "metadata": {
        "collapsed": false,
        "outputHidden": false,
        "inputHidden": false
      }
    },
    {
      "cell_type": "code",
      "source": [
        "val allChars = allLegends.map(_.toVector).flatten\n",
        "println(\"All chars: \" + allChars.size)"
      ],
      "outputs": [
        {
          "output_type": "stream",
          "name": "stdout",
          "text": [
            "All chars: 36208\n"
          ]
        },
        {
          "output_type": "execute_result",
          "execution_count": 7,
          "data": {
            "text/plain": [
              "\u001b[36mallChars\u001b[39m: \u001b[32mVector\u001b[39m[\u001b[32mChar\u001b[39m] = \u001b[33mVector\u001b[39m(\n",
              "  \u001b[32m'M'\u001b[39m,\n",
              "..."
            ]
          },
          "metadata": {}
        }
      ],
      "execution_count": 7,
      "metadata": {
        "collapsed": false,
        "outputHidden": false,
        "inputHidden": false
      }
    },
    {
      "cell_type": "code",
      "source": [
        "val charFreqs = allChars.groupBy(c => c).map{ case (c,v)=> Frequency(c.toString,v.size) }\n",
        "val charHist = edu.holycross.shot.histoutils.Histogram(charFreqs.toVector)"
      ],
      "outputs": [
        {
          "output_type": "execute_result",
          "execution_count": 8,
          "data": {
            "text/plain": [
              "\u001b[36mcharFreqs\u001b[39m: \u001b[32mcollection\u001b[39m.\u001b[32mimmutable\u001b[39m.\u001b[32mIterable\u001b[39m[\u001b[32mFrequency\u001b[39m[\u001b[32mString\u001b[39m]] = \u001b[33mList\u001b[39m(\n",
              "  \u001b[33mFrequency\u001b[39m(\u001b[32m\"E\"\u001b[39m, \u001b[32m1161\u001b[39m),\n",
              "...\n",
              "\u001b[36mcharHist\u001b[39m: \u001b[32medu\u001b[39m.\u001b[32mholycross\u001b[39m.\u001b[32mshot\u001b[39m.\u001b[32mhistoutils\u001b[39m.\u001b[32mHistogram\u001b[39m[\u001b[32mString\u001b[39m] = \u001b[33mHistogram\u001b[39m(\n",
              "  \u001b[33mVector\u001b[39m(\n",
              "..."
            ]
          },
          "metadata": {}
        }
      ],
      "execution_count": 8,
      "metadata": {
        "collapsed": false,
        "outputHidden": false,
        "inputHidden": false
      }
    },
    {
      "cell_type": "code",
      "source": [
        "val charCounts = charHist.sorted.frequencies.map(_.count)\n",
        "val charValues = charHist.sorted.frequencies.map(_.item)"
      ],
      "outputs": [
        {
          "output_type": "execute_result",
          "execution_count": 9,
          "data": {
            "text/plain": [
              "\u001b[36mcharCounts\u001b[39m: \u001b[32mVector\u001b[39m[\u001b[32mInt\u001b[39m] = \u001b[33mVector\u001b[39m(\n",
              "  \u001b[32m3725\u001b[39m,\n",
              "...\n",
              "\u001b[36mcharValues\u001b[39m: \u001b[32mVector\u001b[39m[\u001b[32mString\u001b[39m] = \u001b[33mVector\u001b[39m(\n",
              "  \u001b[32m\"\\u00b7\"\u001b[39m,\n",
              "..."
            ]
          },
          "metadata": {}
        }
      ],
      "execution_count": 9,
      "metadata": {
        "collapsed": false,
        "outputHidden": false,
        "inputHidden": false
      }
    },
    {
      "cell_type": "code",
      "source": [
        "val charHistPlot = Seq(\n",
        "  Bar(x = charValues, y = charCounts)\n",
        ")\n",
        "plot(charHistPlot)"
      ],
      "outputs": [
        {
          "output_type": "display_data",
          "data": {
            "text/html": [
              "\n",
              "      <script type=\"text/javascript\">\n",
              "        require.config({\n",
              "  paths: {\n",
              "    d3: 'https://cdnjs.cloudflare.com/ajax/libs/d3/3.5.17/d3.min',\n",
              "    plotly: 'https://cdn.plot.ly/plotly-1.41.3.min',\n",
              "    jquery: 'https://code.jquery.com/jquery-3.3.1.min'\n",
              "  },\n",
              "\n",
              "  shim: {\n",
              "    plotly: {\n",
              "      deps: ['d3', 'jquery'],\n",
              "      exports: 'plotly'\n",
              "    }\n",
              "  }\n",
              "});\n",
              "        \n",
              "\n",
              "        require(['plotly'], function(Plotly) {\n",
              "          window.Plotly = Plotly;\n",
              "        });\n",
              "      </script>\n",
              "    "
            ]
          },
          "metadata": {}
        },
        {
          "output_type": "display_data",
          "data": {
            "text/html": [
              "<div class=\"chart\" id=\"plot-b69c4709-f9bd-42ab-bc29-0e0b0dc3005a\"></div>\n",
              "<script>require(['plotly'], function(Plotly) {\n",
              "  (function () {\n",
              "  var data0 = {\"x\":[\"·\",\"I\",\"A\",\"R\",\" \",\"M\",\"O\",\"S\",\"V\",\"C\",\"L\",\"P\",\"E\",\"T\",\"N\",\"X\",\"F\",\"G\",\"D\",\"B\",\"o\",\"i\",\"Q\",\"t\",\"s\",\"e\",\"?\",\"n\",\"r\",\"a\",\"[\",\"]\",\"d\",\"c\",\"H\",\".\",\")\",\"(\",\"/\",\"b\",\"l\",\"h\",\"g\",\"w\",\"p\",\"v\",\"f\",\"\\\"\",\"u\",\"Y\",\"K\",\";\",\"m\",\"k\",\":\",\"|\",\"Φ\",\"'\",\"x\",\"Ω\",\"Α\",\"Μ\",\"Ν\",\"Ι\",\"-\",\"Σ\",\"Ρ\",\"3\"],\"y\":[3725.0,3168.0,3119.0,2672.0,2290.0,2263.0,2104.0,1908.0,1868.0,1689.0,1442.0,1317.0,1161.0,1047.0,1046.0,446.0,417.0,385.0,327.0,309.0,238.0,225.0,225.0,224.0,216.0,212.0,210.0,201.0,191.0,177.0,168.0,167.0,146.0,107.0,98.0,84.0,80.0,80.0,75.0,45.0,44.0,34.0,31.0,27.0,23.0,21.0,19.0,19.0,18.0,16.0,16.0,14.0,11.0,10.0,8.0,7.0,3.0,3.0,2.0,2.0,1.0,1.0,1.0,1.0,1.0,1.0,1.0,1.0],\"type\":\"bar\"};\n",
              "\n",
              "  var data = [data0];\n",
              "  var layout = {};\n",
              "\n",
              "  Plotly.plot('plot-b69c4709-f9bd-42ab-bc29-0e0b0dc3005a', data, layout);\n",
              "})();\n",
              "});\n",
              "      </script>\n",
              "           "
            ],
            "application/vnd.plotly.v1+json": {
              "data": [
                {
                  "x": [
                    "·",
                    "I",
                    "A",
                    "R",
                    " ",
                    "M",
                    "O",
                    "S",
                    "V",
                    "C",
                    "L",
                    "P",
                    "E",
                    "T",
                    "N",
                    "X",
                    "F",
                    "G",
                    "D",
                    "B",
                    "o",
                    "i",
                    "Q",
                    "t",
                    "s",
                    "e",
                    "?",
                    "n",
                    "r",
                    "a",
                    "[",
                    "]",
                    "d",
                    "c",
                    "H",
                    ".",
                    ")",
                    "(",
                    "/",
                    "b",
                    "l",
                    "h",
                    "g",
                    "w",
                    "p",
                    "v",
                    "f",
                    "\"",
                    "u",
                    "Y",
                    "K",
                    ";",
                    "m",
                    "k",
                    ":",
                    "|",
                    "Φ",
                    "'",
                    "x",
                    "Ω",
                    "Α",
                    "Μ",
                    "Ν",
                    "Ι",
                    "-",
                    "Σ",
                    "Ρ",
                    "3"
                  ],
                  "y": [
                    3725,
                    3168,
                    3119,
                    2672,
                    2290,
                    2263,
                    2104,
                    1908,
                    1868,
                    1689,
                    1442,
                    1317,
                    1161,
                    1047,
                    1046,
                    446,
                    417,
                    385,
                    327,
                    309,
                    238,
                    225,
                    225,
                    224,
                    216,
                    212,
                    210,
                    201,
                    191,
                    177,
                    168,
                    167,
                    146,
                    107,
                    98,
                    84,
                    80,
                    80,
                    75,
                    45,
                    44,
                    34,
                    31,
                    27,
                    23,
                    21,
                    19,
                    19,
                    18,
                    16,
                    16,
                    14,
                    11,
                    10,
                    8,
                    7,
                    3,
                    3,
                    2,
                    2,
                    1,
                    1,
                    1,
                    1,
                    1,
                    1,
                    1,
                    1
                  ],
                  "type": "bar"
                }
              ],
              "layout": {}
            }
          },
          "metadata": {}
        },
        {
          "output_type": "execute_result",
          "execution_count": 10,
          "data": {
            "text/plain": [
              "\u001b[36mcharHistPlot\u001b[39m: \u001b[32mSeq\u001b[39m[\u001b[32mBar\u001b[39m] = \u001b[33mList\u001b[39m(\n",
              "  \u001b[33mBar\u001b[39m(\n",
              "...\n",
              "\u001b[36mres9_1\u001b[39m: \u001b[32mString\u001b[39m = \u001b[32m\"plot-b69c4709-f9bd-42ab-bc29-0e0b0dc3005a\"\u001b[39m"
            ]
          },
          "metadata": {}
        }
      ],
      "execution_count": 10,
      "metadata": {
        "collapsed": false,
        "outputHidden": false,
        "inputHidden": false
      }
    },
    {
      "cell_type": "code",
      "source": [
        "val threshhold = 300\n",
        "val rareChars = charHist.sorted.frequencies.filter(_.count < threshhold)\n",
        "val lessRareChars = charHist.sorted.frequencies.filter(_.count >= threshhold)\n",
        "println(\"Rare chars: \\n\" + rareChars.mkString(\"\\n\"))\n",
        "println(\"\\nCommon chars:\\n\" + lessRareChars.mkString(\"\\n\"))"
      ],
      "outputs": [
        {
          "output_type": "stream",
          "name": "stdout",
          "text": [
            "Rare chars: \n",
            "Frequency(o,238)\n",
            "Frequency(i,225)\n",
            "Frequency(Q,225)\n",
            "Frequency(t,224)\n",
            "Frequency(s,216)\n",
            "Frequency(e,212)\n",
            "Frequency(?,210)\n",
            "Frequency(n,201)\n",
            "Frequency(r,191)\n",
            "Frequency(a,177)\n",
            "Frequency([,168)\n",
            "Frequency(],167)\n",
            "Frequency(d,146)\n",
            "Frequency(c,107)\n",
            "Frequency(H,98)\n",
            "Frequency(.,84)\n",
            "Frequency(),80)\n",
            "Frequency((,80)\n",
            "Frequency(/,75)\n",
            "Frequency(b,45)\n",
            "Frequency(l,44)\n",
            "Frequency(h,34)\n",
            "Frequency(g,31)\n",
            "Frequency(w,27)\n",
            "Frequency(p,23)\n",
            "Frequency(v,21)\n",
            "Frequency(f,19)\n",
            "Frequency(\",19)\n",
            "Frequency(u,18)\n",
            "Frequency(Y,16)\n",
            "Frequency(K,16)\n",
            "Frequency(;,14)\n",
            "Frequency(m,11)\n",
            "Frequency(k,10)\n",
            "Frequency(:,8)\n",
            "Frequency(|,7)\n",
            "Frequency(Φ,3)\n",
            "Frequency(',3)\n",
            "Frequency(x,2)\n",
            "Frequency(Ω,2)\n",
            "Frequency(Α,1)\n",
            "Frequency(Μ,1)\n",
            "Frequency(Ν,1)\n",
            "Frequency(Ι,1)\n",
            "Frequency(-,1)\n",
            "Frequency(Σ,1)\n",
            "Frequency(Ρ,1)\n",
            "Frequency(3,1)\n",
            "\n",
            "Common chars:\n",
            "Frequency(·,3725)\n",
            "Frequency(I,3168)\n",
            "Frequency(A,3119)\n",
            "Frequency(R,2672)\n",
            "Frequency( ,2290)\n",
            "Frequency(M,2263)\n",
            "Frequency(O,2104)\n",
            "Frequency(S,1908)\n",
            "Frequency(V,1868)\n",
            "Frequency(C,1689)\n",
            "Frequency(L,1442)\n",
            "Frequency(P,1317)\n",
            "Frequency(E,1161)\n",
            "Frequency(T,1047)\n",
            "Frequency(N,1046)\n",
            "Frequency(X,446)\n",
            "Frequency(F,417)\n",
            "Frequency(G,385)\n",
            "Frequency(D,327)\n",
            "Frequency(B,309)\n"
          ]
        },
        {
          "output_type": "execute_result",
          "execution_count": 11,
          "data": {
            "text/plain": [
              "\u001b[36mthreshhold\u001b[39m: \u001b[32mInt\u001b[39m = \u001b[32m300\u001b[39m\n",
              "\u001b[36mrareChars\u001b[39m: \u001b[32mVector\u001b[39m[\u001b[32mFrequency\u001b[39m[\u001b[32mString\u001b[39m]] = \u001b[33mVector\u001b[39m(\n",
              "  \u001b[33mFrequency\u001b[39m(\u001b[32m\"o\"\u001b[39m, \u001b[32m238\u001b[39m),\n",
              "...\n",
              "\u001b[36mlessRareChars\u001b[39m: \u001b[32mVector\u001b[39m[\u001b[32mFrequency\u001b[39m[\u001b[32mString\u001b[39m]] = \u001b[33mVector\u001b[39m(\n",
              "  \u001b[33mFrequency\u001b[39m(\u001b[32m\"\\u00b7\"\u001b[39m, \u001b[32m3725\u001b[39m),\n",
              "..."
            ]
          },
          "metadata": {}
        }
      ],
      "execution_count": 11,
      "metadata": {
        "collapsed": false,
        "outputHidden": false,
        "inputHidden": false
      }
    },
    {
      "cell_type": "code",
      "source": [
        "// Define some useful functions.\n",
        "\n",
        "\n",
        "// True if String s composed only of allowable characters\n",
        "def validOrtho(s: String) : Boolean = {\n",
        "    val alphaChars = \"ABCDEFGHIJKLMNOPQRSTUVWXYZ ·\"\n",
        "    val charChecks = for (c <- s.toVector) yield {\n",
        "        alphaChars.contains(c)\n",
        "    }\n",
        "    val flatVals = charChecks.distinct\n",
        "    (flatVals.size == 1) && (flatVals(0)== true)\n",
        "}\n",
        "\n",
        "\n",
        "// Map a Vector of OcreIssues to strings displaying ID and text of legends\n",
        "def formatLegends(v: Vector[CrroIssue]) : Vector[String] = {\n",
        "    v.map( issue => issue.id + \" obv: \" + issue.obvLegend + \" rev: \" + issue.revLegend)    \n",
        "}\n",
        "\n",
        "\n",
        "// Limit Vector of OcreIssues to those containing a specified string on either legend\n",
        "def filterLegends(v : Vector[CrroIssue], subString : String) : Vector[CrroIssue] = {\n",
        "    v.filter(issue => issue.obvLegend.contains(subString) || (issue.revLegend.contains(subString)))\n",
        "}"
      ],
      "outputs": [
        {
          "output_type": "execute_result",
          "execution_count": 12,
          "data": {
            "text/plain": [
              "defined \u001b[32mfunction\u001b[39m \u001b[36mvalidOrtho\u001b[39m\n",
              "defined \u001b[32mfunction\u001b[39m \u001b[36mformatLegends\u001b[39m\n",
              "defined \u001b[32mfunction\u001b[39m \u001b[36mfilterLegends\u001b[39m"
            ]
          },
          "metadata": {}
        }
      ],
      "execution_count": 12,
      "metadata": {
        "collapsed": false,
        "outputHidden": false,
        "inputHidden": false
      }
    },
    {
      "cell_type": "code",
      "source": [
        "def pct(i1: Int, i2: Int): Float = {\n",
        "    i1 * 100.0f / i2\n",
        "}"
      ],
      "outputs": [
        {
          "output_type": "execute_result",
          "execution_count": 13,
          "data": {
            "text/plain": [
              "defined \u001b[32mfunction\u001b[39m \u001b[36mpct\u001b[39m"
            ]
          },
          "metadata": {}
        }
      ],
      "execution_count": 13,
      "metadata": {
        "collapsed": false,
        "outputHidden": false,
        "inputHidden": false
      }
    },
    {
      "cell_type": "code",
      "source": [
        "val sheep = allLegends.filter(validOrtho(_))\n",
        "val goats = allLegends.filterNot(validOrtho(_))\n",
        "val total =  (sheep.size + goats.size)\n",
        "val pct1 = pct(sheep.size, total)\n",
        "val pct2 = pct(goats.size, total)\n",
        "\n",
        "println(\"Sheep: \" + sheep.size + \" (\" + pct1 + \"%)\")\n",
        "println(\"Goats: \" + goats.size  + \" (\" + pct2 + \"%)\")\n",
        "println(\"Total:  \" + total)\n",
        "require(allLegends.size == total)\n",
        "\n"
      ],
      "outputs": [
        {
          "output_type": "stream",
          "name": "stdout",
          "text": [
            "Sheep: 2720 (83.02808%)\n",
            "Goats: 556 (16.971916%)\n",
            "Total:  3276\n"
          ]
        },
        {
          "output_type": "execute_result",
          "execution_count": 17,
          "data": {
            "text/plain": [
              "\u001b[36msheep\u001b[39m: \u001b[32mVector\u001b[39m[\u001b[32mString\u001b[39m] = \u001b[33mVector\u001b[39m(\n",
              "  \u001b[32m\"M\\u00b7ANTON\\u00b7IMP\\u00b7III\\u00b7VIR\\u00b7R\\u00b7P\\u00b7C\\u00b7AVG\"\u001b[39m,\n",
              "...\n",
              "\u001b[36mgoats\u001b[39m: \u001b[32mVector\u001b[39m[\u001b[32mString\u001b[39m] = \u001b[33mVector\u001b[39m(\n",
              "  \u001b[32m\"Inscription Obverse: signature P ANTON\\u00b7AVG\\u00b7IMP\\u00b7III\\u00b7COS\\u0\u001b[39m...\n",
              "\u001b[36mtotal\u001b[39m: \u001b[32mInt\u001b[39m = \u001b[32m3276\u001b[39m\n",
              "\u001b[36mpct1\u001b[39m: \u001b[32mFloat\u001b[39m = \u001b[32m83.02808F\u001b[39m\n",
              "\u001b[36mpct2\u001b[39m: \u001b[32mFloat\u001b[39m = \u001b[32m16.971916F\u001b[39m"
            ]
          },
          "metadata": {}
        }
      ],
      "execution_count": 17,
      "metadata": {
        "collapsed": false,
        "outputHidden": false,
        "inputHidden": false
      }
    },
    {
      "cell_type": "code",
      "source": [
        "val os = filterLegends(legendIssues, \"o\")\n",
        "println(\"English 'o's: \" + os.size)\n",
        "\n",
        "val bigQs = filterLegends(legendIssues, \"Q\")\n",
        "println(\"Latin 'Q's: \" + bigQs.size)\n",
        "//println(formatLegends(bigQs.take(10)).mkString(\"\\n\\n\"))\n",
        "\n",
        "val bigHs = filterLegends(legendIssues, \"H\")\n",
        "println(\"Latin 'H's: \" + bigHs.size)\n",
        "//println(formatLegends(bigHs.take(10)).mkString(\"\\n\\n\"))\n",
        "\n",
        "\n",
        "val bigKs = filterLegends(legendIssues, \"K\")\n",
        "println(\"Latin 'K's: \" + bigKs.size)\n",
        "println(formatLegends(bigKs.take(10)).mkString(\"\\n\\n\"))\n"
      ],
      "outputs": [],
      "execution_count": null,
      "metadata": {
        "collapsed": false,
        "outputHidden": false,
        "inputHidden": false
      }
    },
    {
      "cell_type": "code",
      "source": [],
      "outputs": [],
      "execution_count": null,
      "metadata": {
        "collapsed": false,
        "outputHidden": false,
        "inputHidden": false
      }
    }
  ],
  "metadata": {
    "kernelspec": {
      "name": "scala",
      "language": "scala",
      "display_name": "Scala"
    },
    "language_info": {
      "name": "scala",
      "version": "2.12.10",
      "mimetype": "text/x-scala",
      "file_extension": ".scala",
      "nbconvert_exporter": "script",
      "codemirror_mode": "text/x-scala"
    },
    "kernel_info": {
      "name": "scala"
    },
    "nteract": {
      "version": "0.15.0"
    }
  },
  "nbformat": 4,
  "nbformat_minor": 2
}