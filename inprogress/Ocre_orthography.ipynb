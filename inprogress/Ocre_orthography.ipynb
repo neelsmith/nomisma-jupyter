{
 "cells": [
  {
   "cell_type": "markdown",
   "metadata": {},
   "source": [
    "# Building a citable text corpus from OCRE\n",
    "\n",
    "This notebook shows you how to load OCRE data from a CEX file over the internet, and build a corpus of text citable by CTS URN.  It uses version `1.7.0` of the `nomisma` library. "
   ]
  },
  {
   "cell_type": "markdown",
   "metadata": {},
   "source": [
    "\n",
    "## Configure Jupyter notebook\n",
    "\n",
    "First configure the Jupyter notebook. In addition to the `nomisma` library, we'll need the `cite` and `ohco2` libraries from the CITE architecture."
   ]
  },
  {
   "cell_type": "code",
   "execution_count": 1,
   "metadata": {
    "collapsed": true
   },
   "outputs": [
    {
     "data": {
      "text/plain": [
       "\u001b[36mmyBT\u001b[39m: \u001b[32mcoursierapi\u001b[39m.\u001b[32mMavenRepository\u001b[39m = MavenRepository(https://dl.bintray.com/neelsmith/maven)"
      ]
     },
     "execution_count": 1,
     "metadata": {},
     "output_type": "execute_result"
    }
   ],
   "source": [
    "// 1. Add maven repository where we can find our libraries\n",
    "val myBT = coursierapi.MavenRepository.of(\"https://dl.bintray.com/neelsmith/maven\")\n",
    "interp.repositories() ++= Seq(myBT)"
   ]
  },
  {
   "cell_type": "code",
   "execution_count": 2,
   "metadata": {
    "collapsed": true
   },
   "outputs": [
    {
     "name": "stderr",
     "output_type": "stream",
     "text": [
      "Downloading https://repo1.maven.org/maven2/edu/holycross/shot/nomisma_2.12/1.7.0/nomisma_2.12-1.7.0.pom\n",
      "Downloaded https://repo1.maven.org/maven2/edu/holycross/shot/nomisma_2.12/1.7.0/nomisma_2.12-1.7.0.pom\n",
      "Downloading https://repo1.maven.org/maven2/edu/holycross/shot/nomisma_2.12/1.7.0/nomisma_2.12-1.7.0.pom.sha1\n",
      "Downloaded https://repo1.maven.org/maven2/edu/holycross/shot/nomisma_2.12/1.7.0/nomisma_2.12-1.7.0.pom.sha1\n",
      "Downloading https://dl.bintray.com/neelsmith/maven/edu/holycross/shot/nomisma_2.12/1.7.0/nomisma_2.12-1.7.0.pom\n",
      "Downloaded https://dl.bintray.com/neelsmith/maven/edu/holycross/shot/nomisma_2.12/1.7.0/nomisma_2.12-1.7.0.pom\n",
      "Downloading https://repo1.maven.org/maven2/org/scala-lang/scala-library/2.12.4/scala-library-2.12.4.pom\n",
      "Downloading https://repo1.maven.org/maven2/edu/holycross/shot/cite/xcite_2.12/4.1.1/xcite_2.12-4.1.1.pom\n",
      "Downloading https://repo1.maven.org/maven2/edu/holycross/shot/histoutils_2.12/2.2.0/histoutils_2.12-2.2.0.pom\n",
      "Downloading https://repo1.maven.org/maven2/edu/holycross/shot/ohco2_2.12/10.16.0/ohco2_2.12-10.16.0.pom\n",
      "Downloading https://repo1.maven.org/maven2/org/wvlet/airframe/airframe-log_2.12/19.8.10/airframe-log_2.12-19.8.10.pom\n",
      "Downloading https://repo1.maven.org/maven2/org/scala-lang/modules/scala-xml_2.12/1.0.6/scala-xml_2.12-1.0.6.pom\n",
      "Downloaded https://repo1.maven.org/maven2/edu/holycross/shot/cite/xcite_2.12/4.1.1/xcite_2.12-4.1.1.pom\n",
      "Downloading https://repo1.maven.org/maven2/edu/holycross/shot/cite/xcite_2.12/4.1.1/xcite_2.12-4.1.1.pom.sha1\n",
      "Downloaded https://repo1.maven.org/maven2/edu/holycross/shot/histoutils_2.12/2.2.0/histoutils_2.12-2.2.0.pom\n",
      "Downloading https://repo1.maven.org/maven2/edu/holycross/shot/histoutils_2.12/2.2.0/histoutils_2.12-2.2.0.pom.sha1\n",
      "Downloaded https://repo1.maven.org/maven2/edu/holycross/shot/ohco2_2.12/10.16.0/ohco2_2.12-10.16.0.pom\n",
      "Downloading https://repo1.maven.org/maven2/edu/holycross/shot/ohco2_2.12/10.16.0/ohco2_2.12-10.16.0.pom.sha1\n",
      "Downloaded https://repo1.maven.org/maven2/edu/holycross/shot/histoutils_2.12/2.2.0/histoutils_2.12-2.2.0.pom.sha1\n",
      "Downloading https://dl.bintray.com/neelsmith/maven/edu/holycross/shot/histoutils_2.12/2.2.0/histoutils_2.12-2.2.0.pom\n",
      "Downloaded https://repo1.maven.org/maven2/edu/holycross/shot/ohco2_2.12/10.16.0/ohco2_2.12-10.16.0.pom.sha1\n",
      "Downloaded https://repo1.maven.org/maven2/edu/holycross/shot/cite/xcite_2.12/4.1.1/xcite_2.12-4.1.1.pom.sha1\n",
      "Downloading https://dl.bintray.com/neelsmith/maven/edu/holycross/shot/ohco2_2.12/10.16.0/ohco2_2.12-10.16.0.pom\n",
      "Downloading https://dl.bintray.com/neelsmith/maven/edu/holycross/shot/cite/xcite_2.12/4.1.1/xcite_2.12-4.1.1.pom\n",
      "Downloaded https://repo1.maven.org/maven2/org/scala-lang/scala-library/2.12.4/scala-library-2.12.4.pom\n",
      "Downloaded https://repo1.maven.org/maven2/org/wvlet/airframe/airframe-log_2.12/19.8.10/airframe-log_2.12-19.8.10.pom\n",
      "Downloaded https://repo1.maven.org/maven2/org/scala-lang/modules/scala-xml_2.12/1.0.6/scala-xml_2.12-1.0.6.pom\n",
      "Downloaded https://dl.bintray.com/neelsmith/maven/edu/holycross/shot/histoutils_2.12/2.2.0/histoutils_2.12-2.2.0.pom\n",
      "Downloaded https://dl.bintray.com/neelsmith/maven/edu/holycross/shot/ohco2_2.12/10.16.0/ohco2_2.12-10.16.0.pom\n",
      "Downloaded https://dl.bintray.com/neelsmith/maven/edu/holycross/shot/cite/xcite_2.12/4.1.1/xcite_2.12-4.1.1.pom\n",
      "Downloading https://repo1.maven.org/maven2/edu/holycross/shot/seqcomp_2.12/1.0.0/seqcomp_2.12-1.0.0.pom\n",
      "Downloading https://repo1.maven.org/maven2/ch/qos/logback/logback-core/1.2.3/logback-core-1.2.3.pom\n",
      "Downloading https://repo1.maven.org/maven2/org/scala-lang/modules/scala-collection-compat_2.12/2.1.1/scala-collection-compat_2.12-2.1.1.pom\n",
      "Downloading https://repo1.maven.org/maven2/org/scala-lang/scala-library/2.12.8/scala-library-2.12.8.pom\n",
      "Downloading https://repo1.maven.org/maven2/edu/holycross/shot/cex_2.12/6.3.3/cex_2.12-6.3.3.pom\n",
      "Downloaded https://repo1.maven.org/maven2/edu/holycross/shot/cex_2.12/6.3.3/cex_2.12-6.3.3.pom\n",
      "Downloading https://repo1.maven.org/maven2/edu/holycross/shot/cex_2.12/6.3.3/cex_2.12-6.3.3.pom.sha1\n",
      "Downloaded https://repo1.maven.org/maven2/edu/holycross/shot/seqcomp_2.12/1.0.0/seqcomp_2.12-1.0.0.pom\n",
      "Downloading https://repo1.maven.org/maven2/edu/holycross/shot/seqcomp_2.12/1.0.0/seqcomp_2.12-1.0.0.pom.sha1\n",
      "Downloaded https://repo1.maven.org/maven2/edu/holycross/shot/cex_2.12/6.3.3/cex_2.12-6.3.3.pom.sha1\n",
      "Downloaded https://repo1.maven.org/maven2/edu/holycross/shot/seqcomp_2.12/1.0.0/seqcomp_2.12-1.0.0.pom.sha1\n",
      "Downloading https://dl.bintray.com/neelsmith/maven/edu/holycross/shot/cex_2.12/6.3.3/cex_2.12-6.3.3.pom\n",
      "Downloading https://dl.bintray.com/neelsmith/maven/edu/holycross/shot/seqcomp_2.12/1.0.0/seqcomp_2.12-1.0.0.pom\n",
      "Downloaded https://repo1.maven.org/maven2/org/scala-lang/modules/scala-collection-compat_2.12/2.1.1/scala-collection-compat_2.12-2.1.1.pom\n",
      "Downloaded https://repo1.maven.org/maven2/org/scala-lang/scala-library/2.12.8/scala-library-2.12.8.pom\n",
      "Downloaded https://repo1.maven.org/maven2/ch/qos/logback/logback-core/1.2.3/logback-core-1.2.3.pom\n",
      "Downloaded https://dl.bintray.com/neelsmith/maven/edu/holycross/shot/cex_2.12/6.3.3/cex_2.12-6.3.3.pom\n",
      "Downloaded https://dl.bintray.com/neelsmith/maven/edu/holycross/shot/seqcomp_2.12/1.0.0/seqcomp_2.12-1.0.0.pom\n",
      "Downloading https://repo1.maven.org/maven2/ch/qos/logback/logback-parent/1.2.3/logback-parent-1.2.3.pom\n",
      "Downloaded https://repo1.maven.org/maven2/ch/qos/logback/logback-parent/1.2.3/logback-parent-1.2.3.pom\n",
      "Downloading https://repo1.maven.org/maven2/org/scala-lang/modules/scala-collection-compat_2.12/2.1.1/scala-collection-compat_2.12-2.1.1.jar\n",
      "Downloading https://repo1.maven.org/maven2/org/scala-lang/scala-library/2.12.8/scala-library-2.12.8-sources.jar\n",
      "Downloading https://repo1.maven.org/maven2/org/wvlet/airframe/airframe-log_2.12/19.8.10/airframe-log_2.12-19.8.10.jar\n",
      "Downloading https://repo1.maven.org/maven2/ch/qos/logback/logback-core/1.2.3/logback-core-1.2.3.jar\n",
      "Downloading https://repo1.maven.org/maven2/ch/qos/logback/logback-core/1.2.3/logback-core-1.2.3-sources.jar\n",
      "Downloading https://dl.bintray.com/neelsmith/maven/edu/holycross/shot/seqcomp_2.12/1.0.0/seqcomp_2.12-1.0.0.jar\n",
      "Downloaded https://dl.bintray.com/neelsmith/maven/edu/holycross/shot/seqcomp_2.12/1.0.0/seqcomp_2.12-1.0.0.jar\n",
      "Downloading https://dl.bintray.com/neelsmith/maven/edu/holycross/shot/cite/xcite_2.12/4.1.1/xcite_2.12-4.1.1.jar\n",
      "Downloaded https://repo1.maven.org/maven2/org/scala-lang/modules/scala-collection-compat_2.12/2.1.1/scala-collection-compat_2.12-2.1.1.jar\n",
      "Downloading https://dl.bintray.com/neelsmith/maven/edu/holycross/shot/ohco2_2.12/10.16.0/ohco2_2.12-10.16.0.jar\n",
      "Downloaded https://repo1.maven.org/maven2/org/wvlet/airframe/airframe-log_2.12/19.8.10/airframe-log_2.12-19.8.10.jar\n",
      "Downloading https://repo1.maven.org/maven2/org/scala-lang/modules/scala-collection-compat_2.12/2.1.1/scala-collection-compat_2.12-2.1.1-sources.jar\n",
      "Downloaded https://repo1.maven.org/maven2/ch/qos/logback/logback-core/1.2.3/logback-core-1.2.3-sources.jar\n",
      "Downloading https://dl.bintray.com/neelsmith/maven/edu/holycross/shot/seqcomp_2.12/1.0.0/seqcomp_2.12-1.0.0-sources.jar\n",
      "Downloaded https://repo1.maven.org/maven2/ch/qos/logback/logback-core/1.2.3/logback-core-1.2.3.jar\n",
      "Downloading https://repo1.maven.org/maven2/org/scala-lang/modules/scala-xml_2.12/1.0.6/scala-xml_2.12-1.0.6-sources.jar\n",
      "Downloaded https://repo1.maven.org/maven2/org/scala-lang/modules/scala-collection-compat_2.12/2.1.1/scala-collection-compat_2.12-2.1.1-sources.jar\n",
      "Downloading https://repo1.maven.org/maven2/org/wvlet/airframe/airframe-log_2.12/19.8.10/airframe-log_2.12-19.8.10-sources.jar\n",
      "Downloaded https://dl.bintray.com/neelsmith/maven/edu/holycross/shot/seqcomp_2.12/1.0.0/seqcomp_2.12-1.0.0-sources.jar\n",
      "Downloading https://dl.bintray.com/neelsmith/maven/edu/holycross/shot/histoutils_2.12/2.2.0/histoutils_2.12-2.2.0.jar\n",
      "Downloaded https://dl.bintray.com/neelsmith/maven/edu/holycross/shot/cite/xcite_2.12/4.1.1/xcite_2.12-4.1.1.jar\n",
      "Downloading https://repo1.maven.org/maven2/org/scala-lang/modules/scala-xml_2.12/1.0.6/scala-xml_2.12-1.0.6.jar\n",
      "Downloaded https://repo1.maven.org/maven2/org/wvlet/airframe/airframe-log_2.12/19.8.10/airframe-log_2.12-19.8.10-sources.jar\n",
      "Downloading https://dl.bintray.com/neelsmith/maven/edu/holycross/shot/ohco2_2.12/10.16.0/ohco2_2.12-10.16.0-sources.jar\n"
     ]
    },
    {
     "name": "stderr",
     "output_type": "stream",
     "text": [
      "Downloaded https://repo1.maven.org/maven2/org/scala-lang/modules/scala-xml_2.12/1.0.6/scala-xml_2.12-1.0.6-sources.jar\n",
      "Downloading https://dl.bintray.com/neelsmith/maven/edu/holycross/shot/histoutils_2.12/2.2.0/histoutils_2.12-2.2.0-sources.jar\n",
      "Downloaded https://repo1.maven.org/maven2/org/scala-lang/scala-library/2.12.8/scala-library-2.12.8-sources.jar\n",
      "Downloading https://repo1.maven.org/maven2/org/scala-lang/scala-library/2.12.8/scala-library-2.12.8.jar\n",
      "Downloaded https://dl.bintray.com/neelsmith/maven/edu/holycross/shot/histoutils_2.12/2.2.0/histoutils_2.12-2.2.0.jar\n",
      "Downloaded https://dl.bintray.com/neelsmith/maven/edu/holycross/shot/ohco2_2.12/10.16.0/ohco2_2.12-10.16.0.jar\n",
      "Downloading https://dl.bintray.com/neelsmith/maven/edu/holycross/shot/cex_2.12/6.3.3/cex_2.12-6.3.3.jar\n",
      "Downloading https://dl.bintray.com/neelsmith/maven/edu/holycross/shot/nomisma_2.12/1.7.0/nomisma_2.12-1.7.0.jar\n",
      "Downloaded https://dl.bintray.com/neelsmith/maven/edu/holycross/shot/ohco2_2.12/10.16.0/ohco2_2.12-10.16.0-sources.jar\n",
      "Downloading https://dl.bintray.com/neelsmith/maven/edu/holycross/shot/cite/xcite_2.12/4.1.1/xcite_2.12-4.1.1-sources.jar\n",
      "Downloaded https://repo1.maven.org/maven2/org/scala-lang/modules/scala-xml_2.12/1.0.6/scala-xml_2.12-1.0.6.jar\n",
      "Downloading https://dl.bintray.com/neelsmith/maven/edu/holycross/shot/nomisma_2.12/1.7.0/nomisma_2.12-1.7.0-sources.jar\n",
      "Downloaded https://dl.bintray.com/neelsmith/maven/edu/holycross/shot/cex_2.12/6.3.3/cex_2.12-6.3.3.jar\n",
      "Downloading https://dl.bintray.com/neelsmith/maven/edu/holycross/shot/cex_2.12/6.3.3/cex_2.12-6.3.3-sources.jar\n",
      "Downloaded https://dl.bintray.com/neelsmith/maven/edu/holycross/shot/cite/xcite_2.12/4.1.1/xcite_2.12-4.1.1-sources.jar\n",
      "Downloaded https://dl.bintray.com/neelsmith/maven/edu/holycross/shot/histoutils_2.12/2.2.0/histoutils_2.12-2.2.0-sources.jar\n",
      "Downloaded https://dl.bintray.com/neelsmith/maven/edu/holycross/shot/nomisma_2.12/1.7.0/nomisma_2.12-1.7.0.jar\n",
      "Downloaded https://repo1.maven.org/maven2/org/scala-lang/scala-library/2.12.8/scala-library-2.12.8.jar\n",
      "Downloaded https://dl.bintray.com/neelsmith/maven/edu/holycross/shot/cex_2.12/6.3.3/cex_2.12-6.3.3-sources.jar\n",
      "Downloaded https://dl.bintray.com/neelsmith/maven/edu/holycross/shot/nomisma_2.12/1.7.0/nomisma_2.12-1.7.0-sources.jar\n",
      "Downloading https://repo1.maven.org/maven2/org/scala-lang/scala-library/2.12.4/scala-library-2.12.4.jar\n",
      "Downloading https://repo1.maven.org/maven2/org/scala-lang/scala-library/2.12.4/scala-library-2.12.4-sources.jar\n",
      "Downloaded https://repo1.maven.org/maven2/org/scala-lang/scala-library/2.12.4/scala-library-2.12.4-sources.jar\n",
      "Downloaded https://repo1.maven.org/maven2/org/scala-lang/scala-library/2.12.4/scala-library-2.12.4.jar\n"
     ]
    },
    {
     "data": {
      "text/plain": [
       "\u001b[32mimport \u001b[39m\u001b[36m$ivy.$                                  \n",
       "\u001b[39m\n",
       "\u001b[32mimport \u001b[39m\u001b[36m$ivy.$                                  \n",
       "\u001b[39m\n",
       "\u001b[32mimport \u001b[39m\u001b[36m$ivy.$                                     \u001b[39m"
      ]
     },
     "execution_count": 2,
     "metadata": {},
     "output_type": "execute_result"
    }
   ],
   "source": [
    "// 2. Make libraries available with `$ivy` imports:\n",
    "import $ivy.`edu.holycross.shot::nomisma:1.7.0`\n",
    "import $ivy.`edu.holycross.shot::ohco2:10.16.0`\n",
    "import $ivy.`edu.holycross.shot.cite::xcite:4.1.1`"
   ]
  },
  {
   "cell_type": "markdown",
   "metadata": {},
   "source": [
    "## Load the full OCRE data set"
   ]
  },
  {
   "cell_type": "code",
   "execution_count": 3,
   "metadata": {
    "collapsed": true
   },
   "outputs": [
    {
     "name": "stderr",
     "output_type": "stream",
     "text": [
      "Dec 10, 2019 1:39:36 PM wvlet.log.Logger log\n",
      "INFO: Reading 50644 lines of CEX data.\n",
      "Dec 10, 2019 1:39:38 PM wvlet.log.Logger log\n",
      "INFO: Created Ocre with 50644 issues.\n"
     ]
    },
    {
     "data": {
      "text/plain": [
       "\u001b[32mimport \u001b[39m\u001b[36medu.holycross.shot.nomisma._\n",
       "\u001b[39m\n",
       "\u001b[36mocreCex\u001b[39m: \u001b[32mString\u001b[39m = \u001b[32m\"https://raw.githubusercontent.com/neelsmith/nomisma/master/cex/ocre-cite-ids.cex\"\u001b[39m\n",
       "\u001b[36mocre\u001b[39m: \u001b[32mOcre\u001b[39m = \u001b[33mOcre\u001b[39m(\n",
       "  \u001b[33mVector\u001b[39m(\n",
       "    \u001b[33mOcreIssue\u001b[39m(\n",
       "      \u001b[32m\"3.com.43\"\u001b[39m,\n",
       "      \u001b[32m\"RIC III Commodus 43\"\u001b[39m,\n",
       "      \u001b[32m\"denarius\"\u001b[39m,\n",
       "      \u001b[32m\"ar\"\u001b[39m,\n",
       "      \u001b[32m\"commodus\"\u001b[39m,\n",
       "      \u001b[32m\"rome\"\u001b[39m,\n",
       "      \u001b[32m\"italy\"\u001b[39m,\n",
       "      \u001b[32m\"Head of Commodus, laureate, right\"\u001b[39m,\n",
       "      \u001b[32m\"M COMMODVS ANTONINVS AVG\"\u001b[39m,\n",
       "      \u001b[32m\"http://nomisma.org/id/commodus\"\u001b[39m,\n",
       "      \u001b[32m\"Roma, helmeted, draped, standing left, holding Victory in extended right hand and vertical spear in left hand\"\u001b[39m,\n",
       "      \u001b[32m\"TR P VII IMP V COS III P P\"\u001b[39m,\n",
       "      \u001b[32m\"http://collection.britishmuseum.org/id/person-institution/60208\"\u001b[39m,\n",
       "      \u001b[33mSome\u001b[39m(\u001b[33mYearRange\u001b[39m(\u001b[32m182\u001b[39m, \u001b[33mSome\u001b[39m(\u001b[32m182\u001b[39m)))\n",
       "    ),\n",
       "    \u001b[33mOcreIssue\u001b[39m(\n",
       "      \u001b[32m\"9.thes.27B.iii\"\u001b[39m,\n",
       "      \u001b[32m\"RIC IX Thessalonica 27B: Subtype iii\"\u001b[39m,\n",
       "      \u001b[32m\"ae3\"\u001b[39m,\n",
       "      \u001b[32m\"ae\"\u001b[39m,\n",
       "      \u001b[32m\"valentinian_i\"\u001b[39m,\n",
       "      \u001b[32m\"thessalonica\"\u001b[39m,\n",
       "      \u001b[32m\"macedonia\"\u001b[39m,\n",
       "      \u001b[32m\"Bust of Valens, pearl-diademed, draped and cuirassed, right\"\u001b[39m,\n",
       "      \u001b[32m\"D N VALEN-S P F AVG\"\u001b[39m,\n",
       "      \u001b[32m\"http://nomisma.org/id/valens\"\u001b[39m,\n",
       "      \u001b[32m\"Victory advancing left, holding wreath and palm\"\u001b[39m,\n",
       "      \u001b[32m\"SECVRITAS-REIPVBLICAE\"\u001b[39m,\n",
       "      \u001b[32m\"http://collection.britishmuseum.org/id/person-institution/60915\"\u001b[39m,\n",
       "      \u001b[33mSome\u001b[39m(\u001b[33mYearRange\u001b[39m(\u001b[32m367\u001b[39m, \u001b[33mSome\u001b[39m(\u001b[32m375\u001b[39m)))\n",
       "    ),\n",
       "    \u001b[33mOcreIssue\u001b[39m(\n",
       "      \u001b[32m\"9.thes.27B.ii\"\u001b[39m,\n",
       "      \u001b[32m\"RIC IX Thessalonica 27B: Subtype ii\"\u001b[39m,\n",
       "      \u001b[32m\"ae3\"\u001b[39m,\n",
       "..."
      ]
     },
     "execution_count": 3,
     "metadata": {},
     "output_type": "execute_result"
    }
   ],
   "source": [
    "import edu.holycross.shot.nomisma._\n",
    "val ocreCex = \"https://raw.githubusercontent.com/neelsmith/nomisma/master/cex/ocre-cite-ids.cex\"\n",
    "val ocre = OcreSource.fromUrl(ocreCex)\n",
    "\n",
    "// Sanity check:\n",
    "require(ocre.size > 50000) "
   ]
  },
  {
   "cell_type": "code",
   "execution_count": 7,
   "metadata": {
    "collapsed": true
   },
   "outputs": [
    {
     "data": {
      "text/plain": [
       "\u001b[36mobvLegends\u001b[39m: \u001b[32mVector\u001b[39m[\u001b[32mString\u001b[39m] = \u001b[33mVector\u001b[39m(\n",
       "  \u001b[32m\"M COMMODVS ANTONINVS AVG\"\u001b[39m,\n",
       "  \u001b[32m\"D N VALEN-S P F AVG\"\u001b[39m,\n",
       "  \u001b[32m\"D N VALEN-S P F AVG\"\u001b[39m,\n",
       "  \u001b[32m\"IMP C M AVR SEV ALEXAND AVG\"\u001b[39m,\n",
       "  \u001b[32m\"D N VALENTINI-ANVS P F AVG\"\u001b[39m,\n",
       "  \u001b[32m\"IMP MAXIMINVS P F AVG\"\u001b[39m,\n",
       "  \u001b[32m\"IMP C CONSTANTINVS P F AVG\"\u001b[39m,\n",
       "  \u001b[32m\"IMP LICINIVS P F AVG\"\u001b[39m,\n",
       "  \u001b[32m\"IMP C CONSTANTINVS P F AVG\"\u001b[39m,\n",
       "  \u001b[32m\"IMP C CONSTANTINVS P F AVG\"\u001b[39m,\n",
       "  \u001b[32m\"IMP C CONSTANTINVS P F AVG\"\u001b[39m,\n",
       "  \u001b[32m\"IMP C CONSTANTINVS P F AVG\"\u001b[39m,\n",
       "  \u001b[32m\"IMP VALERIANVS AVG\"\u001b[39m,\n",
       "  \u001b[32m\"IMP C CONSTANTINVS P F AVG\"\u001b[39m,\n",
       "  \u001b[32m\"IMP C CONSTANTINVS P F AVG\"\u001b[39m,\n",
       "  \u001b[32m\"IMP MAXIMINVS P F AVG\"\u001b[39m,\n",
       "  \u001b[32m\"IMP LICINIVS P F AVG\"\u001b[39m,\n",
       "  \u001b[32m\"Q HER ETR MES DECIVS NOB C\"\u001b[39m,\n",
       "  \u001b[32m\"IMP MAXIMINVS P F AVG\"\u001b[39m,\n",
       "  \u001b[32m\"IMP C CONSTANTINVS P F AVG\"\u001b[39m,\n",
       "  \u001b[32m\"MAXIMINVS P F AVG\"\u001b[39m,\n",
       "  \u001b[32m\"CONSTANTINVS P F AVG\"\u001b[39m,\n",
       "  \u001b[32m\"LICINIVS P F AVG\"\u001b[39m,\n",
       "  \u001b[32m\"MAXENTIVS P F AVG\"\u001b[39m,\n",
       "  \u001b[32m\"MAXENTIVS P F AVG\"\u001b[39m,\n",
       "  \u001b[32m\"IMP C MAXENTIVS P F AVG\"\u001b[39m,\n",
       "  \u001b[32m\"IMP C MAXENTIVS P F AVG\"\u001b[39m,\n",
       "  \u001b[32m\"DIVO ROMVLO N V BIS CONS\"\u001b[39m,\n",
       "  \u001b[32m\"IMP MAXENTIVS DIVO CONSTANTIO COGN\"\u001b[39m,\n",
       "  \u001b[32m\"IMP MAXENTIVS DIVO CONSTANTIO COGN\"\u001b[39m,\n",
       "  \u001b[32m\"IMP C MAXENTIVS P F AVG\"\u001b[39m,\n",
       "  \u001b[32m\"MAXENTIVS P F AVG\"\u001b[39m,\n",
       "  \u001b[32m\"MAXENTIVS P F AVG\"\u001b[39m,\n",
       "  \u001b[32m\"IMP C MAXENTIVS P F AVG\"\u001b[39m,\n",
       "  \u001b[32m\"IMP C MAXENTIVS P F AVG\"\u001b[39m,\n",
       "  \u001b[32m\"IMP C MAXIMIANVS P F AVG\"\u001b[39m,\n",
       "  \u001b[32m\"IMP C MAXIMIANVS P F AVG\"\u001b[39m,\n",
       "  \u001b[32m\"IMP C MAXIMIANVS P F AVG\"\u001b[39m,\n",
       "...\n",
       "\u001b[36mrevLegends\u001b[39m: \u001b[32mVector\u001b[39m[\u001b[32mString\u001b[39m] = \u001b[33mVector\u001b[39m(\n",
       "  \u001b[32m\"TR P VII IMP V COS III P P\"\u001b[39m,\n",
       "  \u001b[32m\"SECVRITAS-REIPVBLICAE\"\u001b[39m,\n",
       "  \u001b[32m\"SECVRITAS-REIPVBLICAE\"\u001b[39m,\n",
       "  \u001b[32m\"P M TR P II COS P P\"\u001b[39m,\n",
       "  \u001b[32m\"SECVRITAS-REIPVBLICAE\"\u001b[39m,\n",
       "  \u001b[32m\"SOLI INVIC-TO COMITI\"\u001b[39m,\n",
       "  \u001b[32m\"SOLI INVIC-TO COMITI\"\u001b[39m,\n",
       "  \u001b[32m\"SOLI INVIC-TO COMITI or SOLI INV-I-CTO COMITI or SOLI IN-VI-CTO COMITI\"\u001b[39m,\n",
       "  \u001b[32m\"SOLI INVIC-TO COMITI or SOLI INV-I-CTO COMITI or SOLI IN-VI-CTO COMITI\"\u001b[39m,\n",
       "  \u001b[32m\"SOLI INVIC-TO COMITI or SOLI INV-I-CTO COMITI or SOLI IN-VI-CTO COMITI\"\u001b[39m,\n",
       "  \u001b[32m\"RESTITVTO-R VRBIS SVAE\"\u001b[39m,\n",
       "  \u001b[32m\"MARTI CON-SERVATORI\"\u001b[39m,\n",
       "  \u001b[32m\"IOVI CONSERVA\"\u001b[39m,\n",
       "  \u001b[32m\"MARTI CON-SERVATORI\"\u001b[39m,\n",
       "  \u001b[32m\"HERCVLI - V-ICTORI or HERCVLI VI-CTORI\"\u001b[39m,\n",
       "  \u001b[32m\"GENIO POPV-LI ROMANI or GENIO POP-VLI ROMANI\"\u001b[39m,\n",
       "  \u001b[32m\"GENIO POPV-LI ROMANI or GENIO POP-VLI ROMANI\"\u001b[39m,\n",
       "  \u001b[32m\"PRINCIPI IVVENTVTIS\"\u001b[39m,\n",
       "  \u001b[32m\"GENIO POPV-LI ROMANI or GENIO POP-VLI ROMANI\"\u001b[39m,\n",
       "  \u001b[32m\"GENIO POPV-LI ROMANI or GENIO POP-VLI ROMANI\"\u001b[39m,\n",
       "  \u001b[32m\"VICTORIA CONSTANTINI AVG\"\u001b[39m,\n",
       "  \u001b[32m\"VICTORIA CON-STANTINI AVG\"\u001b[39m,\n",
       "  \u001b[32m\"MARTI CO-N-SERVATORI\"\u001b[39m,\n",
       "  \u001b[32m\"CONSERV - VRB SVAE\"\u001b[39m,\n",
       "  \u001b[32m\"MARTI CONSERVATORI AVG N\"\u001b[39m,\n",
       "  \u001b[32m\"FIDES M-ILITVM or FIDES M-I-LITVM\"\u001b[39m,\n",
       "  \u001b[32m\"AETERNAE - MEMORIAE\"\u001b[39m,\n",
       "  \u001b[32m\"AETERNAE - MEMORIAE\"\u001b[39m,\n",
       "  \u001b[32m\"AETERNAE - MEMORIAE\"\u001b[39m,\n",
       "  \u001b[32m\"ADLOCVTIO AVG N\"\u001b[39m,\n",
       "  \u001b[32m\"VICTORIA - AETERNA AVG N or VICTORIA A-ETERNA AVG N\"\u001b[39m,\n",
       "  \u001b[32m\"MARTI VICTORI AVG N\"\u001b[39m,\n",
       "  \u001b[32m\"CONSERV - VRB SVAE\"\u001b[39m,\n",
       "  \u001b[32m\"CONSERV - VRB SVAE\"\u001b[39m,\n",
       "  \u001b[32m\"CONSERVATO-RES VRB SVAE\"\u001b[39m,\n",
       "  \u001b[32m\"CONSERVATO-RES VRB SVAE\"\u001b[39m,\n",
       "  \u001b[32m\"PIETAS AVGG ET CAES N\"\u001b[39m,\n",
       "  \u001b[32m\"FIDES - M-I-LITVM\"\u001b[39m,\n",
       "..."
      ]
     },
     "execution_count": 7,
     "metadata": {},
     "output_type": "execute_result"
    }
   ],
   "source": [
    "val obvLegends = ocre.hasObvLegend.issues.map(_.obvLegend)\n",
    "val revLegends = ocre.hasRevLegend.issues.map(_.revLegend)"
   ]
  },
  {
   "cell_type": "code",
   "execution_count": 14,
   "metadata": {
    "collapsed": true
   },
   "outputs": [
    {
     "name": "stdout",
     "output_type": "stream",
     "text": [
      "Os: 50148\n",
      "Rs: 48418\n",
      "All: 98566\n",
      "All chars: 2144309\n"
     ]
    },
    {
     "data": {
      "text/plain": [
       "\u001b[36mallLegends\u001b[39m: \u001b[32mVector\u001b[39m[\u001b[32mString\u001b[39m] = \u001b[33mVector\u001b[39m(\n",
       "  \u001b[32m\"M COMMODVS ANTONINVS AVG\"\u001b[39m,\n",
       "  \u001b[32m\"D N VALEN-S P F AVG\"\u001b[39m,\n",
       "  \u001b[32m\"D N VALEN-S P F AVG\"\u001b[39m,\n",
       "  \u001b[32m\"IMP C M AVR SEV ALEXAND AVG\"\u001b[39m,\n",
       "  \u001b[32m\"D N VALENTINI-ANVS P F AVG\"\u001b[39m,\n",
       "  \u001b[32m\"IMP MAXIMINVS P F AVG\"\u001b[39m,\n",
       "  \u001b[32m\"IMP C CONSTANTINVS P F AVG\"\u001b[39m,\n",
       "  \u001b[32m\"IMP LICINIVS P F AVG\"\u001b[39m,\n",
       "  \u001b[32m\"IMP C CONSTANTINVS P F AVG\"\u001b[39m,\n",
       "  \u001b[32m\"IMP C CONSTANTINVS P F AVG\"\u001b[39m,\n",
       "  \u001b[32m\"IMP C CONSTANTINVS P F AVG\"\u001b[39m,\n",
       "  \u001b[32m\"IMP C CONSTANTINVS P F AVG\"\u001b[39m,\n",
       "  \u001b[32m\"IMP VALERIANVS AVG\"\u001b[39m,\n",
       "  \u001b[32m\"IMP C CONSTANTINVS P F AVG\"\u001b[39m,\n",
       "  \u001b[32m\"IMP C CONSTANTINVS P F AVG\"\u001b[39m,\n",
       "  \u001b[32m\"IMP MAXIMINVS P F AVG\"\u001b[39m,\n",
       "  \u001b[32m\"IMP LICINIVS P F AVG\"\u001b[39m,\n",
       "  \u001b[32m\"Q HER ETR MES DECIVS NOB C\"\u001b[39m,\n",
       "  \u001b[32m\"IMP MAXIMINVS P F AVG\"\u001b[39m,\n",
       "  \u001b[32m\"IMP C CONSTANTINVS P F AVG\"\u001b[39m,\n",
       "  \u001b[32m\"MAXIMINVS P F AVG\"\u001b[39m,\n",
       "  \u001b[32m\"CONSTANTINVS P F AVG\"\u001b[39m,\n",
       "  \u001b[32m\"LICINIVS P F AVG\"\u001b[39m,\n",
       "  \u001b[32m\"MAXENTIVS P F AVG\"\u001b[39m,\n",
       "  \u001b[32m\"MAXENTIVS P F AVG\"\u001b[39m,\n",
       "  \u001b[32m\"IMP C MAXENTIVS P F AVG\"\u001b[39m,\n",
       "  \u001b[32m\"IMP C MAXENTIVS P F AVG\"\u001b[39m,\n",
       "  \u001b[32m\"DIVO ROMVLO N V BIS CONS\"\u001b[39m,\n",
       "  \u001b[32m\"IMP MAXENTIVS DIVO CONSTANTIO COGN\"\u001b[39m,\n",
       "  \u001b[32m\"IMP MAXENTIVS DIVO CONSTANTIO COGN\"\u001b[39m,\n",
       "  \u001b[32m\"IMP C MAXENTIVS P F AVG\"\u001b[39m,\n",
       "  \u001b[32m\"MAXENTIVS P F AVG\"\u001b[39m,\n",
       "  \u001b[32m\"MAXENTIVS P F AVG\"\u001b[39m,\n",
       "  \u001b[32m\"IMP C MAXENTIVS P F AVG\"\u001b[39m,\n",
       "  \u001b[32m\"IMP C MAXENTIVS P F AVG\"\u001b[39m,\n",
       "  \u001b[32m\"IMP C MAXIMIANVS P F AVG\"\u001b[39m,\n",
       "  \u001b[32m\"IMP C MAXIMIANVS P F AVG\"\u001b[39m,\n",
       "  \u001b[32m\"IMP C MAXIMIANVS P F AVG\"\u001b[39m,\n",
       "...\n",
       "\u001b[36mallChars\u001b[39m: \u001b[32mVector\u001b[39m[\u001b[32mChar\u001b[39m] = \u001b[33mVector\u001b[39m(\n",
       "  \u001b[32m'M'\u001b[39m,\n",
       "  \u001b[32m' '\u001b[39m,\n",
       "  \u001b[32m'C'\u001b[39m,\n",
       "  \u001b[32m'O'\u001b[39m,\n",
       "  \u001b[32m'M'\u001b[39m,\n",
       "  \u001b[32m'M'\u001b[39m,\n",
       "  \u001b[32m'O'\u001b[39m,\n",
       "  \u001b[32m'D'\u001b[39m,\n",
       "  \u001b[32m'V'\u001b[39m,\n",
       "  \u001b[32m'S'\u001b[39m,\n",
       "  \u001b[32m' '\u001b[39m,\n",
       "  \u001b[32m'A'\u001b[39m,\n",
       "  \u001b[32m'N'\u001b[39m,\n",
       "  \u001b[32m'T'\u001b[39m,\n",
       "  \u001b[32m'O'\u001b[39m,\n",
       "  \u001b[32m'N'\u001b[39m,\n",
       "  \u001b[32m'I'\u001b[39m,\n",
       "  \u001b[32m'N'\u001b[39m,\n",
       "  \u001b[32m'V'\u001b[39m,\n",
       "  \u001b[32m'S'\u001b[39m,\n",
       "  \u001b[32m' '\u001b[39m,\n",
       "  \u001b[32m'A'\u001b[39m,\n",
       "  \u001b[32m'V'\u001b[39m,\n",
       "  \u001b[32m'G'\u001b[39m,\n",
       "  \u001b[32m'D'\u001b[39m,\n",
       "  \u001b[32m' '\u001b[39m,\n",
       "  \u001b[32m'N'\u001b[39m,\n",
       "  \u001b[32m' '\u001b[39m,\n",
       "  \u001b[32m'V'\u001b[39m,\n",
       "  \u001b[32m'A'\u001b[39m,\n",
       "  \u001b[32m'L'\u001b[39m,\n",
       "  \u001b[32m'E'\u001b[39m,\n",
       "  \u001b[32m'N'\u001b[39m,\n",
       "  \u001b[32m'-'\u001b[39m,\n",
       "  \u001b[32m'S'\u001b[39m,\n",
       "  \u001b[32m' '\u001b[39m,\n",
       "  \u001b[32m'P'\u001b[39m,\n",
       "  \u001b[32m' '\u001b[39m,\n",
       "..."
      ]
     },
     "execution_count": 14,
     "metadata": {},
     "output_type": "execute_result"
    }
   ],
   "source": [
    "println(\"Os: \" + obvLegends.size)\n",
    "println(\"Rs: \" + revLegends.size)\n",
    "val allLegends = obvLegends ++ revLegends\n",
    "println(\"All: \" + allLegends.size)\n",
    "val allChars = allLegends.map(_.toVector).flatten\n",
    "println(\"All chars: \" + allChars.size)"
   ]
  },
  {
   "cell_type": "code",
   "execution_count": 13,
   "metadata": {
    "collapsed": true
   },
   "outputs": [
    {
     "data": {
      "text/plain": [
       "\u001b[36mallChars\u001b[39m: \u001b[32mVector\u001b[39m[\u001b[32mChar\u001b[39m] = \u001b[33mVector\u001b[39m(\n",
       "  \u001b[32m'M'\u001b[39m,\n",
       "  \u001b[32m' '\u001b[39m,\n",
       "  \u001b[32m'C'\u001b[39m,\n",
       "  \u001b[32m'O'\u001b[39m,\n",
       "  \u001b[32m'M'\u001b[39m,\n",
       "  \u001b[32m'M'\u001b[39m,\n",
       "  \u001b[32m'O'\u001b[39m,\n",
       "  \u001b[32m'D'\u001b[39m,\n",
       "  \u001b[32m'V'\u001b[39m,\n",
       "  \u001b[32m'S'\u001b[39m,\n",
       "  \u001b[32m' '\u001b[39m,\n",
       "  \u001b[32m'A'\u001b[39m,\n",
       "  \u001b[32m'N'\u001b[39m,\n",
       "  \u001b[32m'T'\u001b[39m,\n",
       "  \u001b[32m'O'\u001b[39m,\n",
       "  \u001b[32m'N'\u001b[39m,\n",
       "  \u001b[32m'I'\u001b[39m,\n",
       "  \u001b[32m'N'\u001b[39m,\n",
       "  \u001b[32m'V'\u001b[39m,\n",
       "  \u001b[32m'S'\u001b[39m,\n",
       "  \u001b[32m' '\u001b[39m,\n",
       "  \u001b[32m'A'\u001b[39m,\n",
       "  \u001b[32m'V'\u001b[39m,\n",
       "  \u001b[32m'G'\u001b[39m,\n",
       "  \u001b[32m'D'\u001b[39m,\n",
       "  \u001b[32m' '\u001b[39m,\n",
       "  \u001b[32m'N'\u001b[39m,\n",
       "  \u001b[32m' '\u001b[39m,\n",
       "  \u001b[32m'V'\u001b[39m,\n",
       "  \u001b[32m'A'\u001b[39m,\n",
       "  \u001b[32m'L'\u001b[39m,\n",
       "  \u001b[32m'E'\u001b[39m,\n",
       "  \u001b[32m'N'\u001b[39m,\n",
       "  \u001b[32m'-'\u001b[39m,\n",
       "  \u001b[32m'S'\u001b[39m,\n",
       "  \u001b[32m' '\u001b[39m,\n",
       "  \u001b[32m'P'\u001b[39m,\n",
       "  \u001b[32m' '\u001b[39m,\n",
       "..."
      ]
     },
     "execution_count": 13,
     "metadata": {},
     "output_type": "execute_result"
    }
   ],
   "source": [
    "import $ivy.`edu.holycross.shot::histoutils:2.2.0`\n",
    "import $ivy.`org.plotly-scala::plotly-almond:0.7.1`"
   ]
  },
  {
   "cell_type": "code",
   "execution_count": 17,
   "metadata": {
    "collapsed": true
   },
   "outputs": [
    {
     "data": {
      "text/plain": [
       "\u001b[32mimport \u001b[39m\u001b[36medu.holycross.shot.histoutils._\n",
       "\u001b[39m\n",
       "\u001b[36mcharFreqsSeq\u001b[39m: \u001b[32mcollection\u001b[39m.\u001b[32mimmutable\u001b[39m.\u001b[32mIterable\u001b[39m[\u001b[32mFrequency\u001b[39m[\u001b[32mChar\u001b[39m]] = \u001b[33mList\u001b[39m(\n",
       "  \u001b[33mFrequency\u001b[39m(\u001b[32m'E'\u001b[39m, \u001b[32m92968\u001b[39m),\n",
       "...\n",
       "\u001b[36mcharFreqs\u001b[39m: \u001b[32mVector\u001b[39m[\u001b[32mFrequency\u001b[39m[\u001b[32mChar\u001b[39m]] = \u001b[33mVector\u001b[39m(\n",
       "  \u001b[33mFrequency\u001b[39m(\u001b[32m'E'\u001b[39m, \u001b[32m92968\u001b[39m),\n",
       "..."
      ]
     },
     "execution_count": 17,
     "metadata": {},
     "output_type": "execute_result"
    }
   ],
   "source": [
    "import edu.holycross.shot.histoutils._\n",
    "val charFreqsSeq = allChars.groupBy( c => c).map{ case (c,vect) => Frequency(c, vect.size)}\n",
    "val charFreqs = charFreqsSeq.toVector"
   ]
  },
  {
   "cell_type": "code",
   "execution_count": 16,
   "metadata": {
    "collapsed": true
   },
   "outputs": [
    {
     "data": {
      "text/plain": [
       "\u001b[32mimport \u001b[39m\u001b[36mplotly._, plotly.element._, plotly.layout._, plotly.Almond._\n",
       "\u001b[39m"
      ]
     },
     "execution_count": 16,
     "metadata": {},
     "output_type": "execute_result"
    }
   ],
   "source": [
    "// 1. Import plotly libraries, and set display defaults suggested for use in Jupyter NBs:\n",
    "import plotly._, plotly.element._, plotly.layout._, plotly.Almond._\n",
    "repl.pprinter() = repl.pprinter().copy(defaultHeight = 3)"
   ]
  },
  {
   "cell_type": "code",
   "execution_count": 21,
   "metadata": {
    "collapsed": true
   },
   "outputs": [
    {
     "data": {
      "text/plain": [
       "\u001b[36mcharValues\u001b[39m: \u001b[32mVector\u001b[39m[\u001b[32mString\u001b[39m] = \u001b[33mVector\u001b[39m(\n",
       "  \u001b[32m\"x\"\u001b[39m,\n",
       "...\n",
       "\u001b[36mcharCounts\u001b[39m: \u001b[32mVector\u001b[39m[\u001b[32mInt\u001b[39m] = \u001b[33mVector\u001b[39m(\n",
       "  \u001b[32m1\u001b[39m,\n",
       "..."
      ]
     },
     "execution_count": 21,
     "metadata": {},
     "output_type": "execute_result"
    }
   ],
   "source": [
    "val charValues = charFreqs.sortBy(_.count).map(_.item.toString)\n",
    "val charCounts = charFreqs.sortBy(_.count).map(_.count)\n"
   ]
  },
  {
   "cell_type": "code",
   "execution_count": 23,
   "metadata": {},
   "outputs": [
    {
     "data": {
      "application/vnd.plotly.v1+json": {
       "data": [
        {
         "type": "bar",
         "x": [
          " ",
          "I",
          "A",
          "V",
          "S",
          "P",
          "N",
          "T",
          "C",
          "E",
          "R",
          "O",
          "G",
          "M",
          "L",
          "D",
          "-",
          "F",
          "X",
          "B",
          "H",
          "r",
          "o",
          "Q",
          "•",
          "[",
          "]",
          ".",
          "e",
          "Z",
          "_",
          "(",
          ")",
          "…",
          "n",
          "U",
          "˙",
          "i",
          "Y",
          "K",
          "l",
          "v",
          "a",
          "c",
          "d",
          "?",
          "|",
          "f",
          "b",
          "t",
          ":",
          "Ꜹ",
          "g",
          "s",
          "Ϥ",
          "∈",
          "☧",
          "*",
          "u",
          "/",
          "h",
          ",",
          "Ʈ",
          "←",
          "m",
          "Λ",
          "Γ",
          "θ",
          "p",
          "w",
          "J",
          "●",
          ";",
          "W",
          "+",
          "Κ",
          "̄",
          "Δ",
          "\\",
          "ϵ",
          "",
          "Α",
          "Π",
          "3",
          "Σ",
          "ϟ",
          "—",
          "̅",
          "ϕ",
          "Ä",
          "x"
         ],
         "y": [
          363616,
          218997,
          198333,
          188943,
          139162,
          112958,
          111202,
          96650,
          93436,
          92968,
          90780,
          89204,
          87043,
          66147,
          55881,
          30813,
          29988,
          26577,
          15567,
          13779,
          5939,
          4601,
          4552,
          2687,
          717,
          318,
          315,
          251,
          222,
          208,
          205,
          199,
          199,
          175,
          136,
          116,
          110,
          103,
          94,
          86,
          78,
          78,
          74,
          66,
          56,
          53,
          53,
          49,
          41,
          41,
          39,
          38,
          37,
          37,
          33,
          28,
          24,
          21,
          18,
          17,
          17,
          15,
          15,
          13,
          11,
          10,
          9,
          9,
          7,
          6,
          5,
          4,
          3,
          2,
          2,
          2,
          2,
          2,
          2,
          2,
          2,
          2,
          1,
          1,
          1,
          1,
          1,
          1,
          1,
          1,
          1
         ]
        }
       ],
       "layout": {}
      },
      "text/html": [
       "<div class=\"chart\" id=\"plot-c9df23b2-93ad-457d-9efd-cd72cf53b307\"></div>\n",
       "<script>require(['plotly'], function(Plotly) {\n",
       "  (function () {\n",
       "  var data0 = {\"x\":[\" \",\"I\",\"A\",\"V\",\"S\",\"P\",\"N\",\"T\",\"C\",\"E\",\"R\",\"O\",\"G\",\"M\",\"L\",\"D\",\"-\",\"F\",\"X\",\"B\",\"H\",\"r\",\"o\",\"Q\",\"•\",\"[\",\"]\",\".\",\"e\",\"Z\",\"_\",\"(\",\")\",\"…\",\"n\",\"U\",\"˙\",\"i\",\"Y\",\"K\",\"l\",\"v\",\"a\",\"c\",\"d\",\"?\",\"|\",\"f\",\"b\",\"t\",\":\",\"Ꜹ\",\"g\",\"s\",\"Ϥ\",\"∈\",\"☧\",\"*\",\"u\",\"/\",\"h\",\",\",\"Ʈ\",\"←\",\"m\",\"Λ\",\"Γ\",\"θ\",\"p\",\"w\",\"J\",\"●\",\";\",\"W\",\"+\",\"Κ\",\"̄\",\"Δ\",\"\\\\\",\"ϵ\",\"\",\"Α\",\"Π\",\"3\",\"Σ\",\"ϟ\",\"—\",\"̅\",\"ϕ\",\"Ä\",\"x\"],\"y\":[363616.0,218997.0,198333.0,188943.0,139162.0,112958.0,111202.0,96650.0,93436.0,92968.0,90780.0,89204.0,87043.0,66147.0,55881.0,30813.0,29988.0,26577.0,15567.0,13779.0,5939.0,4601.0,4552.0,2687.0,717.0,318.0,315.0,251.0,222.0,208.0,205.0,199.0,199.0,175.0,136.0,116.0,110.0,103.0,94.0,86.0,78.0,78.0,74.0,66.0,56.0,53.0,53.0,49.0,41.0,41.0,39.0,38.0,37.0,37.0,33.0,28.0,24.0,21.0,18.0,17.0,17.0,15.0,15.0,13.0,11.0,10.0,9.0,9.0,7.0,6.0,5.0,4.0,3.0,2.0,2.0,2.0,2.0,2.0,2.0,2.0,2.0,2.0,1.0,1.0,1.0,1.0,1.0,1.0,1.0,1.0,1.0],\"type\":\"bar\"};\n",
       "\n",
       "  var data = [data0];\n",
       "  var layout = {};\n",
       "\n",
       "  Plotly.plot('plot-c9df23b2-93ad-457d-9efd-cd72cf53b307', data, layout);\n",
       "})();\n",
       "});\n",
       "      </script>\n",
       "           "
      ]
     },
     "metadata": {},
     "output_type": "display_data"
    },
    {
     "data": {
      "text/plain": [
       "\u001b[36mcharHistPlot\u001b[39m: \u001b[32mSeq\u001b[39m[\u001b[32mBar\u001b[39m] = \u001b[33mList\u001b[39m(\n",
       "  \u001b[33mBar\u001b[39m(\n",
       "...\n",
       "\u001b[36mres22_1\u001b[39m: \u001b[32mString\u001b[39m = \u001b[32m\"plot-c9df23b2-93ad-457d-9efd-cd72cf53b307\"\u001b[39m"
      ]
     },
     "execution_count": 23,
     "metadata": {},
     "output_type": "execute_result"
    }
   ],
   "source": [
    "val charHistPlot = Seq(\n",
    "  Bar(x = charValues.reverse, y = charCounts.reverse)\n",
    ")\n",
    "plot(charHistPlot)\n",
    "     "
   ]
  },
  {
   "cell_type": "code",
   "execution_count": 26,
   "metadata": {},
   "outputs": [
    {
     "name": "stdout",
     "output_type": "stream",
     "text": [
      "Rare chars: \n",
      "Frequency(←,13)\n",
      "Frequency(m,11)\n",
      "Frequency(Λ,10)\n",
      "Frequency(Γ,9)\n",
      "Frequency(θ,9)\n",
      "Frequency(p,7)\n",
      "Frequency(w,6)\n",
      "Frequency(J,5)\n",
      "Frequency(●,4)\n",
      "Frequency(;,3)\n",
      "Frequency(W,2)\n",
      "Frequency(+,2)\n",
      "Frequency(Κ,2)\n",
      "Frequency(̄,2)\n",
      "Frequency(Δ,2)\n",
      "Frequency(\\,2)\n",
      "Frequency(ϵ,2)\n",
      "Frequency(,2)\n",
      "Frequency(Α,2)\n",
      "Frequency(Π,1)\n",
      "Frequency(3,1)\n",
      "Frequency(Σ,1)\n",
      "Frequency(ϟ,1)\n",
      "Frequency(—,1)\n",
      "Frequency(̅,1)\n",
      "Frequency(ϕ,1)\n",
      "Frequency(Ä,1)\n",
      "Frequency(x,1)\n"
     ]
    },
    {
     "data": {
      "text/plain": [
       "\u001b[36mrareChars\u001b[39m: \u001b[32mVector\u001b[39m[\u001b[32mFrequency\u001b[39m[\u001b[32mChar\u001b[39m]] = \u001b[33mVector\u001b[39m(\n",
       "  \u001b[33mFrequency\u001b[39m(\u001b[32m'\\u2190'\u001b[39m, \u001b[32m13\u001b[39m),\n",
       "...\n",
       "\u001b[36mlessRareChars\u001b[39m: \u001b[32mVector\u001b[39m[\u001b[32mFrequency\u001b[39m[\u001b[32mChar\u001b[39m]] = \u001b[33mVector\u001b[39m(\n",
       "  \u001b[33mFrequency\u001b[39m(\u001b[32m'E'\u001b[39m, \u001b[32m92968\u001b[39m),\n",
       "..."
      ]
     },
     "execution_count": 26,
     "metadata": {},
     "output_type": "execute_result"
    }
   ],
   "source": [
    "val rareChars = charFreqs.sortBy(_.count).reverse.filter(_.count < 15)\n",
    "val lessRareChars = charFreqs.filter(_.count >= 15)\n",
    "println(\"Rare chars: \\n\" + rareChars.mkString(\"\\n\"))"
   ]
  },
  {
   "cell_type": "code",
   "execution_count": 34,
   "metadata": {
    "collapsed": true
   },
   "outputs": [
    {
     "data": {
      "text/plain": [
       "\u001b[36mcharValues\u001b[39m: \u001b[32mVector\u001b[39m[\u001b[32mString\u001b[39m] = \u001b[33mVector\u001b[39m(\n",
       "  \u001b[32m\"x\"\u001b[39m,\n",
       "...\n",
       "\u001b[36malphaChars\u001b[39m: \u001b[32mString\u001b[39m = \u001b[32m\"ABCDEFGHIJKLMNOPQRSTUVWXYZ \"\u001b[39m\n",
       "\u001b[36msortedFreqs\u001b[39m: \u001b[32mVector\u001b[39m[\u001b[32mFrequency\u001b[39m[\u001b[32mChar\u001b[39m]] = \u001b[33mVector\u001b[39m(\n",
       "  \u001b[33mFrequency\u001b[39m(\u001b[32m' '\u001b[39m, \u001b[32m363616\u001b[39m),\n",
       "...\n",
       "\u001b[36mnonAlpha\u001b[39m: \u001b[32mVector\u001b[39m[\u001b[32mFrequency\u001b[39m[\u001b[32mChar\u001b[39m]] = \u001b[33mVector\u001b[39m(\n",
       "  \u001b[33mFrequency\u001b[39m(\u001b[32m'-'\u001b[39m, \u001b[32m29988\u001b[39m),\n",
       "..."
      ]
     },
     "execution_count": 34,
     "metadata": {},
     "output_type": "execute_result"
    }
   ],
   "source": [
    "val charValues = charFreqs.sortBy(_.count).map(_.item.toString)\n",
    "val alphaChars = \"ABCDEFGHIJKLMNOPQRSTUVWXYZ \"\n",
    "val sortedFreqs =  charFreqs.sortBy(_.count).reverse\n",
    "val nonAlpha =  sortedFreqs.filterNot(c => alphaChars.contains(c.item))\n"
   ]
  },
  {
   "cell_type": "code",
   "execution_count": 35,
   "metadata": {},
   "outputs": [
    {
     "name": "stdout",
     "output_type": "stream",
     "text": [
      "Non-alphabetic: \n",
      "Frequency(-,29988)\n",
      "Frequency(r,4601)\n",
      "Frequency(o,4552)\n",
      "Frequency(•,717)\n",
      "Frequency([,318)\n",
      "Frequency(],315)\n",
      "Frequency(.,251)\n",
      "Frequency(e,222)\n",
      "Frequency(_,205)\n",
      "Frequency((,199)\n",
      "Frequency(),199)\n",
      "Frequency(…,175)\n",
      "Frequency(n,136)\n",
      "Frequency(˙,110)\n",
      "Frequency(i,103)\n",
      "Frequency(l,78)\n",
      "Frequency(v,78)\n",
      "Frequency(a,74)\n",
      "Frequency(c,66)\n",
      "Frequency(d,56)\n",
      "Frequency(?,53)\n",
      "Frequency(|,53)\n",
      "Frequency(f,49)\n",
      "Frequency(b,41)\n",
      "Frequency(t,41)\n",
      "Frequency(:,39)\n",
      "Frequency(Ꜹ,38)\n",
      "Frequency(g,37)\n",
      "Frequency(s,37)\n",
      "Frequency(Ϥ,33)\n",
      "Frequency(∈,28)\n",
      "Frequency(☧,24)\n",
      "Frequency(*,21)\n",
      "Frequency(u,18)\n",
      "Frequency(/,17)\n",
      "Frequency(h,17)\n",
      "Frequency(,,15)\n",
      "Frequency(Ʈ,15)\n",
      "Frequency(←,13)\n",
      "Frequency(m,11)\n",
      "Frequency(Λ,10)\n",
      "Frequency(Γ,9)\n",
      "Frequency(θ,9)\n",
      "Frequency(p,7)\n",
      "Frequency(w,6)\n",
      "Frequency(●,4)\n",
      "Frequency(;,3)\n",
      "Frequency(+,2)\n",
      "Frequency(Κ,2)\n",
      "Frequency(̄,2)\n",
      "Frequency(Δ,2)\n",
      "Frequency(\\,2)\n",
      "Frequency(ϵ,2)\n",
      "Frequency(,2)\n",
      "Frequency(Α,2)\n",
      "Frequency(Π,1)\n",
      "Frequency(3,1)\n",
      "Frequency(Σ,1)\n",
      "Frequency(ϟ,1)\n",
      "Frequency(—,1)\n",
      "Frequency(̅,1)\n",
      "Frequency(ϕ,1)\n",
      "Frequency(Ä,1)\n",
      "Frequency(x,1)\n"
     ]
    }
   ],
   "source": [
    "println(\"Non-alphabetic: \\n\" + nonAlpha.mkString(\"\\n\"))"
   ]
  }
 ],
 "metadata": {
  "kernelspec": {
   "display_name": "Scala (2.12)",
   "language": "scala",
   "name": "scala212"
  },
  "language_info": {
   "codemirror_mode": "text/x-scala",
   "file_extension": ".scala",
   "mimetype": "text/x-scala",
   "name": "scala",
   "nbconvert_exporter": "script",
   "version": "2.12.10"
  }
 },
 "nbformat": 4,
 "nbformat_minor": 2
}
